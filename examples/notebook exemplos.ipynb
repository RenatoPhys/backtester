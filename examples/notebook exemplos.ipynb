{
 "cells": [
  {
   "cell_type": "markdown",
   "id": "dbe691e1",
   "metadata": {
    "toc": true
   },
   "source": [
    "<h1>Table of Contents<span class=\"tocSkip\"></span></h1>\n",
    "<div class=\"toc\"><ul class=\"toc-item\"></ul></div>"
   ]
  },
  {
   "cell_type": "code",
   "execution_count": 3,
   "id": "3dbe7240",
   "metadata": {
    "ExecuteTime": {
     "end_time": "2025-05-02T23:46:43.847020Z",
     "start_time": "2025-05-02T23:46:40.975209Z"
    }
   },
   "outputs": [
    {
     "name": "stderr",
     "output_type": "stream",
     "text": [
      "C:\\Users\\User\\anaconda3\\lib\\site-packages\\pandas\\core\\computation\\expressions.py:21: UserWarning: Pandas requires version '2.8.4' or newer of 'numexpr' (version '2.8.3' currently installed).\n",
      "  from pandas.core.computation.check import NUMEXPR_INSTALLED\n",
      "C:\\Users\\User\\anaconda3\\lib\\site-packages\\pandas\\core\\arrays\\masked.py:60: UserWarning: Pandas requires version '1.3.6' or newer of 'bottleneck' (version '1.3.5' currently installed).\n",
      "  from pandas.core import (\n"
     ]
    }
   ],
   "source": [
    "# Importando as bibliotecas\n",
    "import numpy as np # pacote para funções matemáticas\n",
    "import pandas as pd # pacote para a manipulação dos dados em tabela\n",
    "import warnings\n",
    "import itertools\n",
    "from IPython.display import display # Allows the use of display() for DataFrames\n",
    "import matplotlib.pyplot as plt # pacote para fazer gráficos\n",
    "import matplotlib.patches as mpatches\n",
    "import seaborn as sns\n",
    "import datetime as dt\n",
    "from sklearn.preprocessing import MinMaxScaler\n",
    "import plotly.express as px\n",
    "import plotly.graph_objects as go\n",
    "import scikitplot as skplt\n",
    "import sqlite3 as sql\n",
    "\n",
    "import pandas_ta as ta\n",
    "import talib\n",
    "\n",
    "import mplfinance as mpf\n",
    "\n",
    "import optuna\n",
    "from optuna.visualization import plot_contour\n",
    "from optuna.visualization import plot_edf\n",
    "from optuna.visualization import plot_intermediate_values\n",
    "from optuna.visualization import plot_optimization_history\n",
    "from optuna.visualization import plot_parallel_coordinate\n",
    "from optuna.visualization import plot_param_importances\n",
    "from optuna.visualization import plot_slice\n",
    "\n",
    "pd.set_option(\"display.max_columns\", 40)\n",
    "pd.set_option('display.max_rows', 500)"
   ]
  },
  {
   "cell_type": "code",
   "execution_count": 4,
   "id": "dcfeabbb",
   "metadata": {
    "ExecuteTime": {
     "end_time": "2025-05-02T23:46:44.112834Z",
     "start_time": "2025-05-02T23:46:43.847020Z"
    }
   },
   "outputs": [],
   "source": [
    "from forex_backtester import Backtester\n",
    "from forex_backtester.strategy_generator import StrategyOptimizer\n",
    "#from forex_backtester.strategies.indicators import bollinger_bands"
   ]
  },
  {
   "cell_type": "code",
   "execution_count": 5,
   "id": "51f9c2f2",
   "metadata": {
    "ExecuteTime": {
     "end_time": "2025-05-02T23:46:44.128689Z",
     "start_time": "2025-05-02T23:46:44.114384Z"
    },
    "code_folding": [
     6,
     63,
     121
    ]
   },
   "outputs": [],
   "source": [
    "\n",
    "\n",
    "\n",
    "path_b3 = 'C:/Users/User/OneDrive/Documentos/rnt/Finance/Trading Projects/00.database/candlestick data/futuros/'\n",
    "path_tickmill = 'C:/Users/User/OneDrive/Documentos/rnt/Finance/Trading Projects/00.database/tickmill/forex/'\n",
    "\n",
    "dict_custos = {'WIN@N':0.2*5, 'WDO@N':2.40/2,\n",
    "                                     'AUDUSD': 3,\n",
    "                                     'EURUSD': 3,\n",
    "                                     'GBPUSD': 3,\n",
    "                                     'NZDUSD': 3,\n",
    "                                     'USDCHF': 3,\n",
    "                                     'USDJPY': 3,\n",
    "                                     'AUDCAD': 3,\n",
    "                                     'AUDCHF': 3,\n",
    "                                     'AUDJPY': 3,\n",
    "                                     'AUDNZD': 3,\n",
    "                                     'CADCHF': 3,\n",
    "                                     'CADJPY': 3,\n",
    "                                     'CHFJPY': 3,\n",
    "                                     'EURAUD': 3,\n",
    "                                     'EURCAD': 3,\n",
    "                                     'EURCHF': 3,\n",
    "                                     'EURGBP': 3,\n",
    "                                     'EURHKD': 3,\n",
    "                                     'EURJPY': 3,\n",
    "                                     'EURMXN': 3,\n",
    "                                     'EURNZD': 3,\n",
    "                                     'EURTRY': 3,\n",
    "                                     'GBPCAD': 3,\n",
    "                                     'GBPCHF': 3,\n",
    "                                     'GBPJPY': 3,\n",
    "                                     'USDCNH': 3,\n",
    "                                     'USDCZK': 3,\n",
    "                                     'USDMXN': 3,\n",
    "                                     'USDTRY': 3,\n",
    "                                     'XAGUSD': 3,\n",
    "                                     'XAUUSD': 3,\n",
    "                                     'STOXX50': 3,\n",
    "                                     'UK100': 3,\n",
    "                                     'FRANCE40': 3,\n",
    "                                     'VIX': 3,\n",
    "                                     'ALUMINIUM': 3,\n",
    "                                     'PLATINUM': 3,\n",
    "                                     'LEAD': 3,\n",
    "                                     'NICKEL': 3,\n",
    "                                     'PALLADIUM': 3,\n",
    "                                     'ZINC': 3,\n",
    "                                     'COPPER': 3,\n",
    "                                     'DXY': 3,\n",
    "                                     'COCOA': 3,\n",
    "                                     'SUGAR': 3,\n",
    "                                     'WHEAT': 3,\n",
    "                                     'US500': 3,\n",
    "                                     'NAT.GAS': 3,\n",
    "                                     'BRENT': 3,\n",
    "                                     'EEM': 3,\n",
    "                                     'EWZ': 3,\n",
    "                                     'IWM': 3,\n",
    "                                     'TLT': 3,\n",
    "                                     'SPY': 3,\n",
    "                                     'DIA': 3}\n",
    "\n",
    "dict_valor_lot = {'WIN@N':0.2, 'WDO@N':10.0,\n",
    "                                'USDCAD': 100000,\n",
    "                                 'AUDUSD': 100000,\n",
    "                                 'EURUSD': 100000,\n",
    "                                 'GBPUSD': 100000,\n",
    "                                 'NZDUSD': 100000,\n",
    "                                 'USDCHF': 100000,\n",
    "                                 'USDJPY': 100000,\n",
    "                                 'AUDCAD': 100000,\n",
    "                                 'AUDCHF': 100000,\n",
    "                                 'AUDJPY': 100000,\n",
    "                                 'AUDNZD': 100000,\n",
    "                                 'CADCHF': 100000,\n",
    "                                 'CADJPY': 100000,\n",
    "                                 'CHFJPY': 100000,\n",
    "                                 'EURAUD': 100000,\n",
    "                                 'EURCAD': 100000,\n",
    "                                 'EURCHF': 100000,\n",
    "                                 'EURGBP': 100000,\n",
    "                                 'EURHKD': 100000,\n",
    "                                 'EURJPY': 100000,\n",
    "                                 'EURMXN': 100000,\n",
    "                                 'EURNZD': 100000,\n",
    "                                 'EURTRY': 100000,\n",
    "                                 'GBPCAD': 100000,\n",
    "                                 'GBPCHF': 100000,\n",
    "                                 'GBPJPY': 100000,\n",
    "                                 'USDCNH': 100000,\n",
    "                                 'USDCZK': 100000,\n",
    "                                 'USDMXN': 100000,\n",
    "                                 'USDTRY': 100000,\n",
    "                                 'XAGUSD': 100000,\n",
    "                                 'XAUUSD': 100000,\n",
    "                                 'STOXX50': 100000,\n",
    "                                 'UK100': 100000,\n",
    "                                 'FRANCE40': 100000,\n",
    "                                 'VIX': 100000,\n",
    "                                 'ALUMINIUM': 100000,\n",
    "                                 'PLATINUM': 100000,\n",
    "                                 'LEAD': 100000,\n",
    "                                 'NICKEL': 100000,\n",
    "                                 'PALLADIUM': 100000,\n",
    "                                 'ZINC': 100000,\n",
    "                                 'COPPER': 100000,\n",
    "                                 'DXY': 100000,\n",
    "                                 'COCOA': 100000,\n",
    "                                 'SUGAR': 100000,\n",
    "                                 'WHEAT': 100000,\n",
    "                                 'US500': 100000,\n",
    "                                 'NAT.GAS': 100000,\n",
    "                                 'BRENT': 100000,\n",
    "                                 'EEM': 100000,\n",
    "                                 'EWZ': 100000,\n",
    "                                 'IWM': 100000,\n",
    "                                 'TLT': 100000,\n",
    "                                 'SPY': 100000,\n",
    "                                 'DIA': 100000}\n",
    "\n",
    "dict_path = {'WIN@N':path_b3, 'WDO@N':path_b3, \n",
    "                              'USDCAD': path_tickmill,\n",
    "                             'AUDUSD': path_tickmill,\n",
    "                             'EURUSD': path_tickmill,\n",
    "                             'GBPUSD': path_tickmill,\n",
    "                             'NZDUSD': path_tickmill,\n",
    "                             'USDCHF': path_tickmill,\n",
    "                             'USDJPY': path_tickmill,\n",
    "                             'AUDCAD': path_tickmill,\n",
    "                             'AUDCHF': path_tickmill,\n",
    "                             'AUDJPY': path_tickmill,\n",
    "                             'AUDNZD': path_tickmill,\n",
    "                             'CADCHF': path_tickmill,\n",
    "                             'CADJPY': path_tickmill,\n",
    "                             'CHFJPY': path_tickmill,\n",
    "                             'EURAUD': path_tickmill,\n",
    "                             'EURCAD': path_tickmill,\n",
    "                             'EURCHF': path_tickmill,\n",
    "                             'EURGBP': path_tickmill,\n",
    "                             'EURHKD': path_tickmill,\n",
    "                             'EURJPY': path_tickmill,\n",
    "                             'EURMXN': path_tickmill,\n",
    "                             'EURNZD': path_tickmill,\n",
    "                             'EURTRY': path_tickmill,\n",
    "                             'GBPCAD': path_tickmill,\n",
    "                             'GBPCHF': path_tickmill,\n",
    "                             'GBPJPY': path_tickmill,\n",
    "                             'USDCNH': path_tickmill,\n",
    "                             'USDCZK': path_tickmill,\n",
    "                             'USDMXN': path_tickmill,\n",
    "                             'USDTRY': path_tickmill,\n",
    "                             'XAGUSD': path_tickmill,\n",
    "                             'XAUUSD': path_tickmill,\n",
    "                             'STOXX50': path_tickmill,\n",
    "                             'UK100': path_tickmill,\n",
    "                             'FRANCE40': path_tickmill,\n",
    "                             'VIX': path_tickmill,\n",
    "                             'ALUMINIUM': path_tickmill,\n",
    "                             'PLATINUM': path_tickmill,\n",
    "                             'LEAD': path_tickmill,\n",
    "                             'NICKEL': path_tickmill,\n",
    "                             'PALLADIUM': path_tickmill,\n",
    "                             'ZINC': path_tickmill,\n",
    "                             'COPPER': path_tickmill,\n",
    "                             'DXY': path_tickmill,\n",
    "                             'COCOA': path_tickmill,\n",
    "                             'SUGAR': path_tickmill,\n",
    "                             'WHEAT': path_tickmill,\n",
    "                             'US500': path_tickmill,\n",
    "                             'NAT.GAS': path_tickmill,\n",
    "                             'BRENT': path_tickmill,\n",
    "                             'EEM': path_tickmill,\n",
    "                             'EWZ': path_tickmill,\n",
    "                             'IWM': path_tickmill,\n",
    "                             'TLT': path_tickmill,\n",
    "                             'SPY': path_tickmill,\n",
    "                             'DIA': path_tickmill}"
   ]
  },
  {
   "cell_type": "code",
   "execution_count": 6,
   "id": "f0d45811",
   "metadata": {
    "ExecuteTime": {
     "end_time": "2025-05-02T23:46:44.148052Z",
     "start_time": "2025-05-02T23:46:44.129730Z"
    }
   },
   "outputs": [],
   "source": [
    "def entrada(df, bb_length, std, allowed_hours=None, position_type=\"both\"):\n",
    "    \"\"\"\n",
    "    Estratégia baseada em Bandas de Bollinger.\n",
    "    \n",
    "    Args:\n",
    "        df (pandas.DataFrame): DataFrame com dados OHLC.\n",
    "        bb_length (int): Período para cálculo da média e desvio padrão.\n",
    "        std (float): Número de desvios padrão para as bandas.\n",
    "        allowed_hours (list): Horas que vamos executar a estratégia.\n",
    "        position_type (str): Tipo de posições permitidas:\n",
    "                            - \"long\": Apenas posições de compra (+1)\n",
    "                            - \"short\": Apenas posições de venda (-1)\n",
    "                            - \"both\": Ambas as posições (padrão)\n",
    "        \n",
    "    Returns:\n",
    "        pandas.Series: Posições (-1=short, 0=neutro, 1=long)\n",
    "    \"\"\"\n",
    "    df = df.copy()  # Para evitar SettingWithCopyWarning\n",
    "    \n",
    "    aux = df.ta.bbands(length=bb_length, std=std)\n",
    "    df[f\"BBL_{bb_length}_{std}\"] = aux[f\"BBL_{bb_length}_{std}\"]\n",
    "    df[f\"BBU_{bb_length}_{std}\"] = aux[f\"BBU_{bb_length}_{std}\"]\n",
    "    df[f\"BBM_{bb_length}_{std}\"] = aux[f\"BBM_{bb_length}_{std}\"]    \n",
    "    \n",
    "    # Inicializar a coluna de posição com zeros\n",
    "    df['position'] = 0\n",
    "    \n",
    "    # Calculando entradas (buy/sell)\n",
    "    cond1 = (df.close < df[f\"BBL_{bb_length}_{std}\"]) & (df.close.shift(+1) >= df[f\"BBL_{bb_length}_{std}\"].shift(+1))\n",
    "    cond2 = (df.close > df[f\"BBU_{bb_length}_{std}\"]) & (df.close.shift(+1) <= df[f\"BBU_{bb_length}_{std}\"].shift(+1))\n",
    "    \n",
    "    # Aplicar as posições de acordo com o parâmetro position_type\n",
    "    if position_type.lower() == \"both\":\n",
    "        df.loc[cond1, \"position\"] = +1\n",
    "        df.loc[cond2, \"position\"] = -1\n",
    "    elif position_type.lower() == \"long\":\n",
    "        df.loc[cond2, \"position\"] = -1\n",
    "    elif position_type.lower() == \"short\":\n",
    "        df.loc[cond1, \"position\"] = +1\n",
    "    else:\n",
    "        raise ValueError(\"position_type deve ser 'long', 'short' ou 'both'\")\n",
    "    \n",
    "    # Restrição de horários\n",
    "    if allowed_hours is not None:\n",
    "        # Zera posição fora dos horários permitidos\n",
    "        current_hours = df.index.to_series().dt.hour\n",
    "        df.loc[~current_hours.isin(allowed_hours), 'position'] = 0\n",
    "    \n",
    "    return df['position']\n"
   ]
  },
  {
   "cell_type": "code",
   "execution_count": 18,
   "id": "b0c84548",
   "metadata": {
    "ExecuteTime": {
     "end_time": "2025-05-03T00:12:47.320018Z",
     "start_time": "2025-05-03T00:12:47.312937Z"
    }
   },
   "outputs": [],
   "source": [
    "def entrada(df, allowed_hours=None, position_type=\"both\", length_rsi=14, rsi_low=30, rsi_high=70):\n",
    "    \"\"\"\n",
    "    Estratégia de entrada baseada na variação percentual de preços e RSI inverso.\n",
    "    \n",
    "    Args:\n",
    "        df (pandas.DataFrame): DataFrame com dados OHLC.\n",
    "        allowed_hours (list): Lista de horas permitidas para operar.\n",
    "        position_type (str): Tipo de posição permitida: \"long\", \"short\" ou \"both\".\n",
    "        length_rsi (int): Período para cálculo do RSI.\n",
    "        rsi_low (int): Nível de sobrevenda do RSI (para entrar vendido).\n",
    "        rsi_high (int): Nível de sobrecompra do RSI (para entrar comprado).\n",
    "        \n",
    "    Returns:\n",
    "        pandas.Series: Posições (-1=short, 0=neutro, 1=long)\n",
    "    \"\"\"\n",
    "    \n",
    "    df = df.copy()  # Para evitar SettingWithCopyWarning\n",
    "    \n",
    "    # Calcular a variação percentual\n",
    "    df['pct_change'] = df['close'].pct_change().fillna(0)\n",
    "    \n",
    "    # Calcula o RSI\n",
    "    df['rsi'] = df.ta.rsi(length= length_rsi).fillna(0)\n",
    "    \n",
    "    # Determinar posições com base no position_type e RSI (lógica inversa)\n",
    "    if position_type == \"long\":\n",
    "        # Apenas posições de compra (long) quando RSI > rsi_high\n",
    "        df['position'] = np.where((df['pct_change'] > 0) & (df['rsi'] > rsi_high), 1, 0)\n",
    "    elif position_type == \"short\":\n",
    "        # Apenas posições de venda (short) quando RSI < rsi_low\n",
    "        df['position'] = np.where((df['pct_change'] < 0) & (df['rsi'] < rsi_low), -1, 0)\n",
    "    else:  # \"both\" ou qualquer outro valor padrão\n",
    "        # Compra quando RSI > rsi_high e preço subindo\n",
    "        long_condition = (df['pct_change'] > 0) & (df['rsi'] > rsi_high)\n",
    "        # Venda quando RSI < rsi_low e preço caindo\n",
    "        short_condition = (df['pct_change'] < 0) & (df['rsi'] < rsi_low)\n",
    "        \n",
    "        df['position'] = np.where(long_condition, 1, np.where(short_condition, -1, 0))\n",
    "    \n",
    "    # Restrição de horários\n",
    "    if allowed_hours is not None:\n",
    "        # Zera posição fora dos horários permitidos\n",
    "        current_hours = df.index.to_series().dt.hour\n",
    "        df.loc[~current_hours.isin(allowed_hours), 'position'] = 0\n",
    "    \n",
    "    return df['position']"
   ]
  },
  {
   "cell_type": "code",
   "execution_count": 8,
   "id": "011fc6af",
   "metadata": {
    "ExecuteTime": {
     "end_time": "2025-05-02T23:46:44.241690Z",
     "start_time": "2025-05-02T23:46:44.230346Z"
    }
   },
   "outputs": [],
   "source": [
    "#params = {'sl': 0.10000, 'tp': 0.20000, 'BB_LENGTH': 8, 'STD': 1.7}"
   ]
  },
  {
   "cell_type": "code",
   "execution_count": 19,
   "id": "f8f4a6b4",
   "metadata": {
    "ExecuteTime": {
     "end_time": "2025-05-03T00:12:56.182400Z",
     "start_time": "2025-05-03T00:12:56.176704Z"
    },
    "code_folding": []
   },
   "outputs": [],
   "source": [
    "# Símbolo a ser otimizado\n",
    "sym = 'USDJPY'\n",
    "sym = 'WDO@N'\n",
    "sym = 'WIN@N'\n",
    "\n",
    "# Criar o otimizador com as configurações base\n",
    "optimizer = StrategyOptimizer(\n",
    "    symbol=sym,\n",
    "    timeframe='t5',\n",
    "    data_ini='2020-01-01',\n",
    "    data_fim='2024-12-31',\n",
    "    initial_cash=30000,\n",
    "    lote=1,\n",
    "    slippage=0,\n",
    "    daytrade=True,\n",
    "    path_base= dict_path[sym],\n",
    "    num_trials=45,\n",
    "    max_workers=1,\n",
    "    export_dir='./resultados',\n",
    "    tc=dict_custos[sym],\n",
    "    valor_lote=dict_valor_lot[sym],\n",
    "    optimize_metric='total_return',\n",
    "    direction='maximize'\n",
    ")\n",
    "\n",
    "# Definir os ranges de parâmetros para otimização\n",
    "param_ranges = {\n",
    "    #'tp': (0.03000, 0.40000),           \n",
    "    #'sl': (0.03000, 0.40000),\n",
    "    #'tp': (2.0, 32.0, 0.1),\n",
    "    'tp': (80, 1800, 0.1),           \n",
    "    'sl': (80, 1800, 0.1),\n",
    "    \"length_rsi\": (6, 9, 1),\n",
    "    \"rsi_low\": (25, 45, 1),\n",
    "    \"rsi_high\": (55, 85, 1),\n",
    "    #'sl': (2.0, 32.0, 0.1), \n",
    "    #'bb_length': (6, 9),      \n",
    "    #'std': (0.8, 1.9, 0.1) ,\n",
    "    #'position_type': ['long', 'short', 'both'] \n",
    "}\n",
    "\n",
    "# Parâmetros fixos (opcionais)\n",
    "fixed_params = {\n",
    "    # Pode adicionar parâmetros fixos aqui se necessário\n",
    "}\n",
    "\n",
    "# Executar o pipeline completo em uma única chamada\n",
    "#optimizer.run(\n",
    "#    signal_function=bollinger_bands,\n",
    "#    param_ranges=param_ranges,\n",
    "#    fixed_params=fixed_params,\n",
    "#    hours_to_optimize=[2, 3, 4, 5, 6, 7, 8, 9, 10, 11, 12, 13, 14, 15, 16, 17, 18, 19, 20, 21, 22],\n",
    "#    min_threshold=0.7\n",
    "#)\n",
    "\n"
   ]
  },
  {
   "cell_type": "code",
   "execution_count": 20,
   "id": "d5e48974",
   "metadata": {
    "ExecuteTime": {
     "end_time": "2025-05-03T00:12:56.959307Z",
     "start_time": "2025-05-03T00:12:56.952709Z"
    }
   },
   "outputs": [
    {
     "data": {
      "text/plain": [
       "<forex_backtester.strategy_generator.StrategyOptimizer at 0x2361d532070>"
      ]
     },
     "execution_count": 20,
     "metadata": {},
     "output_type": "execute_result"
    }
   ],
   "source": [
    "# Alternativamente, você pode executar cada passo separadamente:\n",
    "\n",
    "# 1. Configurar a função de estratégia e os ranges de parâmetros\n",
    "optimizer.strategy_function = entrada\n",
    "optimizer.set_param_ranges(param_ranges)\n",
    "optimizer.set_fixed_params(fixed_params)"
   ]
  },
  {
   "cell_type": "code",
   "execution_count": 21,
   "id": "5fb74ee2",
   "metadata": {
    "ExecuteTime": {
     "end_time": "2025-05-03T00:12:57.369631Z",
     "start_time": "2025-05-03T00:12:57.358044Z"
    }
   },
   "outputs": [
    {
     "data": {
      "text/plain": [
       "{'tp': (80, 1800, 0.1),\n",
       " 'sl': (80, 1800, 0.1),\n",
       " 'length_rsi': (6, 9, 1),\n",
       " 'rsi_low': (25, 45, 1),\n",
       " 'rsi_high': (55, 85, 1)}"
      ]
     },
     "execution_count": 21,
     "metadata": {},
     "output_type": "execute_result"
    }
   ],
   "source": [
    "optimizer.param_ranges"
   ]
  },
  {
   "cell_type": "code",
   "execution_count": 22,
   "id": "1e50e408",
   "metadata": {
    "ExecuteTime": {
     "end_time": "2025-05-03T00:12:59.056358Z",
     "start_time": "2025-05-03T00:12:59.048894Z"
    }
   },
   "outputs": [
    {
     "data": {
      "text/plain": [
       "'./resultados\\\\run_WIN@N_20250502_211259'"
      ]
     },
     "execution_count": 22,
     "metadata": {},
     "output_type": "execute_result"
    }
   ],
   "source": [
    "# 2. Configurar diretórios\n",
    "optimizer.setup_dirs()"
   ]
  },
  {
   "cell_type": "code",
   "execution_count": 23,
   "id": "0a400178",
   "metadata": {
    "ExecuteTime": {
     "end_time": "2025-05-03T00:16:52.938641Z",
     "start_time": "2025-05-03T00:13:01.708025Z"
    },
    "scrolled": true
   },
   "outputs": [
    {
     "name": "stderr",
     "output_type": "stream",
     "text": [
      "\u001b[32m[I 2025-05-02 21:13:01,710]\u001b[0m A new study created in memory with name: hora_10\u001b[0m\n"
     ]
    },
    {
     "name": "stdout",
     "output_type": "stream",
     "text": [
      "Iniciando otimização serial para 8 horas...\n",
      "\n",
      "==================================================\n",
      "Otimizando estratégia para hora: 10:00\n",
      "Métrica: total_return - Direção: maximize\n",
      "==================================================\n",
      "Iniciando otimização com 45 trials para hora 10...\n",
      "Trial 0 para hora 10: Testando estratégia com parâmetros {'length_rsi': 9.0, 'rsi_low': 41.0, 'rsi_high': 80.0}\n",
      "Trial 0 para hora 10: Usando backtester com TP=120.90000, SL=989.10000\n",
      "Executando backtest para trial 0, hora 10...\n"
     ]
    },
    {
     "name": "stderr",
     "output_type": "stream",
     "text": [
      "\u001b[32m[I 2025-05-02 21:13:02,687]\u001b[0m Trial 0 finished with value: -6882.59999999938 and parameters: {'tp': 120.9, 'sl': 989.1, 'length_rsi': 9.0, 'rsi_low': 41.0, 'rsi_high': 80.0}. Best is trial 0 with value: -6882.59999999938.\u001b[0m\n"
     ]
    },
    {
     "name": "stdout",
     "output_type": "stream",
     "text": [
      "Trial 0 concluído: total_return = -6882.6000\n",
      "Trial 1 para hora 10: Testando estratégia com parâmetros {'length_rsi': 9.0, 'rsi_low': 26.0, 'rsi_high': 80.0}\n",
      "Trial 1 para hora 10: Usando backtester com TP=730.00000, SL=614.60000\n",
      "Executando backtest para trial 1, hora 10...\n"
     ]
    },
    {
     "name": "stderr",
     "output_type": "stream",
     "text": [
      "\u001b[32m[I 2025-05-02 21:13:03,303]\u001b[0m Trial 1 finished with value: 10233.639999999963 and parameters: {'tp': 730.0, 'sl': 614.6, 'length_rsi': 9.0, 'rsi_low': 26.0, 'rsi_high': 80.0}. Best is trial 1 with value: 10233.639999999963.\u001b[0m\n"
     ]
    },
    {
     "name": "stdout",
     "output_type": "stream",
     "text": [
      "Trial 1 concluído: total_return = 10233.6400\n",
      "Trial 2 para hora 10: Testando estratégia com parâmetros {'length_rsi': 8.0, 'rsi_low': 40.0, 'rsi_high': 55.0}\n",
      "Trial 2 para hora 10: Usando backtester com TP=1113.90000, SL=1563.30000\n",
      "Executando backtest para trial 2, hora 10...\n"
     ]
    },
    {
     "name": "stderr",
     "output_type": "stream",
     "text": [
      "\u001b[32m[I 2025-05-02 21:13:03,948]\u001b[0m Trial 2 finished with value: 33998.4399999985 and parameters: {'tp': 1113.9, 'sl': 1563.3000000000002, 'length_rsi': 8.0, 'rsi_low': 40.0, 'rsi_high': 55.0}. Best is trial 2 with value: 33998.4399999985.\u001b[0m\n"
     ]
    },
    {
     "name": "stdout",
     "output_type": "stream",
     "text": [
      "Trial 2 concluído: total_return = 33998.4400\n",
      "Trial 3 para hora 10: Testando estratégia com parâmetros {'length_rsi': 6.0, 'rsi_low': 45.0, 'rsi_high': 73.0}\n",
      "Trial 3 para hora 10: Usando backtester com TP=639.50000, SL=367.00000\n",
      "Executando backtest para trial 3, hora 10...\n"
     ]
    },
    {
     "name": "stderr",
     "output_type": "stream",
     "text": [
      "\u001b[32m[I 2025-05-02 21:13:04,586]\u001b[0m Trial 3 finished with value: 27101.89999999915 and parameters: {'tp': 639.5, 'sl': 367.0, 'length_rsi': 6.0, 'rsi_low': 45.0, 'rsi_high': 73.0}. Best is trial 2 with value: 33998.4399999985.\u001b[0m\n"
     ]
    },
    {
     "name": "stdout",
     "output_type": "stream",
     "text": [
      "Trial 3 concluído: total_return = 27101.9000\n",
      "Trial 4 para hora 10: Testando estratégia com parâmetros {'length_rsi': 8.0, 'rsi_low': 29.0, 'rsi_high': 58.0}\n",
      "Trial 4 para hora 10: Usando backtester com TP=1491.50000, SL=272.40000\n",
      "Executando backtest para trial 4, hora 10...\n"
     ]
    },
    {
     "name": "stderr",
     "output_type": "stream",
     "text": [
      "\u001b[32m[I 2025-05-02 21:13:05,204]\u001b[0m Trial 4 finished with value: 30606.240000000842 and parameters: {'tp': 1491.5, 'sl': 272.4, 'length_rsi': 8.0, 'rsi_low': 29.0, 'rsi_high': 58.0}. Best is trial 2 with value: 33998.4399999985.\u001b[0m\n"
     ]
    },
    {
     "name": "stdout",
     "output_type": "stream",
     "text": [
      "Trial 4 concluído: total_return = 30606.2400\n",
      "Trial 5 para hora 10: Testando estratégia com parâmetros {'length_rsi': 7.0, 'rsi_low': 28.0, 'rsi_high': 65.0}\n",
      "Trial 5 para hora 10: Usando backtester com TP=413.70000, SL=444.80000\n",
      "Executando backtest para trial 5, hora 10...\n"
     ]
    },
    {
     "name": "stderr",
     "output_type": "stream",
     "text": [
      "\u001b[32m[I 2025-05-02 21:13:05,835]\u001b[0m Trial 5 finished with value: -2367.7400000002526 and parameters: {'tp': 413.70000000000005, 'sl': 444.8, 'length_rsi': 7.0, 'rsi_low': 28.0, 'rsi_high': 65.0}. Best is trial 2 with value: 33998.4399999985.\u001b[0m\n"
     ]
    },
    {
     "name": "stdout",
     "output_type": "stream",
     "text": [
      "Trial 5 concluído: total_return = -2367.7400\n",
      "Trial 6 para hora 10: Testando estratégia com parâmetros {'length_rsi': 8.0, 'rsi_low': 31.0, 'rsi_high': 57.0}\n",
      "Trial 6 para hora 10: Usando backtester com TP=934.70000, SL=565.20000\n",
      "Executando backtest para trial 6, hora 10...\n"
     ]
    },
    {
     "name": "stderr",
     "output_type": "stream",
     "text": [
      "\u001b[32m[I 2025-05-02 21:13:06,453]\u001b[0m Trial 6 finished with value: 16111.819999998974 and parameters: {'tp': 934.7, 'sl': 565.2, 'length_rsi': 8.0, 'rsi_low': 31.0, 'rsi_high': 57.0}. Best is trial 2 with value: 33998.4399999985.\u001b[0m\n"
     ]
    },
    {
     "name": "stdout",
     "output_type": "stream",
     "text": [
      "Trial 6 concluído: total_return = 16111.8200\n",
      "Trial 7 para hora 10: Testando estratégia com parâmetros {'length_rsi': 8.0, 'rsi_low': 45.0, 'rsi_high': 68.0}\n",
      "Trial 7 para hora 10: Usando backtester com TP=1338.80000, SL=1065.30000\n",
      "Executando backtest para trial 7, hora 10...\n"
     ]
    },
    {
     "name": "stderr",
     "output_type": "stream",
     "text": [
      "\u001b[32m[I 2025-05-02 21:13:07,086]\u001b[0m Trial 7 finished with value: 47568.21999999955 and parameters: {'tp': 1338.8000000000002, 'sl': 1065.3000000000002, 'length_rsi': 8.0, 'rsi_low': 45.0, 'rsi_high': 68.0}. Best is trial 7 with value: 47568.21999999955.\u001b[0m\n"
     ]
    },
    {
     "name": "stdout",
     "output_type": "stream",
     "text": [
      "Trial 7 concluído: total_return = 47568.2200\n",
      "Trial 8 para hora 10: Testando estratégia com parâmetros {'length_rsi': 9.0, 'rsi_low': 30.0, 'rsi_high': 72.0}\n",
      "Trial 8 para hora 10: Usando backtester com TP=582.30000, SL=579.20000\n",
      "Executando backtest para trial 8, hora 10...\n"
     ]
    },
    {
     "name": "stderr",
     "output_type": "stream",
     "text": [
      "\u001b[32m[I 2025-05-02 21:13:07,703]\u001b[0m Trial 8 finished with value: 11211.159999999734 and parameters: {'tp': 582.3, 'sl': 579.2, 'length_rsi': 9.0, 'rsi_low': 30.0, 'rsi_high': 72.0}. Best is trial 7 with value: 47568.21999999955.\u001b[0m\n"
     ]
    },
    {
     "name": "stdout",
     "output_type": "stream",
     "text": [
      "Trial 8 concluído: total_return = 11211.1600\n",
      "Trial 9 para hora 10: Testando estratégia com parâmetros {'length_rsi': 6.0, 'rsi_low': 44.0, 'rsi_high': 60.0}\n",
      "Trial 9 para hora 10: Usando backtester com TP=625.40000, SL=230.20000\n",
      "Executando backtest para trial 9, hora 10...\n"
     ]
    },
    {
     "name": "stderr",
     "output_type": "stream",
     "text": [
      "\u001b[32m[I 2025-05-02 21:13:08,320]\u001b[0m Trial 9 finished with value: 11643.759999997972 and parameters: {'tp': 625.4, 'sl': 230.20000000000002, 'length_rsi': 6.0, 'rsi_low': 44.0, 'rsi_high': 60.0}. Best is trial 7 with value: 47568.21999999955.\u001b[0m\n"
     ]
    },
    {
     "name": "stdout",
     "output_type": "stream",
     "text": [
      "Trial 9 concluído: total_return = 11643.7600\n",
      "Trial 10 para hora 10: Testando estratégia com parâmetros {'length_rsi': 7.0, 'rsi_low': 36.0, 'rsi_high': 66.0}\n",
      "Trial 10 para hora 10: Usando backtester com TP=1780.30000, SL=1210.80000\n",
      "Executando backtest para trial 10, hora 10...\n"
     ]
    },
    {
     "name": "stderr",
     "output_type": "stream",
     "text": [
      "\u001b[32m[I 2025-05-02 21:13:08,954]\u001b[0m Trial 10 finished with value: 43463.619999998584 and parameters: {'tp': 1780.3000000000002, 'sl': 1210.8, 'length_rsi': 7.0, 'rsi_low': 36.0, 'rsi_high': 66.0}. Best is trial 7 with value: 47568.21999999955.\u001b[0m\n"
     ]
    },
    {
     "name": "stdout",
     "output_type": "stream",
     "text": [
      "Trial 10 concluído: total_return = 43463.6200\n",
      "Trial 11 para hora 10: Testando estratégia com parâmetros {'length_rsi': 7.0, 'rsi_low': 36.0, 'rsi_high': 66.0}\n",
      "Trial 11 para hora 10: Usando backtester com TP=1761.60000, SL=1230.50000\n",
      "Executando backtest para trial 11, hora 10...\n"
     ]
    },
    {
     "name": "stderr",
     "output_type": "stream",
     "text": [
      "\u001b[32m[I 2025-05-02 21:13:09,571]\u001b[0m Trial 11 finished with value: 42519.18000000079 and parameters: {'tp': 1761.6000000000001, 'sl': 1230.5, 'length_rsi': 7.0, 'rsi_low': 36.0, 'rsi_high': 66.0}. Best is trial 7 with value: 47568.21999999955.\u001b[0m\n"
     ]
    },
    {
     "name": "stdout",
     "output_type": "stream",
     "text": [
      "Trial 11 concluído: total_return = 42519.1800\n",
      "Trial 12 para hora 10: Testando estratégia com parâmetros {'length_rsi': 7.0, 'rsi_low': 35.0, 'rsi_high': 67.0}\n",
      "Trial 12 para hora 10: Usando backtester com TP=1400.30000, SL=1324.40000\n",
      "Executando backtest para trial 12, hora 10...\n"
     ]
    },
    {
     "name": "stderr",
     "output_type": "stream",
     "text": [
      "\u001b[32m[I 2025-05-02 21:13:10,201]\u001b[0m Trial 12 finished with value: 39460.360000000335 and parameters: {'tp': 1400.3000000000002, 'sl': 1324.4, 'length_rsi': 7.0, 'rsi_low': 35.0, 'rsi_high': 67.0}. Best is trial 7 with value: 47568.21999999955.\u001b[0m\n"
     ]
    },
    {
     "name": "stdout",
     "output_type": "stream",
     "text": [
      "Trial 12 concluído: total_return = 39460.3600\n",
      "Trial 13 para hora 10: Testando estratégia com parâmetros {'length_rsi': 7.0, 'rsi_low': 36.0, 'rsi_high': 75.0}\n",
      "Trial 13 para hora 10: Usando backtester com TP=1787.40000, SL=883.70000\n",
      "Executando backtest para trial 13, hora 10...\n"
     ]
    },
    {
     "name": "stderr",
     "output_type": "stream",
     "text": [
      "\u001b[32m[I 2025-05-02 21:13:10,819]\u001b[0m Trial 13 finished with value: 32321.399999999347 and parameters: {'tp': 1787.4, 'sl': 883.7, 'length_rsi': 7.0, 'rsi_low': 36.0, 'rsi_high': 75.0}. Best is trial 7 with value: 47568.21999999955.\u001b[0m\n"
     ]
    },
    {
     "name": "stdout",
     "output_type": "stream",
     "text": [
      "Trial 13 concluído: total_return = 32321.4000\n",
      "Trial 14 para hora 10: Testando estratégia com parâmetros {'length_rsi': 8.0, 'rsi_low': 41.0, 'rsi_high': 62.0}\n",
      "Trial 14 para hora 10: Usando backtester com TP=1389.90000, SL=1684.80000\n",
      "Executando backtest para trial 14, hora 10...\n"
     ]
    },
    {
     "name": "stderr",
     "output_type": "stream",
     "text": [
      "\u001b[32m[I 2025-05-02 21:13:11,450]\u001b[0m Trial 14 finished with value: 47162.00000000102 and parameters: {'tp': 1389.9, 'sl': 1684.8000000000002, 'length_rsi': 8.0, 'rsi_low': 41.0, 'rsi_high': 62.0}. Best is trial 7 with value: 47568.21999999955.\u001b[0m\n"
     ]
    },
    {
     "name": "stdout",
     "output_type": "stream",
     "text": [
      "Trial 14 concluído: total_return = 47162.0000\n",
      "Trial 15 para hora 10: Testando estratégia com parâmetros {'length_rsi': 8.0, 'rsi_low': 41.0, 'rsi_high': 62.0}\n",
      "Trial 15 para hora 10: Usando backtester com TP=1287.10000, SL=1768.00000\n",
      "Executando backtest para trial 15, hora 10...\n"
     ]
    },
    {
     "name": "stderr",
     "output_type": "stream",
     "text": [
      "\u001b[32m[I 2025-05-02 21:13:12,087]\u001b[0m Trial 15 finished with value: 47085.79999999906 and parameters: {'tp': 1287.1000000000001, 'sl': 1768.0, 'length_rsi': 8.0, 'rsi_low': 41.0, 'rsi_high': 62.0}. Best is trial 7 with value: 47568.21999999955.\u001b[0m\n"
     ]
    },
    {
     "name": "stdout",
     "output_type": "stream",
     "text": [
      "Trial 15 concluído: total_return = 47085.8000\n",
      "Trial 16 para hora 10: Testando estratégia com parâmetros {'length_rsi': 8.0, 'rsi_low': 43.0, 'rsi_high': 84.0}\n",
      "Trial 16 para hora 10: Usando backtester com TP=1099.20000, SL=1582.00000\n",
      "Executando backtest para trial 16, hora 10...\n"
     ]
    },
    {
     "name": "stderr",
     "output_type": "stream",
     "text": [
      "\u001b[32m[I 2025-05-02 21:13:12,704]\u001b[0m Trial 16 finished with value: 27803.640000000036 and parameters: {'tp': 1099.2, 'sl': 1582.0, 'length_rsi': 8.0, 'rsi_low': 43.0, 'rsi_high': 84.0}. Best is trial 7 with value: 47568.21999999955.\u001b[0m\n"
     ]
    },
    {
     "name": "stdout",
     "output_type": "stream",
     "text": [
      "Trial 16 concluído: total_return = 27803.6400\n",
      "Trial 17 para hora 10: Testando estratégia com parâmetros {'length_rsi': 9.0, 'rsi_low': 39.0, 'rsi_high': 69.0}\n",
      "Trial 17 para hora 10: Usando backtester com TP=1505.80000, SL=931.50000\n",
      "Executando backtest para trial 17, hora 10...\n"
     ]
    },
    {
     "name": "stderr",
     "output_type": "stream",
     "text": [
      "\u001b[32m[I 2025-05-02 21:13:13,337]\u001b[0m Trial 17 finished with value: 31058.72000000041 and parameters: {'tp': 1505.8000000000002, 'sl': 931.5, 'length_rsi': 9.0, 'rsi_low': 39.0, 'rsi_high': 69.0}. Best is trial 7 with value: 47568.21999999955.\u001b[0m\n"
     ]
    },
    {
     "name": "stdout",
     "output_type": "stream",
     "text": [
      "Trial 17 concluído: total_return = 31058.7200\n",
      "Trial 18 para hora 10: Testando estratégia com parâmetros {'length_rsi': 8.0, 'rsi_low': 43.0, 'rsi_high': 63.0}\n",
      "Trial 18 para hora 10: Usando backtester com TP=1231.20000, SL=1763.00000\n",
      "Executando backtest para trial 18, hora 10...\n"
     ]
    },
    {
     "name": "stderr",
     "output_type": "stream",
     "text": [
      "\u001b[32m[I 2025-05-02 21:13:13,970]\u001b[0m Trial 18 finished with value: 50320.88000000027 and parameters: {'tp': 1231.2, 'sl': 1763.0, 'length_rsi': 8.0, 'rsi_low': 43.0, 'rsi_high': 63.0}. Best is trial 18 with value: 50320.88000000027.\u001b[0m\n"
     ]
    },
    {
     "name": "stdout",
     "output_type": "stream",
     "text": [
      "Trial 18 concluído: total_return = 50320.8800\n",
      "Trial 19 para hora 10: Testando estratégia com parâmetros {'length_rsi': 9.0, 'rsi_low': 33.0, 'rsi_high': 70.0}\n",
      "Trial 19 para hora 10: Usando backtester com TP=991.30000, SL=1433.00000\n",
      "Executando backtest para trial 19, hora 10...\n"
     ]
    },
    {
     "name": "stderr",
     "output_type": "stream",
     "text": [
      "\u001b[32m[I 2025-05-02 21:13:14,586]\u001b[0m Trial 19 finished with value: 18832.17999999987 and parameters: {'tp': 991.3000000000001, 'sl': 1433.0, 'length_rsi': 9.0, 'rsi_low': 33.0, 'rsi_high': 70.0}. Best is trial 18 with value: 50320.88000000027.\u001b[0m\n"
     ]
    },
    {
     "name": "stdout",
     "output_type": "stream",
     "text": [
      "Trial 19 concluído: total_return = 18832.1800\n",
      "Trial 20 para hora 10: Testando estratégia com parâmetros {'length_rsi': 8.0, 'rsi_low': 38.0, 'rsi_high': 63.0}\n",
      "Trial 20 para hora 10: Usando backtester com TP=1228.30000, SL=1086.90000\n",
      "Executando backtest para trial 20, hora 10...\n"
     ]
    },
    {
     "name": "stderr",
     "output_type": "stream",
     "text": [
      "\u001b[32m[I 2025-05-02 21:13:15,219]\u001b[0m Trial 20 finished with value: 24348.01999999961 and parameters: {'tp': 1228.3, 'sl': 1086.9, 'length_rsi': 8.0, 'rsi_low': 38.0, 'rsi_high': 63.0}. Best is trial 18 with value: 50320.88000000027.\u001b[0m\n"
     ]
    },
    {
     "name": "stdout",
     "output_type": "stream",
     "text": [
      "Trial 20 concluído: total_return = 24348.0200\n",
      "Trial 21 para hora 10: Testando estratégia com parâmetros {'length_rsi': 8.0, 'rsi_low': 43.0, 'rsi_high': 62.0}\n",
      "Trial 21 para hora 10: Usando backtester com TP=1523.70000, SL=1797.00000\n",
      "Executando backtest para trial 21, hora 10...\n"
     ]
    },
    {
     "name": "stderr",
     "output_type": "stream",
     "text": [
      "\u001b[32m[I 2025-05-02 21:13:15,851]\u001b[0m Trial 21 finished with value: 61537.27999999927 and parameters: {'tp': 1523.7, 'sl': 1797.0, 'length_rsi': 8.0, 'rsi_low': 43.0, 'rsi_high': 62.0}. Best is trial 21 with value: 61537.27999999927.\u001b[0m\n"
     ]
    },
    {
     "name": "stdout",
     "output_type": "stream",
     "text": [
      "Trial 21 concluído: total_return = 61537.2800\n",
      "Trial 22 para hora 10: Testando estratégia com parâmetros {'length_rsi': 8.0, 'rsi_low': 43.0, 'rsi_high': 60.0}\n",
      "Trial 22 para hora 10: Usando backtester com TP=1594.50000, SL=1798.00000\n",
      "Executando backtest para trial 22, hora 10...\n"
     ]
    },
    {
     "name": "stderr",
     "output_type": "stream",
     "text": [
      "\u001b[32m[I 2025-05-02 21:13:16,485]\u001b[0m Trial 22 finished with value: 66852.50000000135 and parameters: {'tp': 1594.5, 'sl': 1798.0, 'length_rsi': 8.0, 'rsi_low': 43.0, 'rsi_high': 60.0}. Best is trial 22 with value: 66852.50000000135.\u001b[0m\n"
     ]
    },
    {
     "name": "stdout",
     "output_type": "stream",
     "text": [
      "Trial 22 concluído: total_return = 66852.5000\n",
      "Trial 23 para hora 10: Testando estratégia com parâmetros {'length_rsi': 8.0, 'rsi_low': 43.0, 'rsi_high': 59.0}\n",
      "Trial 23 para hora 10: Usando backtester com TP=1586.90000, SL=1790.50000\n",
      "Executando backtest para trial 23, hora 10...\n"
     ]
    },
    {
     "name": "stderr",
     "output_type": "stream",
     "text": [
      "\u001b[32m[I 2025-05-02 21:13:17,103]\u001b[0m Trial 23 finished with value: 62307.61999999976 and parameters: {'tp': 1586.9, 'sl': 1790.5, 'length_rsi': 8.0, 'rsi_low': 43.0, 'rsi_high': 59.0}. Best is trial 22 with value: 66852.50000000135.\u001b[0m\n"
     ]
    },
    {
     "name": "stdout",
     "output_type": "stream",
     "text": [
      "Trial 23 concluído: total_return = 62307.6200\n",
      "Trial 24 para hora 10: Testando estratégia com parâmetros {'length_rsi': 7.0, 'rsi_low': 43.0, 'rsi_high': 59.0}\n",
      "Trial 24 para hora 10: Usando backtester com TP=1584.00000, SL=1494.40000\n",
      "Executando backtest para trial 24, hora 10...\n"
     ]
    },
    {
     "name": "stderr",
     "output_type": "stream",
     "text": [
      "\u001b[32m[I 2025-05-02 21:13:17,736]\u001b[0m Trial 24 finished with value: 58129.240000001446 and parameters: {'tp': 1584.0, 'sl': 1494.4, 'length_rsi': 7.0, 'rsi_low': 43.0, 'rsi_high': 59.0}. Best is trial 22 with value: 66852.50000000135.\u001b[0m\n"
     ]
    },
    {
     "name": "stdout",
     "output_type": "stream",
     "text": [
      "Trial 24 concluído: total_return = 58129.2400\n",
      "Trial 25 para hora 10: Testando estratégia com parâmetros {'length_rsi': 8.0, 'rsi_low': 38.0, 'rsi_high': 55.0}\n",
      "Trial 25 para hora 10: Usando backtester com TP=1623.20000, SL=1679.30000\n",
      "Executando backtest para trial 25, hora 10...\n"
     ]
    },
    {
     "name": "stderr",
     "output_type": "stream",
     "text": [
      "\u001b[32m[I 2025-05-02 21:13:18,367]\u001b[0m Trial 25 finished with value: 47640.839999999385 and parameters: {'tp': 1623.2, 'sl': 1679.3000000000002, 'length_rsi': 8.0, 'rsi_low': 38.0, 'rsi_high': 55.0}. Best is trial 22 with value: 66852.50000000135.\u001b[0m\n"
     ]
    },
    {
     "name": "stdout",
     "output_type": "stream",
     "text": [
      "Trial 25 concluído: total_return = 47640.8400\n",
      "Trial 26 para hora 10: Testando estratégia com parâmetros {'length_rsi': 9.0, 'rsi_low': 42.0, 'rsi_high': 61.0}\n",
      "Trial 26 para hora 10: Usando backtester com TP=1640.60000, SL=1406.50000\n",
      "Executando backtest para trial 26, hora 10...\n"
     ]
    },
    {
     "name": "stderr",
     "output_type": "stream",
     "text": [
      "\u001b[32m[I 2025-05-02 21:13:18,985]\u001b[0m Trial 26 finished with value: 44516.17999999983 and parameters: {'tp': 1640.6000000000001, 'sl': 1406.5, 'length_rsi': 9.0, 'rsi_low': 42.0, 'rsi_high': 61.0}. Best is trial 22 with value: 66852.50000000135.\u001b[0m\n"
     ]
    },
    {
     "name": "stdout",
     "output_type": "stream",
     "text": [
      "Trial 26 concluído: total_return = 44516.1800\n",
      "Trial 27 para hora 10: Testando estratégia com parâmetros {'length_rsi': 8.0, 'rsi_low': 45.0, 'rsi_high': 56.0}\n",
      "Trial 27 para hora 10: Usando backtester com TP=1500.10000, SL=1632.20000\n",
      "Executando backtest para trial 27, hora 10...\n"
     ]
    },
    {
     "name": "stderr",
     "output_type": "stream",
     "text": [
      "\u001b[32m[I 2025-05-02 21:13:19,635]\u001b[0m Trial 27 finished with value: 55105.21999999897 and parameters: {'tp': 1500.1000000000001, 'sl': 1632.2, 'length_rsi': 8.0, 'rsi_low': 45.0, 'rsi_high': 56.0}. Best is trial 22 with value: 66852.50000000135.\u001b[0m\n"
     ]
    },
    {
     "name": "stdout",
     "output_type": "stream",
     "text": [
      "Trial 27 concluído: total_return = 55105.2200\n",
      "Trial 28 para hora 10: Testando estratégia com parâmetros {'length_rsi': 7.0, 'rsi_low': 38.0, 'rsi_high': 58.0}\n",
      "Trial 28 para hora 10: Usando backtester com TP=1669.40000, SL=1790.20000\n",
      "Executando backtest para trial 28, hora 10...\n"
     ]
    },
    {
     "name": "stderr",
     "output_type": "stream",
     "text": [
      "\u001b[32m[I 2025-05-02 21:13:20,269]\u001b[0m Trial 28 finished with value: 64261.83999999895 and parameters: {'tp': 1669.4, 'sl': 1790.2, 'length_rsi': 7.0, 'rsi_low': 38.0, 'rsi_high': 58.0}. Best is trial 22 with value: 66852.50000000135.\u001b[0m\n"
     ]
    },
    {
     "name": "stdout",
     "output_type": "stream",
     "text": [
      "Trial 28 concluído: total_return = 64261.8400\n",
      "Trial 29 para hora 10: Testando estratégia com parâmetros {'length_rsi': 6.0, 'rsi_low': 39.0, 'rsi_high': 58.0}\n",
      "Trial 29 para hora 10: Usando backtester com TP=1668.60000, SL=1527.70000\n",
      "Executando backtest para trial 29, hora 10...\n"
     ]
    },
    {
     "name": "stderr",
     "output_type": "stream",
     "text": [
      "\u001b[32m[I 2025-05-02 21:13:20,917]\u001b[0m Trial 29 finished with value: 62445.61999999985 and parameters: {'tp': 1668.6000000000001, 'sl': 1527.7, 'length_rsi': 6.0, 'rsi_low': 39.0, 'rsi_high': 58.0}. Best is trial 22 with value: 66852.50000000135.\u001b[0m\n"
     ]
    },
    {
     "name": "stdout",
     "output_type": "stream",
     "text": [
      "Trial 29 concluído: total_return = 62445.6200\n",
      "Trial 30 para hora 10: Testando estratégia com parâmetros {'length_rsi': 6.0, 'rsi_low': 33.0, 'rsi_high': 57.0}\n",
      "Trial 30 para hora 10: Usando backtester com TP=129.50000, SL=1503.50000\n",
      "Executando backtest para trial 30, hora 10...\n"
     ]
    },
    {
     "name": "stderr",
     "output_type": "stream",
     "text": [
      "\u001b[32m[I 2025-05-02 21:13:21,566]\u001b[0m Trial 30 finished with value: -12819.400000000449 and parameters: {'tp': 129.5, 'sl': 1503.5, 'length_rsi': 6.0, 'rsi_low': 33.0, 'rsi_high': 57.0}. Best is trial 22 with value: 66852.50000000135.\u001b[0m\n"
     ]
    },
    {
     "name": "stdout",
     "output_type": "stream",
     "text": [
      "Trial 30 concluído: total_return = -12819.4000\n",
      "Trial 31 para hora 10: Testando estratégia com parâmetros {'length_rsi': 6.0, 'rsi_low': 39.0, 'rsi_high': 59.0}\n",
      "Trial 31 para hora 10: Usando backtester com TP=1675.00000, SL=1665.60000\n",
      "Executando backtest para trial 31, hora 10...\n"
     ]
    },
    {
     "name": "stderr",
     "output_type": "stream",
     "text": [
      "\u001b[32m[I 2025-05-02 21:13:22,217]\u001b[0m Trial 31 finished with value: 66559.51999999945 and parameters: {'tp': 1675.0, 'sl': 1665.6000000000001, 'length_rsi': 6.0, 'rsi_low': 39.0, 'rsi_high': 59.0}. Best is trial 22 with value: 66852.50000000135.\u001b[0m\n"
     ]
    },
    {
     "name": "stdout",
     "output_type": "stream",
     "text": [
      "Trial 31 concluído: total_return = 66559.5200\n",
      "Trial 32 para hora 10: Testando estratégia com parâmetros {'length_rsi': 6.0, 'rsi_low': 38.0, 'rsi_high': 64.0}\n",
      "Trial 32 para hora 10: Usando backtester com TP=1691.20000, SL=1645.70000\n",
      "Executando backtest para trial 32, hora 10...\n"
     ]
    },
    {
     "name": "stderr",
     "output_type": "stream",
     "text": [
      "\u001b[32m[I 2025-05-02 21:13:22,869]\u001b[0m Trial 32 finished with value: 55493.16000000006 and parameters: {'tp': 1691.2, 'sl': 1645.7, 'length_rsi': 6.0, 'rsi_low': 38.0, 'rsi_high': 64.0}. Best is trial 22 with value: 66852.50000000135.\u001b[0m\n"
     ]
    },
    {
     "name": "stdout",
     "output_type": "stream",
     "text": [
      "Trial 32 concluído: total_return = 55493.1600\n",
      "Trial 33 para hora 10: Testando estratégia com parâmetros {'length_rsi': 6.0, 'rsi_low': 40.0, 'rsi_high': 60.0}\n",
      "Trial 33 para hora 10: Usando backtester com TP=1702.90000, SL=794.50000\n",
      "Executando backtest para trial 33, hora 10...\n"
     ]
    },
    {
     "name": "stderr",
     "output_type": "stream",
     "text": [
      "\u001b[32m[I 2025-05-02 21:13:23,516]\u001b[0m Trial 33 finished with value: 55059.639999998995 and parameters: {'tp': 1702.9, 'sl': 794.5, 'length_rsi': 6.0, 'rsi_low': 40.0, 'rsi_high': 60.0}. Best is trial 22 with value: 66852.50000000135.\u001b[0m\n"
     ]
    },
    {
     "name": "stdout",
     "output_type": "stream",
     "text": [
      "Trial 33 concluído: total_return = 55059.6400\n",
      "Trial 34 para hora 10: Testando estratégia com parâmetros {'length_rsi': 6.0, 'rsi_low': 39.0, 'rsi_high': 55.0}\n",
      "Trial 34 para hora 10: Usando backtester com TP=1449.50000, SL=1347.20000\n",
      "Executando backtest para trial 34, hora 10...\n"
     ]
    },
    {
     "name": "stderr",
     "output_type": "stream",
     "text": [
      "\u001b[32m[I 2025-05-02 21:13:24,151]\u001b[0m Trial 34 finished with value: 53892.92000000077 and parameters: {'tp': 1449.5, 'sl': 1347.2, 'length_rsi': 6.0, 'rsi_low': 39.0, 'rsi_high': 55.0}. Best is trial 22 with value: 66852.50000000135.\u001b[0m\n"
     ]
    },
    {
     "name": "stdout",
     "output_type": "stream",
     "text": [
      "Trial 34 concluído: total_return = 53892.9200\n",
      "Trial 35 para hora 10: Testando estratégia com parâmetros {'length_rsi': 6.0, 'rsi_low': 40.0, 'rsi_high': 58.0}\n",
      "Trial 35 para hora 10: Usando backtester com TP=1681.20000, SL=1537.50000\n",
      "Executando backtest para trial 35, hora 10...\n"
     ]
    },
    {
     "name": "stderr",
     "output_type": "stream",
     "text": [
      "\u001b[32m[I 2025-05-02 21:13:24,800]\u001b[0m Trial 35 finished with value: 60513.19999999966 and parameters: {'tp': 1681.2, 'sl': 1537.5, 'length_rsi': 6.0, 'rsi_low': 40.0, 'rsi_high': 58.0}. Best is trial 22 with value: 66852.50000000135.\u001b[0m\n"
     ]
    },
    {
     "name": "stdout",
     "output_type": "stream",
     "text": [
      "Trial 35 concluído: total_return = 60513.2000\n",
      "Trial 36 para hora 10: Testando estratégia com parâmetros {'length_rsi': 6.0, 'rsi_low': 25.0, 'rsi_high': 78.0}\n",
      "Trial 36 para hora 10: Usando backtester com TP=812.70000, SL=1675.70000\n",
      "Executando backtest para trial 36, hora 10...\n"
     ]
    },
    {
     "name": "stderr",
     "output_type": "stream",
     "text": [
      "\u001b[32m[I 2025-05-02 21:13:25,435]\u001b[0m Trial 36 finished with value: 1648.0400000001828 and parameters: {'tp': 812.7, 'sl': 1675.7, 'length_rsi': 6.0, 'rsi_low': 25.0, 'rsi_high': 78.0}. Best is trial 22 with value: 66852.50000000135.\u001b[0m\n"
     ]
    },
    {
     "name": "stdout",
     "output_type": "stream",
     "text": [
      "Trial 36 concluído: total_return = 1648.0400\n",
      "Trial 37 para hora 10: Testando estratégia com parâmetros {'length_rsi': 7.0, 'rsi_low': 37.0, 'rsi_high': 58.0}\n",
      "Trial 37 para hora 10: Usando backtester com TP=1573.20000, SL=1582.70000\n",
      "Executando backtest para trial 37, hora 10...\n"
     ]
    },
    {
     "name": "stderr",
     "output_type": "stream",
     "text": [
      "\u001b[32m[I 2025-05-02 21:13:26,082]\u001b[0m Trial 37 finished with value: 50858.559999999095 and parameters: {'tp': 1573.2, 'sl': 1582.7, 'length_rsi': 7.0, 'rsi_low': 37.0, 'rsi_high': 58.0}. Best is trial 22 with value: 66852.50000000135.\u001b[0m\n"
     ]
    },
    {
     "name": "stdout",
     "output_type": "stream",
     "text": [
      "Trial 37 concluído: total_return = 50858.5600\n",
      "Trial 38 para hora 10: Testando estratégia com parâmetros {'length_rsi': 6.0, 'rsi_low': 34.0, 'rsi_high': 60.0}\n",
      "Trial 38 para hora 10: Usando backtester com TP=1136.40000, SL=1443.20000\n",
      "Executando backtest para trial 38, hora 10...\n"
     ]
    },
    {
     "name": "stderr",
     "output_type": "stream",
     "text": [
      "\u001b[32m[I 2025-05-02 21:13:26,720]\u001b[0m Trial 38 finished with value: 36095.91999999946 and parameters: {'tp': 1136.4, 'sl': 1443.2, 'length_rsi': 6.0, 'rsi_low': 34.0, 'rsi_high': 60.0}. Best is trial 22 with value: 66852.50000000135.\u001b[0m\n"
     ]
    },
    {
     "name": "stdout",
     "output_type": "stream",
     "text": [
      "Trial 38 concluído: total_return = 36095.9200\n",
      "Trial 39 para hora 10: Testando estratégia com parâmetros {'length_rsi': 7.0, 'rsi_low': 39.0, 'rsi_high': 57.0}\n",
      "Trial 39 para hora 10: Usando backtester com TP=1405.00000, SL=1699.20000\n",
      "Executando backtest para trial 39, hora 10...\n"
     ]
    },
    {
     "name": "stderr",
     "output_type": "stream",
     "text": [
      "\u001b[32m[I 2025-05-02 21:13:27,367]\u001b[0m Trial 39 finished with value: 49923.04000000066 and parameters: {'tp': 1405.0, 'sl': 1699.2, 'length_rsi': 7.0, 'rsi_low': 39.0, 'rsi_high': 57.0}. Best is trial 22 with value: 66852.50000000135.\u001b[0m\n"
     ]
    },
    {
     "name": "stdout",
     "output_type": "stream",
     "text": [
      "Trial 39 concluído: total_return = 49923.0400\n",
      "Trial 40 para hora 10: Testando estratégia com parâmetros {'length_rsi': 6.0, 'rsi_low': 41.0, 'rsi_high': 64.0}\n",
      "Trial 40 para hora 10: Usando backtester com TP=1721.10000, SL=1242.60000\n",
      "Executando backtest para trial 40, hora 10...\n"
     ]
    },
    {
     "name": "stderr",
     "output_type": "stream",
     "text": [
      "\u001b[32m[I 2025-05-02 21:13:28,004]\u001b[0m Trial 40 finished with value: 44880.240000000515 and parameters: {'tp': 1721.1000000000001, 'sl': 1242.6000000000001, 'length_rsi': 6.0, 'rsi_low': 41.0, 'rsi_high': 64.0}. Best is trial 22 with value: 66852.50000000135.\u001b[0m\n"
     ]
    },
    {
     "name": "stdout",
     "output_type": "stream",
     "text": [
      "Trial 40 concluído: total_return = 44880.2400\n",
      "Trial 41 para hora 10: Testando estratégia com parâmetros {'length_rsi': 7.0, 'rsi_low': 42.0, 'rsi_high': 59.0}\n",
      "Trial 41 para hora 10: Usando backtester com TP=1587.70000, SL=1781.40000\n",
      "Executando backtest para trial 41, hora 10...\n"
     ]
    },
    {
     "name": "stderr",
     "output_type": "stream",
     "text": [
      "\u001b[32m[I 2025-05-02 21:13:28,635]\u001b[0m Trial 41 finished with value: 62474.92000000115 and parameters: {'tp': 1587.7, 'sl': 1781.4, 'length_rsi': 7.0, 'rsi_low': 42.0, 'rsi_high': 59.0}. Best is trial 22 with value: 66852.50000000135.\u001b[0m\n"
     ]
    },
    {
     "name": "stdout",
     "output_type": "stream",
     "text": [
      "Trial 41 concluído: total_return = 62474.9200\n",
      "Trial 42 para hora 10: Testando estratégia com parâmetros {'length_rsi': 7.0, 'rsi_low': 42.0, 'rsi_high': 59.0}\n",
      "Trial 42 para hora 10: Usando backtester com TP=1635.40000, SL=114.90000\n",
      "Executando backtest para trial 42, hora 10...\n"
     ]
    },
    {
     "name": "stderr",
     "output_type": "stream",
     "text": [
      "\u001b[32m[I 2025-05-02 21:13:29,267]\u001b[0m Trial 42 finished with value: 20441.64000000221 and parameters: {'tp': 1635.4, 'sl': 114.9, 'length_rsi': 7.0, 'rsi_low': 42.0, 'rsi_high': 59.0}. Best is trial 22 with value: 66852.50000000135.\u001b[0m\n"
     ]
    },
    {
     "name": "stdout",
     "output_type": "stream",
     "text": [
      "Trial 42 concluído: total_return = 20441.6400\n",
      "Trial 43 para hora 10: Testando estratégia com parâmetros {'length_rsi': 7.0, 'rsi_low': 37.0, 'rsi_high': 56.0}\n",
      "Trial 43 para hora 10: Usando backtester com TP=1309.50000, SL=1595.40000\n",
      "Executando backtest para trial 43, hora 10...\n"
     ]
    },
    {
     "name": "stderr",
     "output_type": "stream",
     "text": [
      "\u001b[32m[I 2025-05-02 21:13:29,892]\u001b[0m Trial 43 finished with value: 40042.08000000025 and parameters: {'tp': 1309.5, 'sl': 1595.4, 'length_rsi': 7.0, 'rsi_low': 37.0, 'rsi_high': 56.0}. Best is trial 22 with value: 66852.50000000135.\u001b[0m\n"
     ]
    },
    {
     "name": "stdout",
     "output_type": "stream",
     "text": [
      "Trial 43 concluído: total_return = 40042.0800\n",
      "Trial 44 para hora 10: Testando estratégia com parâmetros {'length_rsi': 7.0, 'rsi_low': 40.0, 'rsi_high': 61.0}\n",
      "Trial 44 para hora 10: Usando backtester com TP=1545.40000, SL=1748.90000\n",
      "Executando backtest para trial 44, hora 10...\n"
     ]
    },
    {
     "name": "stderr",
     "output_type": "stream",
     "text": [
      "\u001b[32m[I 2025-05-02 21:13:30,522]\u001b[0m Trial 44 finished with value: 55730.12000000148 and parameters: {'tp': 1545.4, 'sl': 1748.9, 'length_rsi': 7.0, 'rsi_low': 40.0, 'rsi_high': 61.0}. Best is trial 22 with value: 66852.50000000135.\u001b[0m\n",
      "\u001b[32m[I 2025-05-02 21:13:30,522]\u001b[0m A new study created in memory with name: hora_11\u001b[0m\n"
     ]
    },
    {
     "name": "stdout",
     "output_type": "stream",
     "text": [
      "Trial 44 concluído: total_return = 55730.1200\n",
      "Otimização concluída para hora 10.\n",
      "\n",
      "Melhores parâmetros para hora 10:\n",
      "total_return: 66852.5000\n",
      "Parâmetros: {'length_rsi': 8.0, 'rsi_low': 43.0, 'rsi_high': 60.0, 'allowed_hours': [10], 'tp': 1594.5, 'sl': 1798.0}\n",
      "Profit Factor: 1.1172\n",
      "Win Rate: 52.47%\n",
      "Max Drawdown: 251.57%\n",
      "Total Return: $66852.50\n",
      "Total Trades: 3781\n",
      "\n",
      "==================================================\n",
      "Otimizando estratégia para hora: 11:00\n",
      "Métrica: total_return - Direção: maximize\n",
      "==================================================\n",
      "Iniciando otimização com 45 trials para hora 11...\n",
      "Trial 0 para hora 11: Testando estratégia com parâmetros {'length_rsi': 7.0, 'rsi_low': 30.0, 'rsi_high': 57.0}\n",
      "Trial 0 para hora 11: Usando backtester com TP=470.20000, SL=1103.20000\n",
      "Executando backtest para trial 0, hora 11...\n"
     ]
    },
    {
     "name": "stderr",
     "output_type": "stream",
     "text": [
      "\u001b[32m[I 2025-05-02 21:13:31,140]\u001b[0m Trial 0 finished with value: 18528.88000000164 and parameters: {'tp': 470.20000000000005, 'sl': 1103.2, 'length_rsi': 7.0, 'rsi_low': 30.0, 'rsi_high': 57.0}. Best is trial 0 with value: 18528.88000000164.\u001b[0m\n"
     ]
    },
    {
     "name": "stdout",
     "output_type": "stream",
     "text": [
      "Trial 0 concluído: total_return = 18528.8800\n",
      "Trial 1 para hora 11: Testando estratégia com parâmetros {'length_rsi': 6.0, 'rsi_low': 43.0, 'rsi_high': 60.0}\n",
      "Trial 1 para hora 11: Usando backtester com TP=116.30000, SL=181.20000\n",
      "Executando backtest para trial 1, hora 11...\n"
     ]
    },
    {
     "name": "stderr",
     "output_type": "stream",
     "text": [
      "\u001b[32m[I 2025-05-02 21:13:31,771]\u001b[0m Trial 1 finished with value: -16932.61999999966 and parameters: {'tp': 116.30000000000001, 'sl': 181.2, 'length_rsi': 6.0, 'rsi_low': 43.0, 'rsi_high': 60.0}. Best is trial 0 with value: 18528.88000000164.\u001b[0m\n"
     ]
    },
    {
     "name": "stdout",
     "output_type": "stream",
     "text": [
      "Trial 1 concluído: total_return = -16932.6200\n",
      "Trial 2 para hora 11: Testando estratégia com parâmetros {'length_rsi': 9.0, 'rsi_low': 38.0, 'rsi_high': 72.0}\n",
      "Trial 2 para hora 11: Usando backtester com TP=1437.30000, SL=1221.40000\n",
      "Executando backtest para trial 2, hora 11...\n"
     ]
    },
    {
     "name": "stderr",
     "output_type": "stream",
     "text": [
      "\u001b[32m[I 2025-05-02 21:13:32,386]\u001b[0m Trial 2 finished with value: 48535.08000000003 and parameters: {'tp': 1437.3000000000002, 'sl': 1221.4, 'length_rsi': 9.0, 'rsi_low': 38.0, 'rsi_high': 72.0}. Best is trial 2 with value: 48535.08000000003.\u001b[0m\n"
     ]
    },
    {
     "name": "stdout",
     "output_type": "stream",
     "text": [
      "Trial 2 concluído: total_return = 48535.0800\n",
      "Trial 3 para hora 11: Testando estratégia com parâmetros {'length_rsi': 6.0, 'rsi_low': 42.0, 'rsi_high': 60.0}\n",
      "Trial 3 para hora 11: Usando backtester com TP=437.30000, SL=1079.70000\n",
      "Executando backtest para trial 3, hora 11...\n"
     ]
    },
    {
     "name": "stderr",
     "output_type": "stream",
     "text": [
      "\u001b[32m[I 2025-05-02 21:13:33,003]\u001b[0m Trial 3 finished with value: 6601.239999999831 and parameters: {'tp': 437.3, 'sl': 1079.7, 'length_rsi': 6.0, 'rsi_low': 42.0, 'rsi_high': 60.0}. Best is trial 2 with value: 48535.08000000003.\u001b[0m\n"
     ]
    },
    {
     "name": "stdout",
     "output_type": "stream",
     "text": [
      "Trial 3 concluído: total_return = 6601.2400\n",
      "Trial 4 para hora 11: Testando estratégia com parâmetros {'length_rsi': 8.0, 'rsi_low': 35.0, 'rsi_high': 63.0}\n",
      "Trial 4 para hora 11: Usando backtester com TP=1696.30000, SL=416.90000\n",
      "Executando backtest para trial 4, hora 11...\n"
     ]
    },
    {
     "name": "stderr",
     "output_type": "stream",
     "text": [
      "\u001b[32m[I 2025-05-02 21:13:33,639]\u001b[0m Trial 4 finished with value: 45671.52000000181 and parameters: {'tp': 1696.3000000000002, 'sl': 416.90000000000003, 'length_rsi': 8.0, 'rsi_low': 35.0, 'rsi_high': 63.0}. Best is trial 2 with value: 48535.08000000003.\u001b[0m\n"
     ]
    },
    {
     "name": "stdout",
     "output_type": "stream",
     "text": [
      "Trial 4 concluído: total_return = 45671.5200\n",
      "Trial 5 para hora 11: Testando estratégia com parâmetros {'length_rsi': 9.0, 'rsi_low': 37.0, 'rsi_high': 72.0}\n",
      "Trial 5 para hora 11: Usando backtester com TP=1479.10000, SL=1647.50000\n",
      "Executando backtest para trial 5, hora 11...\n"
     ]
    },
    {
     "name": "stderr",
     "output_type": "stream",
     "text": [
      "\u001b[32m[I 2025-05-02 21:13:34,240]\u001b[0m Trial 5 finished with value: 46685.49999999993 and parameters: {'tp': 1479.1000000000001, 'sl': 1647.5, 'length_rsi': 9.0, 'rsi_low': 37.0, 'rsi_high': 72.0}. Best is trial 2 with value: 48535.08000000003.\u001b[0m\n"
     ]
    },
    {
     "name": "stdout",
     "output_type": "stream",
     "text": [
      "Trial 5 concluído: total_return = 46685.5000\n",
      "Trial 6 para hora 11: Testando estratégia com parâmetros {'length_rsi': 9.0, 'rsi_low': 45.0, 'rsi_high': 84.0}\n",
      "Trial 6 para hora 11: Usando backtester com TP=349.60000, SL=189.50000\n",
      "Executando backtest para trial 6, hora 11...\n"
     ]
    },
    {
     "name": "stderr",
     "output_type": "stream",
     "text": [
      "\u001b[32m[I 2025-05-02 21:13:34,855]\u001b[0m Trial 6 finished with value: -157.94000000008236 and parameters: {'tp': 349.6, 'sl': 189.5, 'length_rsi': 9.0, 'rsi_low': 45.0, 'rsi_high': 84.0}. Best is trial 2 with value: 48535.08000000003.\u001b[0m\n"
     ]
    },
    {
     "name": "stdout",
     "output_type": "stream",
     "text": [
      "Trial 6 concluído: total_return = -157.9400\n",
      "Trial 7 para hora 11: Testando estratégia com parâmetros {'length_rsi': 9.0, 'rsi_low': 38.0, 'rsi_high': 64.0}\n",
      "Trial 7 para hora 11: Usando backtester com TP=1293.60000, SL=163.50000\n",
      "Executando backtest para trial 7, hora 11...\n"
     ]
    },
    {
     "name": "stderr",
     "output_type": "stream",
     "text": [
      "\u001b[32m[I 2025-05-02 21:13:35,470]\u001b[0m Trial 7 finished with value: 27153.55999999852 and parameters: {'tp': 1293.6000000000001, 'sl': 163.5, 'length_rsi': 9.0, 'rsi_low': 38.0, 'rsi_high': 64.0}. Best is trial 2 with value: 48535.08000000003.\u001b[0m\n"
     ]
    },
    {
     "name": "stdout",
     "output_type": "stream",
     "text": [
      "Trial 7 concluído: total_return = 27153.5600\n",
      "Trial 8 para hora 11: Testando estratégia com parâmetros {'length_rsi': 9.0, 'rsi_low': 29.0, 'rsi_high': 68.0}\n",
      "Trial 8 para hora 11: Usando backtester com TP=432.00000, SL=994.60000\n",
      "Executando backtest para trial 8, hora 11...\n"
     ]
    },
    {
     "name": "stderr",
     "output_type": "stream",
     "text": [
      "\u001b[32m[I 2025-05-02 21:13:36,105]\u001b[0m Trial 8 finished with value: 10864.559999999707 and parameters: {'tp': 432.0, 'sl': 994.6, 'length_rsi': 9.0, 'rsi_low': 29.0, 'rsi_high': 68.0}. Best is trial 2 with value: 48535.08000000003.\u001b[0m\n"
     ]
    },
    {
     "name": "stdout",
     "output_type": "stream",
     "text": [
      "Trial 8 concluído: total_return = 10864.5600\n",
      "Trial 9 para hora 11: Testando estratégia com parâmetros {'length_rsi': 8.0, 'rsi_low': 42.0, 'rsi_high': 79.0}\n",
      "Trial 9 para hora 11: Usando backtester com TP=1066.70000, SL=1509.10000\n",
      "Executando backtest para trial 9, hora 11...\n"
     ]
    },
    {
     "name": "stderr",
     "output_type": "stream",
     "text": [
      "\u001b[32m[I 2025-05-02 21:13:36,722]\u001b[0m Trial 9 finished with value: 28335.50000000019 and parameters: {'tp': 1066.7, 'sl': 1509.1000000000001, 'length_rsi': 8.0, 'rsi_low': 42.0, 'rsi_high': 79.0}. Best is trial 2 with value: 48535.08000000003.\u001b[0m\n"
     ]
    },
    {
     "name": "stdout",
     "output_type": "stream",
     "text": [
      "Trial 9 concluído: total_return = 28335.5000\n",
      "Trial 10 para hora 11: Testando estratégia com parâmetros {'length_rsi': 7.0, 'rsi_low': 25.0, 'rsi_high': 74.0}\n",
      "Trial 10 para hora 11: Usando backtester com TP=865.20000, SL=718.40000\n",
      "Executando backtest para trial 10, hora 11...\n"
     ]
    },
    {
     "name": "stderr",
     "output_type": "stream",
     "text": [
      "\u001b[32m[I 2025-05-02 21:13:37,353]\u001b[0m Trial 10 finished with value: 29956.240000000224 and parameters: {'tp': 865.2, 'sl': 718.4000000000001, 'length_rsi': 7.0, 'rsi_low': 25.0, 'rsi_high': 74.0}. Best is trial 2 with value: 48535.08000000003.\u001b[0m\n"
     ]
    },
    {
     "name": "stdout",
     "output_type": "stream",
     "text": [
      "Trial 10 concluído: total_return = 29956.2400\n",
      "Trial 11 para hora 11: Testando estratégia com parâmetros {'length_rsi': 8.0, 'rsi_low': 37.0, 'rsi_high': 72.0}\n",
      "Trial 11 para hora 11: Usando backtester com TP=1725.20000, SL=1718.90000\n",
      "Executando backtest para trial 11, hora 11...\n"
     ]
    },
    {
     "name": "stderr",
     "output_type": "stream",
     "text": [
      "\u001b[32m[I 2025-05-02 21:13:37,969]\u001b[0m Trial 11 finished with value: 46326.60000000021 and parameters: {'tp': 1725.2, 'sl': 1718.9, 'length_rsi': 8.0, 'rsi_low': 37.0, 'rsi_high': 72.0}. Best is trial 2 with value: 48535.08000000003.\u001b[0m\n"
     ]
    },
    {
     "name": "stdout",
     "output_type": "stream",
     "text": [
      "Trial 11 concluído: total_return = 46326.6000\n",
      "Trial 12 para hora 11: Testando estratégia com parâmetros {'length_rsi': 9.0, 'rsi_low': 34.0, 'rsi_high': 75.0}\n",
      "Trial 12 para hora 11: Usando backtester com TP=1348.40000, SL=1395.30000\n",
      "Executando backtest para trial 12, hora 11...\n"
     ]
    },
    {
     "name": "stderr",
     "output_type": "stream",
     "text": [
      "\u001b[32m[I 2025-05-02 21:13:38,589]\u001b[0m Trial 12 finished with value: 42690.81999999992 and parameters: {'tp': 1348.4, 'sl': 1395.3000000000002, 'length_rsi': 9.0, 'rsi_low': 34.0, 'rsi_high': 75.0}. Best is trial 2 with value: 48535.08000000003.\u001b[0m\n"
     ]
    },
    {
     "name": "stdout",
     "output_type": "stream",
     "text": [
      "Trial 12 concluído: total_return = 42690.8200\n",
      "Trial 13 para hora 11: Testando estratégia com parâmetros {'length_rsi': 9.0, 'rsi_low': 39.0, 'rsi_high': 68.0}\n",
      "Trial 13 para hora 11: Usando backtester com TP=1436.40000, SL=1367.70000\n",
      "Executando backtest para trial 13, hora 11...\n"
     ]
    },
    {
     "name": "stderr",
     "output_type": "stream",
     "text": [
      "\u001b[32m[I 2025-05-02 21:13:39,221]\u001b[0m Trial 13 finished with value: 41522.6199999996 and parameters: {'tp': 1436.4, 'sl': 1367.7, 'length_rsi': 9.0, 'rsi_low': 39.0, 'rsi_high': 68.0}. Best is trial 2 with value: 48535.08000000003.\u001b[0m\n"
     ]
    },
    {
     "name": "stdout",
     "output_type": "stream",
     "text": [
      "Trial 13 concluído: total_return = 41522.6200\n",
      "Trial 14 para hora 11: Testando estratégia com parâmetros {'length_rsi': 8.0, 'rsi_low': 33.0, 'rsi_high': 79.0}\n",
      "Trial 14 para hora 11: Usando backtester com TP=970.30000, SL=1772.00000\n",
      "Executando backtest para trial 14, hora 11...\n"
     ]
    },
    {
     "name": "stderr",
     "output_type": "stream",
     "text": [
      "\u001b[32m[I 2025-05-02 21:13:39,839]\u001b[0m Trial 14 finished with value: 27426.16000000006 and parameters: {'tp': 970.3000000000001, 'sl': 1772.0, 'length_rsi': 8.0, 'rsi_low': 33.0, 'rsi_high': 79.0}. Best is trial 2 with value: 48535.08000000003.\u001b[0m\n"
     ]
    },
    {
     "name": "stdout",
     "output_type": "stream",
     "text": [
      "Trial 14 concluído: total_return = 27426.1600\n",
      "Trial 15 para hora 11: Testando estratégia com parâmetros {'length_rsi': 9.0, 'rsi_low': 39.0, 'rsi_high': 78.0}\n",
      "Trial 15 para hora 11: Usando backtester com TP=1565.80000, SL=757.60000\n",
      "Executando backtest para trial 15, hora 11...\n"
     ]
    },
    {
     "name": "stderr",
     "output_type": "stream",
     "text": [
      "\u001b[32m[I 2025-05-02 21:13:40,471]\u001b[0m Trial 15 finished with value: 54116.32000000094 and parameters: {'tp': 1565.8000000000002, 'sl': 757.6, 'length_rsi': 9.0, 'rsi_low': 39.0, 'rsi_high': 78.0}. Best is trial 15 with value: 54116.32000000094.\u001b[0m\n"
     ]
    },
    {
     "name": "stdout",
     "output_type": "stream",
     "text": [
      "Trial 15 concluído: total_return = 54116.3200\n",
      "Trial 16 para hora 11: Testando estratégia com parâmetros {'length_rsi': 7.0, 'rsi_low': 39.0, 'rsi_high': 85.0}\n",
      "Trial 16 para hora 11: Usando backtester com TP=1159.20000, SL=757.90000\n",
      "Executando backtest para trial 16, hora 11...\n"
     ]
    },
    {
     "name": "stderr",
     "output_type": "stream",
     "text": [
      "\u001b[32m[I 2025-05-02 21:13:41,105]\u001b[0m Trial 16 finished with value: 47148.919999998616 and parameters: {'tp': 1159.2, 'sl': 757.9000000000001, 'length_rsi': 7.0, 'rsi_low': 39.0, 'rsi_high': 85.0}. Best is trial 15 with value: 54116.32000000094.\u001b[0m\n"
     ]
    },
    {
     "name": "stdout",
     "output_type": "stream",
     "text": [
      "Trial 16 concluído: total_return = 47148.9200\n",
      "Trial 17 para hora 11: Testando estratégia com parâmetros {'length_rsi': 8.0, 'rsi_low': 32.0, 'rsi_high': 79.0}\n",
      "Trial 17 para hora 11: Usando backtester com TP=1570.70000, SL=725.90000\n",
      "Executando backtest para trial 17, hora 11...\n"
     ]
    },
    {
     "name": "stderr",
     "output_type": "stream",
     "text": [
      "\u001b[32m[I 2025-05-02 21:13:41,735]\u001b[0m Trial 17 finished with value: 47085.539999999775 and parameters: {'tp': 1570.7, 'sl': 725.9000000000001, 'length_rsi': 8.0, 'rsi_low': 32.0, 'rsi_high': 79.0}. Best is trial 15 with value: 54116.32000000094.\u001b[0m\n"
     ]
    },
    {
     "name": "stdout",
     "output_type": "stream",
     "text": [
      "Trial 17 concluído: total_return = 47085.5400\n",
      "Trial 18 para hora 11: Testando estratégia com parâmetros {'length_rsi': 9.0, 'rsi_low': 40.0, 'rsi_high': 76.0}\n",
      "Trial 18 para hora 11: Usando backtester com TP=800.30000, SL=1205.20000\n",
      "Executando backtest para trial 18, hora 11...\n"
     ]
    },
    {
     "name": "stderr",
     "output_type": "stream",
     "text": [
      "\u001b[32m[I 2025-05-02 21:13:42,360]\u001b[0m Trial 18 finished with value: 31087.699999999953 and parameters: {'tp': 800.3000000000001, 'sl': 1205.2, 'length_rsi': 9.0, 'rsi_low': 40.0, 'rsi_high': 76.0}. Best is trial 15 with value: 54116.32000000094.\u001b[0m\n"
     ]
    },
    {
     "name": "stdout",
     "output_type": "stream",
     "text": [
      "Trial 18 concluído: total_return = 31087.7000\n",
      "Trial 19 para hora 11: Testando estratégia com parâmetros {'length_rsi': 8.0, 'rsi_low': 36.0, 'rsi_high': 81.0}\n",
      "Trial 19 para hora 11: Usando backtester com TP=1793.40000, SL=560.10000\n",
      "Executando backtest para trial 19, hora 11...\n"
     ]
    },
    {
     "name": "stderr",
     "output_type": "stream",
     "text": [
      "\u001b[32m[I 2025-05-02 21:13:42,987]\u001b[0m Trial 19 finished with value: 53631.540000001056 and parameters: {'tp': 1793.4, 'sl': 560.1, 'length_rsi': 8.0, 'rsi_low': 36.0, 'rsi_high': 81.0}. Best is trial 15 with value: 54116.32000000094.\u001b[0m\n"
     ]
    },
    {
     "name": "stdout",
     "output_type": "stream",
     "text": [
      "Trial 19 concluído: total_return = 53631.5400\n",
      "Trial 20 para hora 11: Testando estratégia com parâmetros {'length_rsi': 8.0, 'rsi_low': 36.0, 'rsi_high': 82.0}\n",
      "Trial 20 para hora 11: Usando backtester com TP=1788.20000, SL=516.40000\n",
      "Executando backtest para trial 20, hora 11...\n"
     ]
    },
    {
     "name": "stderr",
     "output_type": "stream",
     "text": [
      "\u001b[32m[I 2025-05-02 21:13:43,620]\u001b[0m Trial 20 finished with value: 54290.60000000079 and parameters: {'tp': 1788.2, 'sl': 516.4000000000001, 'length_rsi': 8.0, 'rsi_low': 36.0, 'rsi_high': 82.0}. Best is trial 20 with value: 54290.60000000079.\u001b[0m\n"
     ]
    },
    {
     "name": "stdout",
     "output_type": "stream",
     "text": [
      "Trial 20 concluído: total_return = 54290.6000\n",
      "Trial 21 para hora 11: Testando estratégia com parâmetros {'length_rsi': 8.0, 'rsi_low': 36.0, 'rsi_high': 81.0}\n",
      "Trial 21 para hora 11: Usando backtester com TP=1750.60000, SL=491.60000\n",
      "Executando backtest para trial 21, hora 11...\n"
     ]
    },
    {
     "name": "stderr",
     "output_type": "stream",
     "text": [
      "\u001b[32m[I 2025-05-02 21:13:44,253]\u001b[0m Trial 21 finished with value: 52049.24000000037 and parameters: {'tp': 1750.6000000000001, 'sl': 491.6, 'length_rsi': 8.0, 'rsi_low': 36.0, 'rsi_high': 81.0}. Best is trial 20 with value: 54290.60000000079.\u001b[0m\n"
     ]
    },
    {
     "name": "stdout",
     "output_type": "stream",
     "text": [
      "Trial 21 concluído: total_return = 52049.2400\n",
      "Trial 22 para hora 11: Testando estratégia com parâmetros {'length_rsi': 7.0, 'rsi_low': 31.0, 'rsi_high': 82.0}\n",
      "Trial 22 para hora 11: Usando backtester com TP=1613.30000, SL=489.90000\n",
      "Executando backtest para trial 22, hora 11...\n"
     ]
    },
    {
     "name": "stderr",
     "output_type": "stream",
     "text": [
      "\u001b[32m[I 2025-05-02 21:13:44,871]\u001b[0m Trial 22 finished with value: 44910.59999999983 and parameters: {'tp': 1613.3000000000002, 'sl': 489.90000000000003, 'length_rsi': 7.0, 'rsi_low': 31.0, 'rsi_high': 82.0}. Best is trial 20 with value: 54290.60000000079.\u001b[0m\n"
     ]
    },
    {
     "name": "stdout",
     "output_type": "stream",
     "text": [
      "Trial 22 concluído: total_return = 44910.6000\n",
      "Trial 23 para hora 11: Testando estratégia com parâmetros {'length_rsi': 8.0, 'rsi_low': 41.0, 'rsi_high': 77.0}\n",
      "Trial 23 para hora 11: Usando backtester com TP=1775.10000, SL=849.50000\n",
      "Executando backtest para trial 23, hora 11...\n"
     ]
    },
    {
     "name": "stderr",
     "output_type": "stream",
     "text": [
      "\u001b[32m[I 2025-05-02 21:13:45,501]\u001b[0m Trial 23 finished with value: 59819.39999999892 and parameters: {'tp': 1775.1000000000001, 'sl': 849.5, 'length_rsi': 8.0, 'rsi_low': 41.0, 'rsi_high': 77.0}. Best is trial 23 with value: 59819.39999999892.\u001b[0m\n"
     ]
    },
    {
     "name": "stdout",
     "output_type": "stream",
     "text": [
      "Trial 23 concluído: total_return = 59819.4000\n",
      "Trial 24 para hora 11: Testando estratégia com parâmetros {'length_rsi': 8.0, 'rsi_low': 41.0, 'rsi_high': 77.0}\n",
      "Trial 24 para hora 11: Usando backtester com TP=1612.20000, SL=825.20000\n",
      "Executando backtest para trial 24, hora 11...\n"
     ]
    },
    {
     "name": "stderr",
     "output_type": "stream",
     "text": [
      "\u001b[32m[I 2025-05-02 21:13:46,122]\u001b[0m Trial 24 finished with value: 59949.87999999926 and parameters: {'tp': 1612.2, 'sl': 825.2, 'length_rsi': 8.0, 'rsi_low': 41.0, 'rsi_high': 77.0}. Best is trial 24 with value: 59949.87999999926.\u001b[0m\n"
     ]
    },
    {
     "name": "stdout",
     "output_type": "stream",
     "text": [
      "Trial 24 concluído: total_return = 59949.8800\n",
      "Trial 25 para hora 11: Testando estratégia com parâmetros {'length_rsi': 8.0, 'rsi_low': 45.0, 'rsi_high': 77.0}\n",
      "Trial 25 para hora 11: Usando backtester com TP=1798.80000, SL=907.30000\n",
      "Executando backtest para trial 25, hora 11...\n"
     ]
    },
    {
     "name": "stderr",
     "output_type": "stream",
     "text": [
      "\u001b[32m[I 2025-05-02 21:13:46,770]\u001b[0m Trial 25 finished with value: 57004.40000000087 and parameters: {'tp': 1798.8000000000002, 'sl': 907.3000000000001, 'length_rsi': 8.0, 'rsi_low': 45.0, 'rsi_high': 77.0}. Best is trial 24 with value: 59949.87999999926.\u001b[0m\n"
     ]
    },
    {
     "name": "stdout",
     "output_type": "stream",
     "text": [
      "Trial 25 concluído: total_return = 57004.4000\n",
      "Trial 26 para hora 11: Testando estratégia com parâmetros {'length_rsi': 7.0, 'rsi_low': 44.0, 'rsi_high': 76.0}\n",
      "Trial 26 para hora 11: Usando backtester com TP=718.90000, SL=886.60000\n",
      "Executando backtest para trial 26, hora 11...\n"
     ]
    },
    {
     "name": "stderr",
     "output_type": "stream",
     "text": [
      "\u001b[32m[I 2025-05-02 21:13:47,388]\u001b[0m Trial 26 finished with value: 26376.80000000009 and parameters: {'tp': 718.9000000000001, 'sl': 886.6, 'length_rsi': 7.0, 'rsi_low': 44.0, 'rsi_high': 76.0}. Best is trial 24 with value: 59949.87999999926.\u001b[0m\n"
     ]
    },
    {
     "name": "stdout",
     "output_type": "stream",
     "text": [
      "Trial 26 concluído: total_return = 26376.8000\n",
      "Trial 27 para hora 11: Testando estratégia com parâmetros {'length_rsi': 8.0, 'rsi_low': 41.0, 'rsi_high': 69.0}\n",
      "Trial 27 para hora 11: Usando backtester com TP=1232.30000, SL=911.80000\n",
      "Executando backtest para trial 27, hora 11...\n"
     ]
    },
    {
     "name": "stderr",
     "output_type": "stream",
     "text": [
      "\u001b[32m[I 2025-05-02 21:13:48,021]\u001b[0m Trial 27 finished with value: 50807.499999998836 and parameters: {'tp': 1232.3, 'sl': 911.8000000000001, 'length_rsi': 8.0, 'rsi_low': 41.0, 'rsi_high': 69.0}. Best is trial 24 with value: 59949.87999999926.\u001b[0m\n"
     ]
    },
    {
     "name": "stdout",
     "output_type": "stream",
     "text": [
      "Trial 27 concluído: total_return = 50807.5000\n",
      "Trial 28 para hora 11: Testando estratégia com parâmetros {'length_rsi': 7.0, 'rsi_low': 45.0, 'rsi_high': 77.0}\n",
      "Trial 28 para hora 11: Usando backtester com TP=1629.50000, SL=863.40000\n",
      "Executando backtest para trial 28, hora 11...\n"
     ]
    },
    {
     "name": "stderr",
     "output_type": "stream",
     "text": [
      "\u001b[32m[I 2025-05-02 21:13:48,638]\u001b[0m Trial 28 finished with value: 53632.479999999894 and parameters: {'tp': 1629.5, 'sl': 863.4000000000001, 'length_rsi': 7.0, 'rsi_low': 45.0, 'rsi_high': 77.0}. Best is trial 24 with value: 59949.87999999926.\u001b[0m\n"
     ]
    },
    {
     "name": "stdout",
     "output_type": "stream",
     "text": [
      "Trial 28 concluído: total_return = 53632.4800\n",
      "Trial 29 para hora 11: Testando estratégia com parâmetros {'length_rsi': 8.0, 'rsi_low': 43.0, 'rsi_high': 74.0}\n",
      "Trial 29 para hora 11: Usando backtester com TP=1489.30000, SL=1084.50000\n",
      "Executando backtest para trial 29, hora 11...\n"
     ]
    },
    {
     "name": "stderr",
     "output_type": "stream",
     "text": [
      "\u001b[32m[I 2025-05-02 21:13:49,269]\u001b[0m Trial 29 finished with value: 47518.27999999971 and parameters: {'tp': 1489.3000000000002, 'sl': 1084.5, 'length_rsi': 8.0, 'rsi_low': 43.0, 'rsi_high': 74.0}. Best is trial 24 with value: 59949.87999999926.\u001b[0m\n"
     ]
    },
    {
     "name": "stdout",
     "output_type": "stream",
     "text": [
      "Trial 29 concluído: total_return = 47518.2800\n",
      "Trial 30 para hora 11: Testando estratégia com parâmetros {'length_rsi': 8.0, 'rsi_low': 41.0, 'rsi_high': 71.0}\n",
      "Trial 30 para hora 11: Usando backtester com TP=1650.90000, SL=635.30000\n",
      "Executando backtest para trial 30, hora 11...\n"
     ]
    },
    {
     "name": "stderr",
     "output_type": "stream",
     "text": [
      "\u001b[32m[I 2025-05-02 21:13:49,889]\u001b[0m Trial 30 finished with value: 68876.2200000015 and parameters: {'tp': 1650.9, 'sl': 635.3000000000001, 'length_rsi': 8.0, 'rsi_low': 41.0, 'rsi_high': 71.0}. Best is trial 30 with value: 68876.2200000015.\u001b[0m\n"
     ]
    },
    {
     "name": "stdout",
     "output_type": "stream",
     "text": [
      "Trial 30 concluído: total_return = 68876.2200\n",
      "Trial 31 para hora 11: Testando estratégia com parâmetros {'length_rsi': 8.0, 'rsi_low': 41.0, 'rsi_high': 65.0}\n",
      "Trial 31 para hora 11: Usando backtester com TP=1647.00000, SL=339.00000\n",
      "Executando backtest para trial 31, hora 11...\n"
     ]
    },
    {
     "name": "stderr",
     "output_type": "stream",
     "text": [
      "\u001b[32m[I 2025-05-02 21:13:50,536]\u001b[0m Trial 31 finished with value: 50311.399999996065 and parameters: {'tp': 1647.0, 'sl': 339.0, 'length_rsi': 8.0, 'rsi_low': 41.0, 'rsi_high': 65.0}. Best is trial 30 with value: 68876.2200000015.\u001b[0m\n"
     ]
    },
    {
     "name": "stdout",
     "output_type": "stream",
     "text": [
      "Trial 31 concluído: total_return = 50311.4000\n",
      "Trial 32 para hora 11: Testando estratégia com parâmetros {'length_rsi': 8.0, 'rsi_low': 44.0, 'rsi_high': 70.0}\n",
      "Trial 32 para hora 11: Usando backtester com TP=1354.60000, SL=631.30000\n",
      "Executando backtest para trial 32, hora 11...\n"
     ]
    },
    {
     "name": "stderr",
     "output_type": "stream",
     "text": [
      "\u001b[32m[I 2025-05-02 21:13:51,154]\u001b[0m Trial 32 finished with value: 63871.91999999812 and parameters: {'tp': 1354.6000000000001, 'sl': 631.3000000000001, 'length_rsi': 8.0, 'rsi_low': 44.0, 'rsi_high': 70.0}. Best is trial 30 with value: 68876.2200000015.\u001b[0m\n"
     ]
    },
    {
     "name": "stdout",
     "output_type": "stream",
     "text": [
      "Trial 32 concluído: total_return = 63871.9200\n",
      "Trial 33 para hora 11: Testando estratégia com parâmetros {'length_rsi': 6.0, 'rsi_low': 43.0, 'rsi_high': 71.0}\n",
      "Trial 33 para hora 11: Usando backtester com TP=1406.00000, SL=678.10000\n",
      "Executando backtest para trial 33, hora 11...\n"
     ]
    },
    {
     "name": "stderr",
     "output_type": "stream",
     "text": [
      "\u001b[32m[I 2025-05-02 21:13:51,818]\u001b[0m Trial 33 finished with value: 59022.69999999803 and parameters: {'tp': 1406.0, 'sl': 678.1, 'length_rsi': 6.0, 'rsi_low': 43.0, 'rsi_high': 71.0}. Best is trial 30 with value: 68876.2200000015.\u001b[0m\n"
     ]
    },
    {
     "name": "stdout",
     "output_type": "stream",
     "text": [
      "Trial 33 concluído: total_return = 59022.7000\n",
      "Trial 34 para hora 11: Testando estratégia com parâmetros {'length_rsi': 8.0, 'rsi_low': 41.0, 'rsi_high': 67.0}\n",
      "Trial 34 para hora 11: Usando backtester com TP=1503.80000, SL=597.90000\n",
      "Executando backtest para trial 34, hora 11...\n"
     ]
    },
    {
     "name": "stderr",
     "output_type": "stream",
     "text": [
      "\u001b[32m[I 2025-05-02 21:13:52,452]\u001b[0m Trial 34 finished with value: 61442.65999999711 and parameters: {'tp': 1503.8000000000002, 'sl': 597.9, 'length_rsi': 8.0, 'rsi_low': 41.0, 'rsi_high': 67.0}. Best is trial 30 with value: 68876.2200000015.\u001b[0m\n"
     ]
    },
    {
     "name": "stdout",
     "output_type": "stream",
     "text": [
      "Trial 34 concluído: total_return = 61442.6600\n",
      "Trial 35 para hora 11: Testando estratégia com parâmetros {'length_rsi': 8.0, 'rsi_low': 43.0, 'rsi_high': 67.0}\n",
      "Trial 35 para hora 11: Usando backtester com TP=1187.90000, SL=623.10000\n",
      "Executando backtest para trial 35, hora 11...\n"
     ]
    },
    {
     "name": "stderr",
     "output_type": "stream",
     "text": [
      "\u001b[32m[I 2025-05-02 21:13:53,100]\u001b[0m Trial 35 finished with value: 52700.40000000011 and parameters: {'tp': 1187.9, 'sl': 623.1, 'length_rsi': 8.0, 'rsi_low': 43.0, 'rsi_high': 67.0}. Best is trial 30 with value: 68876.2200000015.\u001b[0m\n"
     ]
    },
    {
     "name": "stdout",
     "output_type": "stream",
     "text": [
      "Trial 35 concluído: total_return = 52700.4000\n",
      "Trial 36 para hora 11: Testando estratégia com parâmetros {'length_rsi': 7.0, 'rsi_low': 42.0, 'rsi_high': 57.0}\n",
      "Trial 36 para hora 11: Usando backtester com TP=1523.10000, SL=340.40000\n",
      "Executando backtest para trial 36, hora 11...\n"
     ]
    },
    {
     "name": "stderr",
     "output_type": "stream",
     "text": [
      "\u001b[32m[I 2025-05-02 21:13:53,738]\u001b[0m Trial 36 finished with value: 53247.43999999414 and parameters: {'tp': 1523.1000000000001, 'sl': 340.40000000000003, 'length_rsi': 7.0, 'rsi_low': 42.0, 'rsi_high': 57.0}. Best is trial 30 with value: 68876.2200000015.\u001b[0m\n"
     ]
    },
    {
     "name": "stdout",
     "output_type": "stream",
     "text": [
      "Trial 36 concluído: total_return = 53247.4400\n",
      "Trial 37 para hora 11: Testando estratégia com parâmetros {'length_rsi': 8.0, 'rsi_low': 40.0, 'rsi_high': 62.0}\n",
      "Trial 37 para hora 11: Usando backtester com TP=1319.20000, SL=346.80000\n",
      "Executando backtest para trial 37, hora 11...\n"
     ]
    },
    {
     "name": "stderr",
     "output_type": "stream",
     "text": [
      "\u001b[32m[I 2025-05-02 21:13:54,383]\u001b[0m Trial 37 finished with value: 45560.839999997756 and parameters: {'tp': 1319.2, 'sl': 346.8, 'length_rsi': 8.0, 'rsi_low': 40.0, 'rsi_high': 62.0}. Best is trial 30 with value: 68876.2200000015.\u001b[0m\n"
     ]
    },
    {
     "name": "stdout",
     "output_type": "stream",
     "text": [
      "Trial 37 concluído: total_return = 45560.8400\n",
      "Trial 38 para hora 11: Testando estratégia com parâmetros {'length_rsi': 6.0, 'rsi_low': 44.0, 'rsi_high': 66.0}\n",
      "Trial 38 para hora 11: Usando backtester com TP=1093.30000, SL=265.50000\n",
      "Executando backtest para trial 38, hora 11...\n"
     ]
    },
    {
     "name": "stderr",
     "output_type": "stream",
     "text": [
      "\u001b[32m[I 2025-05-02 21:13:55,032]\u001b[0m Trial 38 finished with value: 47090.40000000532 and parameters: {'tp': 1093.3000000000002, 'sl': 265.5, 'length_rsi': 6.0, 'rsi_low': 44.0, 'rsi_high': 66.0}. Best is trial 30 with value: 68876.2200000015.\u001b[0m\n"
     ]
    },
    {
     "name": "stdout",
     "output_type": "stream",
     "text": [
      "Trial 38 concluído: total_return = 47090.4000\n",
      "Trial 39 para hora 11: Testando estratégia com parâmetros {'length_rsi': 8.0, 'rsi_low': 42.0, 'rsi_high': 70.0}\n",
      "Trial 39 para hora 11: Usando backtester com TP=1398.60000, SL=611.80000\n",
      "Executando backtest para trial 39, hora 11...\n"
     ]
    },
    {
     "name": "stderr",
     "output_type": "stream",
     "text": [
      "\u001b[32m[I 2025-05-02 21:13:55,685]\u001b[0m Trial 39 finished with value: 61982.67999999954 and parameters: {'tp': 1398.6000000000001, 'sl': 611.8000000000001, 'length_rsi': 8.0, 'rsi_low': 42.0, 'rsi_high': 70.0}. Best is trial 30 with value: 68876.2200000015.\u001b[0m\n"
     ]
    },
    {
     "name": "stdout",
     "output_type": "stream",
     "text": [
      "Trial 39 concluído: total_return = 61982.6800\n",
      "Trial 40 para hora 11: Testando estratégia com parâmetros {'length_rsi': 7.0, 'rsi_low': 43.0, 'rsi_high': 70.0}\n",
      "Trial 40 para hora 11: Usando backtester com TP=1393.60000, SL=96.10000\n",
      "Executando backtest para trial 40, hora 11...\n"
     ]
    },
    {
     "name": "stderr",
     "output_type": "stream",
     "text": [
      "\u001b[32m[I 2025-05-02 21:13:56,336]\u001b[0m Trial 40 finished with value: 20112.020000000266 and parameters: {'tp': 1393.6000000000001, 'sl': 96.1, 'length_rsi': 7.0, 'rsi_low': 43.0, 'rsi_high': 70.0}. Best is trial 30 with value: 68876.2200000015.\u001b[0m\n"
     ]
    },
    {
     "name": "stdout",
     "output_type": "stream",
     "text": [
      "Trial 40 concluído: total_return = 20112.0200\n",
      "Trial 41 para hora 11: Testando estratégia com parâmetros {'length_rsi': 8.0, 'rsi_low': 40.0, 'rsi_high': 73.0}\n",
      "Trial 41 para hora 11: Usando backtester com TP=1278.30000, SL=657.10000\n",
      "Executando backtest para trial 41, hora 11...\n"
     ]
    },
    {
     "name": "stderr",
     "output_type": "stream",
     "text": [
      "\u001b[32m[I 2025-05-02 21:13:56,969]\u001b[0m Trial 41 finished with value: 63177.320000002976 and parameters: {'tp': 1278.3, 'sl': 657.1, 'length_rsi': 8.0, 'rsi_low': 40.0, 'rsi_high': 73.0}. Best is trial 30 with value: 68876.2200000015.\u001b[0m\n"
     ]
    },
    {
     "name": "stdout",
     "output_type": "stream",
     "text": [
      "Trial 41 concluído: total_return = 63177.3200\n",
      "Trial 42 para hora 11: Testando estratégia com parâmetros {'length_rsi': 8.0, 'rsi_low': 40.0, 'rsi_high': 72.0}\n",
      "Trial 42 para hora 11: Usando backtester com TP=1257.60000, SL=604.30000\n",
      "Executando backtest para trial 42, hora 11...\n"
     ]
    },
    {
     "name": "stderr",
     "output_type": "stream",
     "text": [
      "\u001b[32m[I 2025-05-02 21:13:57,620]\u001b[0m Trial 42 finished with value: 64724.97999999834 and parameters: {'tp': 1257.6000000000001, 'sl': 604.3000000000001, 'length_rsi': 8.0, 'rsi_low': 40.0, 'rsi_high': 72.0}. Best is trial 30 with value: 68876.2200000015.\u001b[0m\n"
     ]
    },
    {
     "name": "stdout",
     "output_type": "stream",
     "text": [
      "Trial 42 concluído: total_return = 64724.9800\n",
      "Trial 43 para hora 11: Testando estratégia com parâmetros {'length_rsi': 8.0, 'rsi_low': 44.0, 'rsi_high': 73.0}\n",
      "Trial 43 para hora 11: Usando backtester com TP=1290.50000, SL=999.40000\n",
      "Executando backtest para trial 43, hora 11...\n"
     ]
    },
    {
     "name": "stderr",
     "output_type": "stream",
     "text": [
      "\u001b[32m[I 2025-05-02 21:13:58,238]\u001b[0m Trial 43 finished with value: 42701.6399999999 and parameters: {'tp': 1290.5, 'sl': 999.4000000000001, 'length_rsi': 8.0, 'rsi_low': 44.0, 'rsi_high': 73.0}. Best is trial 30 with value: 68876.2200000015.\u001b[0m\n"
     ]
    },
    {
     "name": "stdout",
     "output_type": "stream",
     "text": [
      "Trial 43 concluído: total_return = 42701.6400\n",
      "Trial 44 para hora 11: Testando estratégia com parâmetros {'length_rsi': 8.0, 'rsi_low': 40.0, 'rsi_high': 70.0}\n",
      "Trial 44 para hora 11: Usando backtester com TP=1077.50000, SL=657.80000\n",
      "Executando backtest para trial 44, hora 11...\n"
     ]
    },
    {
     "name": "stderr",
     "output_type": "stream",
     "text": [
      "\u001b[32m[I 2025-05-02 21:13:58,855]\u001b[0m Trial 44 finished with value: 58888.720000000845 and parameters: {'tp': 1077.5, 'sl': 657.8000000000001, 'length_rsi': 8.0, 'rsi_low': 40.0, 'rsi_high': 70.0}. Best is trial 30 with value: 68876.2200000015.\u001b[0m\n",
      "\u001b[32m[I 2025-05-02 21:13:58,871]\u001b[0m A new study created in memory with name: hora_12\u001b[0m\n"
     ]
    },
    {
     "name": "stdout",
     "output_type": "stream",
     "text": [
      "Trial 44 concluído: total_return = 58888.7200\n",
      "Otimização concluída para hora 11.\n",
      "\n",
      "Melhores parâmetros para hora 11:\n",
      "total_return: 68876.2200\n",
      "Parâmetros: {'length_rsi': 8.0, 'rsi_low': 41.0, 'rsi_high': 71.0, 'allowed_hours': [11], 'tp': 1650.9, 'sl': 635.3000000000001}\n",
      "Profit Factor: 1.2680\n",
      "Win Rate: 45.22%\n",
      "Max Drawdown: 131.98%\n",
      "Total Return: $68876.22\n",
      "Total Trades: 2415\n",
      "\n",
      "==================================================\n",
      "Otimizando estratégia para hora: 12:00\n",
      "Métrica: total_return - Direção: maximize\n",
      "==================================================\n",
      "Iniciando otimização com 45 trials para hora 12...\n",
      "Trial 0 para hora 12: Testando estratégia com parâmetros {'length_rsi': 6.0, 'rsi_low': 44.0, 'rsi_high': 58.0}\n",
      "Trial 0 para hora 12: Usando backtester com TP=872.60000, SL=1536.60000\n",
      "Executando backtest para trial 0, hora 12...\n"
     ]
    },
    {
     "name": "stderr",
     "output_type": "stream",
     "text": [
      "\u001b[32m[I 2025-05-02 21:13:59,488]\u001b[0m Trial 0 finished with value: 38518.0400000003 and parameters: {'tp': 872.6, 'sl': 1536.6000000000001, 'length_rsi': 6.0, 'rsi_low': 44.0, 'rsi_high': 58.0}. Best is trial 0 with value: 38518.0400000003.\u001b[0m\n"
     ]
    },
    {
     "name": "stdout",
     "output_type": "stream",
     "text": [
      "Trial 0 concluído: total_return = 38518.0400\n",
      "Trial 1 para hora 12: Testando estratégia com parâmetros {'length_rsi': 9.0, 'rsi_low': 38.0, 'rsi_high': 66.0}\n",
      "Trial 1 para hora 12: Usando backtester com TP=782.70000, SL=1282.20000\n",
      "Executando backtest para trial 1, hora 12...\n"
     ]
    },
    {
     "name": "stderr",
     "output_type": "stream",
     "text": [
      "\u001b[32m[I 2025-05-02 21:14:00,120]\u001b[0m Trial 1 finished with value: 28701.660000000862 and parameters: {'tp': 782.7, 'sl': 1282.2, 'length_rsi': 9.0, 'rsi_low': 38.0, 'rsi_high': 66.0}. Best is trial 0 with value: 38518.0400000003.\u001b[0m\n"
     ]
    },
    {
     "name": "stdout",
     "output_type": "stream",
     "text": [
      "Trial 1 concluído: total_return = 28701.6600\n",
      "Trial 2 para hora 12: Testando estratégia com parâmetros {'length_rsi': 9.0, 'rsi_low': 29.0, 'rsi_high': 61.0}\n",
      "Trial 2 para hora 12: Usando backtester com TP=915.50000, SL=692.90000\n",
      "Executando backtest para trial 2, hora 12...\n"
     ]
    },
    {
     "name": "stderr",
     "output_type": "stream",
     "text": [
      "\u001b[32m[I 2025-05-02 21:14:00,755]\u001b[0m Trial 2 finished with value: 33012.61999999891 and parameters: {'tp': 915.5, 'sl': 692.9, 'length_rsi': 9.0, 'rsi_low': 29.0, 'rsi_high': 61.0}. Best is trial 0 with value: 38518.0400000003.\u001b[0m\n"
     ]
    },
    {
     "name": "stdout",
     "output_type": "stream",
     "text": [
      "Trial 2 concluído: total_return = 33012.6200\n",
      "Trial 3 para hora 12: Testando estratégia com parâmetros {'length_rsi': 6.0, 'rsi_low': 42.0, 'rsi_high': 62.0}\n",
      "Trial 3 para hora 12: Usando backtester com TP=250.90000, SL=1647.50000\n",
      "Executando backtest para trial 3, hora 12...\n"
     ]
    },
    {
     "name": "stderr",
     "output_type": "stream",
     "text": [
      "\u001b[32m[I 2025-05-02 21:14:01,372]\u001b[0m Trial 3 finished with value: 9052.340000000833 and parameters: {'tp': 250.9, 'sl': 1647.5, 'length_rsi': 6.0, 'rsi_low': 42.0, 'rsi_high': 62.0}. Best is trial 0 with value: 38518.0400000003.\u001b[0m\n"
     ]
    },
    {
     "name": "stdout",
     "output_type": "stream",
     "text": [
      "Trial 3 concluído: total_return = 9052.3400\n",
      "Trial 4 para hora 12: Testando estratégia com parâmetros {'length_rsi': 6.0, 'rsi_low': 28.0, 'rsi_high': 64.0}\n",
      "Trial 4 para hora 12: Usando backtester com TP=1093.40000, SL=1639.50000\n",
      "Executando backtest para trial 4, hora 12...\n"
     ]
    },
    {
     "name": "stderr",
     "output_type": "stream",
     "text": [
      "\u001b[32m[I 2025-05-02 21:14:01,989]\u001b[0m Trial 4 finished with value: 26141.60000000007 and parameters: {'tp': 1093.4, 'sl': 1639.5, 'length_rsi': 6.0, 'rsi_low': 28.0, 'rsi_high': 64.0}. Best is trial 0 with value: 38518.0400000003.\u001b[0m\n"
     ]
    },
    {
     "name": "stdout",
     "output_type": "stream",
     "text": [
      "Trial 4 concluído: total_return = 26141.6000\n",
      "Trial 5 para hora 12: Testando estratégia com parâmetros {'length_rsi': 9.0, 'rsi_low': 40.0, 'rsi_high': 77.0}\n",
      "Trial 5 para hora 12: Usando backtester com TP=117.60000, SL=842.60000\n",
      "Executando backtest para trial 5, hora 12...\n"
     ]
    },
    {
     "name": "stderr",
     "output_type": "stream",
     "text": [
      "\u001b[32m[I 2025-05-02 21:14:02,621]\u001b[0m Trial 5 finished with value: 4332.760000000155 and parameters: {'tp': 117.6, 'sl': 842.6, 'length_rsi': 9.0, 'rsi_low': 40.0, 'rsi_high': 77.0}. Best is trial 0 with value: 38518.0400000003.\u001b[0m\n"
     ]
    },
    {
     "name": "stdout",
     "output_type": "stream",
     "text": [
      "Trial 5 concluído: total_return = 4332.7600\n",
      "Trial 6 para hora 12: Testando estratégia com parâmetros {'length_rsi': 7.0, 'rsi_low': 29.0, 'rsi_high': 81.0}\n",
      "Trial 6 para hora 12: Usando backtester com TP=1797.20000, SL=1234.70000\n",
      "Executando backtest para trial 6, hora 12...\n"
     ]
    },
    {
     "name": "stderr",
     "output_type": "stream",
     "text": [
      "\u001b[32m[I 2025-05-02 21:14:03,223]\u001b[0m Trial 6 finished with value: 17987.699999999975 and parameters: {'tp': 1797.2, 'sl': 1234.7, 'length_rsi': 7.0, 'rsi_low': 29.0, 'rsi_high': 81.0}. Best is trial 0 with value: 38518.0400000003.\u001b[0m\n"
     ]
    },
    {
     "name": "stdout",
     "output_type": "stream",
     "text": [
      "Trial 6 concluído: total_return = 17987.7000\n",
      "Trial 7 para hora 12: Testando estratégia com parâmetros {'length_rsi': 6.0, 'rsi_low': 28.0, 'rsi_high': 64.0}\n",
      "Trial 7 para hora 12: Usando backtester com TP=391.10000, SL=460.70000\n",
      "Executando backtest para trial 7, hora 12...\n"
     ]
    },
    {
     "name": "stderr",
     "output_type": "stream",
     "text": [
      "\u001b[32m[I 2025-05-02 21:14:03,856]\u001b[0m Trial 7 finished with value: 18913.559999999925 and parameters: {'tp': 391.1, 'sl': 460.70000000000005, 'length_rsi': 6.0, 'rsi_low': 28.0, 'rsi_high': 64.0}. Best is trial 0 with value: 38518.0400000003.\u001b[0m\n"
     ]
    },
    {
     "name": "stdout",
     "output_type": "stream",
     "text": [
      "Trial 7 concluído: total_return = 18913.5600\n",
      "Trial 8 para hora 12: Testando estratégia com parâmetros {'length_rsi': 6.0, 'rsi_low': 43.0, 'rsi_high': 75.0}\n",
      "Trial 8 para hora 12: Usando backtester com TP=861.80000, SL=1020.80000\n",
      "Executando backtest para trial 8, hora 12...\n"
     ]
    },
    {
     "name": "stderr",
     "output_type": "stream",
     "text": [
      "\u001b[32m[I 2025-05-02 21:14:04,473]\u001b[0m Trial 8 finished with value: 29878.240000000704 and parameters: {'tp': 861.8000000000001, 'sl': 1020.8000000000001, 'length_rsi': 6.0, 'rsi_low': 43.0, 'rsi_high': 75.0}. Best is trial 0 with value: 38518.0400000003.\u001b[0m\n"
     ]
    },
    {
     "name": "stdout",
     "output_type": "stream",
     "text": [
      "Trial 8 concluído: total_return = 29878.2400\n",
      "Trial 9 para hora 12: Testando estratégia com parâmetros {'length_rsi': 8.0, 'rsi_low': 25.0, 'rsi_high': 85.0}\n",
      "Trial 9 para hora 12: Usando backtester com TP=1776.80000, SL=519.70000\n",
      "Executando backtest para trial 9, hora 12...\n"
     ]
    },
    {
     "name": "stderr",
     "output_type": "stream",
     "text": [
      "\u001b[32m[I 2025-05-02 21:14:05,073]\u001b[0m Trial 9 finished with value: 4116.659999999996 and parameters: {'tp': 1776.8000000000002, 'sl': 519.7, 'length_rsi': 8.0, 'rsi_low': 25.0, 'rsi_high': 85.0}. Best is trial 0 with value: 38518.0400000003.\u001b[0m\n"
     ]
    },
    {
     "name": "stdout",
     "output_type": "stream",
     "text": [
      "Trial 9 concluído: total_return = 4116.6600\n",
      "Trial 10 para hora 12: Testando estratégia com parâmetros {'length_rsi': 7.0, 'rsi_low': 35.0, 'rsi_high': 55.0}\n",
      "Trial 10 para hora 12: Usando backtester com TP=1317.90000, SL=189.10000\n",
      "Executando backtest para trial 10, hora 12...\n"
     ]
    },
    {
     "name": "stderr",
     "output_type": "stream",
     "text": [
      "\u001b[32m[I 2025-05-02 21:14:05,705]\u001b[0m Trial 10 finished with value: 10063.380000001118 and parameters: {'tp': 1317.9, 'sl': 189.10000000000002, 'length_rsi': 7.0, 'rsi_low': 35.0, 'rsi_high': 55.0}. Best is trial 0 with value: 38518.0400000003.\u001b[0m\n"
     ]
    },
    {
     "name": "stdout",
     "output_type": "stream",
     "text": [
      "Trial 10 concluído: total_return = 10063.3800\n",
      "Trial 11 para hora 12: Testando estratégia com parâmetros {'length_rsi': 8.0, 'rsi_low': 34.0, 'rsi_high': 55.0}\n",
      "Trial 11 para hora 12: Usando backtester com TP=590.00000, SL=755.50000\n",
      "Executando backtest para trial 11, hora 12...\n"
     ]
    },
    {
     "name": "stderr",
     "output_type": "stream",
     "text": [
      "\u001b[32m[I 2025-05-02 21:14:06,335]\u001b[0m Trial 11 finished with value: 44173.300000001516 and parameters: {'tp': 590.0, 'sl': 755.5, 'length_rsi': 8.0, 'rsi_low': 34.0, 'rsi_high': 55.0}. Best is trial 11 with value: 44173.300000001516.\u001b[0m\n"
     ]
    },
    {
     "name": "stdout",
     "output_type": "stream",
     "text": [
      "Trial 11 concluído: total_return = 44173.3000\n",
      "Trial 12 para hora 12: Testando estratégia com parâmetros {'length_rsi': 8.0, 'rsi_low': 34.0, 'rsi_high': 55.0}\n",
      "Trial 12 para hora 12: Usando backtester com TP=562.10000, SL=1321.30000\n",
      "Executando backtest para trial 12, hora 12...\n"
     ]
    },
    {
     "name": "stderr",
     "output_type": "stream",
     "text": [
      "\u001b[32m[I 2025-05-02 21:14:06,972]\u001b[0m Trial 12 finished with value: 32174.29999999756 and parameters: {'tp': 562.1, 'sl': 1321.3000000000002, 'length_rsi': 8.0, 'rsi_low': 34.0, 'rsi_high': 55.0}. Best is trial 11 with value: 44173.300000001516.\u001b[0m\n"
     ]
    },
    {
     "name": "stdout",
     "output_type": "stream",
     "text": [
      "Trial 12 concluído: total_return = 32174.3000\n",
      "Trial 13 para hora 12: Testando estratégia com parâmetros {'length_rsi': 8.0, 'rsi_low': 45.0, 'rsi_high': 58.0}\n",
      "Trial 13 para hora 12: Usando backtester com TP=596.60000, SL=1075.20000\n",
      "Executando backtest para trial 13, hora 12...\n"
     ]
    },
    {
     "name": "stderr",
     "output_type": "stream",
     "text": [
      "\u001b[32m[I 2025-05-02 21:14:07,589]\u001b[0m Trial 13 finished with value: 34655.87999999854 and parameters: {'tp': 596.6, 'sl': 1075.2, 'length_rsi': 8.0, 'rsi_low': 45.0, 'rsi_high': 58.0}. Best is trial 11 with value: 44173.300000001516.\u001b[0m\n"
     ]
    },
    {
     "name": "stdout",
     "output_type": "stream",
     "text": [
      "Trial 13 concluído: total_return = 34655.8800\n",
      "Trial 14 para hora 12: Testando estratégia com parâmetros {'length_rsi': 7.0, 'rsi_low': 33.0, 'rsi_high': 71.0}\n",
      "Trial 14 para hora 12: Usando backtester com TP=1236.00000, SL=1511.30000\n",
      "Executando backtest para trial 14, hora 12...\n"
     ]
    },
    {
     "name": "stderr",
     "output_type": "stream",
     "text": [
      "\u001b[32m[I 2025-05-02 21:14:08,219]\u001b[0m Trial 14 finished with value: 21162.240000000136 and parameters: {'tp': 1236.0, 'sl': 1511.3000000000002, 'length_rsi': 7.0, 'rsi_low': 33.0, 'rsi_high': 71.0}. Best is trial 11 with value: 44173.300000001516.\u001b[0m\n"
     ]
    },
    {
     "name": "stdout",
     "output_type": "stream",
     "text": [
      "Trial 14 concluído: total_return = 21162.2400\n",
      "Trial 15 para hora 12: Testando estratégia com parâmetros {'length_rsi': 7.0, 'rsi_low': 38.0, 'rsi_high': 69.0}\n",
      "Trial 15 para hora 12: Usando backtester com TP=1464.20000, SL=811.40000\n",
      "Executando backtest para trial 15, hora 12...\n"
     ]
    },
    {
     "name": "stderr",
     "output_type": "stream",
     "text": [
      "\u001b[32m[I 2025-05-02 21:14:08,853]\u001b[0m Trial 15 finished with value: 33092.44000000082 and parameters: {'tp': 1464.2, 'sl': 811.4000000000001, 'length_rsi': 7.0, 'rsi_low': 38.0, 'rsi_high': 69.0}. Best is trial 11 with value: 44173.300000001516.\u001b[0m\n"
     ]
    },
    {
     "name": "stdout",
     "output_type": "stream",
     "text": [
      "Trial 15 concluído: total_return = 33092.4400\n",
      "Trial 16 para hora 12: Testando estratégia com parâmetros {'length_rsi': 8.0, 'rsi_low': 37.0, 'rsi_high': 59.0}\n",
      "Trial 16 para hora 12: Usando backtester com TP=637.30000, SL=87.80000\n",
      "Executando backtest para trial 16, hora 12...\n"
     ]
    },
    {
     "name": "stderr",
     "output_type": "stream",
     "text": [
      "\u001b[32m[I 2025-05-02 21:14:09,472]\u001b[0m Trial 16 finished with value: -5780.000000000167 and parameters: {'tp': 637.3000000000001, 'sl': 87.8, 'length_rsi': 8.0, 'rsi_low': 37.0, 'rsi_high': 59.0}. Best is trial 11 with value: 44173.300000001516.\u001b[0m\n"
     ]
    },
    {
     "name": "stdout",
     "output_type": "stream",
     "text": [
      "Trial 16 concluído: total_return = -5780.0000\n",
      "Trial 17 para hora 12: Testando estratégia com parâmetros {'length_rsi': 7.0, 'rsi_low': 32.0, 'rsi_high': 58.0}\n",
      "Trial 17 para hora 12: Usando backtester com TP=391.20000, SL=573.70000\n",
      "Executando backtest para trial 17, hora 12...\n"
     ]
    },
    {
     "name": "stderr",
     "output_type": "stream",
     "text": [
      "\u001b[32m[I 2025-05-02 21:14:10,120]\u001b[0m Trial 17 finished with value: 23838.68000000091 and parameters: {'tp': 391.20000000000005, 'sl': 573.7, 'length_rsi': 7.0, 'rsi_low': 32.0, 'rsi_high': 58.0}. Best is trial 11 with value: 44173.300000001516.\u001b[0m\n"
     ]
    },
    {
     "name": "stdout",
     "output_type": "stream",
     "text": [
      "Trial 17 concluído: total_return = 23838.6800\n",
      "Trial 18 para hora 12: Testando estratégia com parâmetros {'length_rsi': 8.0, 'rsi_low': 31.0, 'rsi_high': 55.0}\n",
      "Trial 18 para hora 12: Usando backtester com TP=1054.90000, SL=314.10000\n",
      "Executando backtest para trial 18, hora 12...\n"
     ]
    },
    {
     "name": "stderr",
     "output_type": "stream",
     "text": [
      "\u001b[32m[I 2025-05-02 21:14:10,739]\u001b[0m Trial 18 finished with value: 30197.900000000533 and parameters: {'tp': 1054.9, 'sl': 314.1, 'length_rsi': 8.0, 'rsi_low': 31.0, 'rsi_high': 55.0}. Best is trial 11 with value: 44173.300000001516.\u001b[0m\n"
     ]
    },
    {
     "name": "stdout",
     "output_type": "stream",
     "text": [
      "Trial 18 concluído: total_return = 30197.9000\n",
      "Trial 19 para hora 12: Testando estratégia com parâmetros {'length_rsi': 9.0, 'rsi_low': 36.0, 'rsi_high': 69.0}\n",
      "Trial 19 para hora 12: Usando backtester com TP=725.80000, SL=1776.60000\n",
      "Executando backtest para trial 19, hora 12...\n"
     ]
    },
    {
     "name": "stderr",
     "output_type": "stream",
     "text": [
      "\u001b[32m[I 2025-05-02 21:14:11,354]\u001b[0m Trial 19 finished with value: 24739.83999999991 and parameters: {'tp': 725.8000000000001, 'sl': 1776.6000000000001, 'length_rsi': 9.0, 'rsi_low': 36.0, 'rsi_high': 69.0}. Best is trial 11 with value: 44173.300000001516.\u001b[0m\n"
     ]
    },
    {
     "name": "stdout",
     "output_type": "stream",
     "text": [
      "Trial 19 concluído: total_return = 24739.8400\n",
      "Trial 20 para hora 12: Testando estratégia com parâmetros {'length_rsi': 6.0, 'rsi_low': 40.0, 'rsi_high': 60.0}\n",
      "Trial 20 para hora 12: Usando backtester com TP=407.10000, SL=1094.30000\n",
      "Executando backtest para trial 20, hora 12...\n"
     ]
    },
    {
     "name": "stderr",
     "output_type": "stream",
     "text": [
      "\u001b[32m[I 2025-05-02 21:14:11,985]\u001b[0m Trial 20 finished with value: 20939.259999996786 and parameters: {'tp': 407.1, 'sl': 1094.3000000000002, 'length_rsi': 6.0, 'rsi_low': 40.0, 'rsi_high': 60.0}. Best is trial 11 with value: 44173.300000001516.\u001b[0m\n"
     ]
    },
    {
     "name": "stdout",
     "output_type": "stream",
     "text": [
      "Trial 20 concluído: total_return = 20939.2600\n",
      "Trial 21 para hora 12: Testando estratégia com parâmetros {'length_rsi': 8.0, 'rsi_low': 45.0, 'rsi_high': 58.0}\n",
      "Trial 21 para hora 12: Usando backtester com TP=548.80000, SL=1420.70000\n",
      "Executando backtest para trial 21, hora 12...\n"
     ]
    },
    {
     "name": "stderr",
     "output_type": "stream",
     "text": [
      "\u001b[32m[I 2025-05-02 21:14:12,621]\u001b[0m Trial 21 finished with value: 32510.939999997434 and parameters: {'tp': 548.8, 'sl': 1420.7, 'length_rsi': 8.0, 'rsi_low': 45.0, 'rsi_high': 58.0}. Best is trial 11 with value: 44173.300000001516.\u001b[0m\n"
     ]
    },
    {
     "name": "stdout",
     "output_type": "stream",
     "text": [
      "Trial 21 concluído: total_return = 32510.9400\n",
      "Trial 22 para hora 12: Testando estratégia com parâmetros {'length_rsi': 8.0, 'rsi_low': 45.0, 'rsi_high': 57.0}\n",
      "Trial 22 para hora 12: Usando backtester com TP=688.70000, SL=903.10000\n",
      "Executando backtest para trial 22, hora 12...\n"
     ]
    },
    {
     "name": "stderr",
     "output_type": "stream",
     "text": [
      "\u001b[32m[I 2025-05-02 21:14:13,239]\u001b[0m Trial 22 finished with value: 35180.96000000302 and parameters: {'tp': 688.7, 'sl': 903.1, 'length_rsi': 8.0, 'rsi_low': 45.0, 'rsi_high': 57.0}. Best is trial 11 with value: 44173.300000001516.\u001b[0m\n"
     ]
    },
    {
     "name": "stdout",
     "output_type": "stream",
     "text": [
      "Trial 22 concluído: total_return = 35180.9600\n",
      "Trial 23 para hora 12: Testando estratégia com parâmetros {'length_rsi': 8.0, 'rsi_low': 43.0, 'rsi_high': 57.0}\n",
      "Trial 23 para hora 12: Usando backtester com TP=1041.40000, SL=869.00000\n",
      "Executando backtest para trial 23, hora 12...\n"
     ]
    },
    {
     "name": "stderr",
     "output_type": "stream",
     "text": [
      "\u001b[32m[I 2025-05-02 21:14:13,886]\u001b[0m Trial 23 finished with value: 45800.799999998286 and parameters: {'tp': 1041.4, 'sl': 869.0, 'length_rsi': 8.0, 'rsi_low': 43.0, 'rsi_high': 57.0}. Best is trial 23 with value: 45800.799999998286.\u001b[0m\n"
     ]
    },
    {
     "name": "stdout",
     "output_type": "stream",
     "text": [
      "Trial 23 concluído: total_return = 45800.8000\n",
      "Trial 24 para hora 12: Testando estratégia com parâmetros {'length_rsi': 7.0, 'rsi_low': 42.0, 'rsi_high': 63.0}\n",
      "Trial 24 para hora 12: Usando backtester com TP=1042.50000, SL=699.90000\n",
      "Executando backtest para trial 24, hora 12...\n"
     ]
    },
    {
     "name": "stderr",
     "output_type": "stream",
     "text": [
      "\u001b[32m[I 2025-05-02 21:14:14,508]\u001b[0m Trial 24 finished with value: 47760.23999999868 and parameters: {'tp': 1042.5, 'sl': 699.9000000000001, 'length_rsi': 7.0, 'rsi_low': 42.0, 'rsi_high': 63.0}. Best is trial 24 with value: 47760.23999999868.\u001b[0m\n"
     ]
    },
    {
     "name": "stdout",
     "output_type": "stream",
     "text": [
      "Trial 24 concluído: total_return = 47760.2400\n",
      "Trial 25 para hora 12: Testando estratégia com parâmetros {'length_rsi': 7.0, 'rsi_low': 40.0, 'rsi_high': 66.0}\n",
      "Trial 25 para hora 12: Usando backtester com TP=1090.10000, SL=688.70000\n",
      "Executando backtest para trial 25, hora 12...\n"
     ]
    },
    {
     "name": "stderr",
     "output_type": "stream",
     "text": [
      "\u001b[32m[I 2025-05-02 21:14:15,123]\u001b[0m Trial 25 finished with value: 45785.319999998916 and parameters: {'tp': 1090.1, 'sl': 688.7, 'length_rsi': 7.0, 'rsi_low': 40.0, 'rsi_high': 66.0}. Best is trial 24 with value: 47760.23999999868.\u001b[0m\n"
     ]
    },
    {
     "name": "stdout",
     "output_type": "stream",
     "text": [
      "Trial 25 concluído: total_return = 45785.3200\n",
      "Trial 26 para hora 12: Testando estratégia com parâmetros {'length_rsi': 7.0, 'rsi_low': 41.0, 'rsi_high': 67.0}\n",
      "Trial 26 para hora 12: Usando backtester com TP=1498.80000, SL=654.60000\n",
      "Executando backtest para trial 26, hora 12...\n"
     ]
    },
    {
     "name": "stderr",
     "output_type": "stream",
     "text": [
      "\u001b[32m[I 2025-05-02 21:14:15,756]\u001b[0m Trial 26 finished with value: 39258.120000001945 and parameters: {'tp': 1498.8000000000002, 'sl': 654.6, 'length_rsi': 7.0, 'rsi_low': 41.0, 'rsi_high': 67.0}. Best is trial 24 with value: 47760.23999999868.\u001b[0m\n"
     ]
    },
    {
     "name": "stdout",
     "output_type": "stream",
     "text": [
      "Trial 26 concluído: total_return = 39258.1200\n",
      "Trial 27 para hora 12: Testando estratégia com parâmetros {'length_rsi': 7.0, 'rsi_low': 42.0, 'rsi_high': 72.0}\n",
      "Trial 27 para hora 12: Usando backtester com TP=1098.00000, SL=417.30000\n",
      "Executando backtest para trial 27, hora 12...\n"
     ]
    },
    {
     "name": "stderr",
     "output_type": "stream",
     "text": [
      "\u001b[32m[I 2025-05-02 21:14:16,389]\u001b[0m Trial 27 finished with value: 24292.340000001095 and parameters: {'tp': 1098.0, 'sl': 417.3, 'length_rsi': 7.0, 'rsi_low': 42.0, 'rsi_high': 72.0}. Best is trial 24 with value: 47760.23999999868.\u001b[0m\n"
     ]
    },
    {
     "name": "stdout",
     "output_type": "stream",
     "text": [
      "Trial 27 concluído: total_return = 24292.3400\n",
      "Trial 28 para hora 12: Testando estratégia com parâmetros {'length_rsi': 7.0, 'rsi_low': 39.0, 'rsi_high': 64.0}\n",
      "Trial 28 para hora 12: Usando backtester com TP=1253.30000, SL=920.90000\n",
      "Executando backtest para trial 28, hora 12...\n"
     ]
    },
    {
     "name": "stderr",
     "output_type": "stream",
     "text": [
      "\u001b[32m[I 2025-05-02 21:14:17,021]\u001b[0m Trial 28 finished with value: 43872.44000000002 and parameters: {'tp': 1253.3, 'sl': 920.9000000000001, 'length_rsi': 7.0, 'rsi_low': 39.0, 'rsi_high': 64.0}. Best is trial 24 with value: 47760.23999999868.\u001b[0m\n"
     ]
    },
    {
     "name": "stdout",
     "output_type": "stream",
     "text": [
      "Trial 28 concluído: total_return = 43872.4400\n",
      "Trial 29 para hora 12: Testando estratégia com parâmetros {'length_rsi': 7.0, 'rsi_low': 44.0, 'rsi_high': 63.0}\n",
      "Trial 29 para hora 12: Usando backtester com TP=1054.70000, SL=585.80000\n",
      "Executando backtest para trial 29, hora 12...\n"
     ]
    },
    {
     "name": "stderr",
     "output_type": "stream",
     "text": [
      "\u001b[32m[I 2025-05-02 21:14:17,652]\u001b[0m Trial 29 finished with value: 47602.05999999729 and parameters: {'tp': 1054.7, 'sl': 585.8, 'length_rsi': 7.0, 'rsi_low': 44.0, 'rsi_high': 63.0}. Best is trial 24 with value: 47760.23999999868.\u001b[0m\n"
     ]
    },
    {
     "name": "stdout",
     "output_type": "stream",
     "text": [
      "Trial 29 concluído: total_return = 47602.0600\n",
      "Trial 30 para hora 12: Testando estratégia com parâmetros {'length_rsi': 7.0, 'rsi_low': 43.0, 'rsi_high': 62.0}\n",
      "Trial 30 para hora 12: Usando backtester com TP=981.80000, SL=339.20000\n",
      "Executando backtest para trial 30, hora 12...\n"
     ]
    },
    {
     "name": "stderr",
     "output_type": "stream",
     "text": [
      "\u001b[32m[I 2025-05-02 21:14:18,270]\u001b[0m Trial 30 finished with value: 26903.959999999977 and parameters: {'tp': 981.8000000000001, 'sl': 339.2, 'length_rsi': 7.0, 'rsi_low': 43.0, 'rsi_high': 62.0}. Best is trial 24 with value: 47760.23999999868.\u001b[0m\n"
     ]
    },
    {
     "name": "stdout",
     "output_type": "stream",
     "text": [
      "Trial 30 concluído: total_return = 26903.9600\n",
      "Trial 31 para hora 12: Testando estratégia com parâmetros {'length_rsi': 7.0, 'rsi_low': 43.0, 'rsi_high': 66.0}\n",
      "Trial 31 para hora 12: Usando backtester com TP=1143.90000, SL=631.00000\n",
      "Executando backtest para trial 31, hora 12...\n"
     ]
    },
    {
     "name": "stderr",
     "output_type": "stream",
     "text": [
      "\u001b[32m[I 2025-05-02 21:14:18,906]\u001b[0m Trial 31 finished with value: 43967.6599999999 and parameters: {'tp': 1143.9, 'sl': 631.0, 'length_rsi': 7.0, 'rsi_low': 43.0, 'rsi_high': 66.0}. Best is trial 24 with value: 47760.23999999868.\u001b[0m\n"
     ]
    },
    {
     "name": "stdout",
     "output_type": "stream",
     "text": [
      "Trial 31 concluído: total_return = 43967.6600\n",
      "Trial 32 para hora 12: Testando estratégia com parâmetros {'length_rsi': 7.0, 'rsi_low': 41.0, 'rsi_high': 67.0}\n",
      "Trial 32 para hora 12: Usando backtester com TP=818.70000, SL=743.40000\n",
      "Executando backtest para trial 32, hora 12...\n"
     ]
    },
    {
     "name": "stderr",
     "output_type": "stream",
     "text": [
      "\u001b[32m[I 2025-05-02 21:14:19,541]\u001b[0m Trial 32 finished with value: 38610.540000001114 and parameters: {'tp': 818.7, 'sl': 743.4000000000001, 'length_rsi': 7.0, 'rsi_low': 41.0, 'rsi_high': 67.0}. Best is trial 24 with value: 47760.23999999868.\u001b[0m\n"
     ]
    },
    {
     "name": "stdout",
     "output_type": "stream",
     "text": [
      "Trial 32 concluído: total_return = 38610.5400\n",
      "Trial 33 para hora 12: Testando estratégia com parâmetros {'length_rsi': 7.0, 'rsi_low': 44.0, 'rsi_high': 62.0}\n",
      "Trial 33 para hora 12: Usando backtester com TP=976.80000, SL=571.30000\n",
      "Executando backtest para trial 33, hora 12...\n"
     ]
    },
    {
     "name": "stderr",
     "output_type": "stream",
     "text": [
      "\u001b[32m[I 2025-05-02 21:14:20,154]\u001b[0m Trial 33 finished with value: 50690.42000000004 and parameters: {'tp': 976.8000000000001, 'sl': 571.3, 'length_rsi': 7.0, 'rsi_low': 44.0, 'rsi_high': 62.0}. Best is trial 33 with value: 50690.42000000004.\u001b[0m\n"
     ]
    },
    {
     "name": "stdout",
     "output_type": "stream",
     "text": [
      "Trial 33 concluído: total_return = 50690.4200\n",
      "Trial 34 para hora 12: Testando estratégia com parâmetros {'length_rsi': 6.0, 'rsi_low': 43.0, 'rsi_high': 61.0}\n",
      "Trial 34 para hora 12: Usando backtester com TP=963.80000, SL=568.30000\n",
      "Executando backtest para trial 34, hora 12...\n"
     ]
    },
    {
     "name": "stderr",
     "output_type": "stream",
     "text": [
      "\u001b[32m[I 2025-05-02 21:14:20,802]\u001b[0m Trial 34 finished with value: 47065.37999999634 and parameters: {'tp': 963.8000000000001, 'sl': 568.3, 'length_rsi': 6.0, 'rsi_low': 43.0, 'rsi_high': 61.0}. Best is trial 33 with value: 50690.42000000004.\u001b[0m\n"
     ]
    },
    {
     "name": "stdout",
     "output_type": "stream",
     "text": [
      "Trial 34 concluído: total_return = 47065.3800\n",
      "Trial 35 para hora 12: Testando estratégia com parâmetros {'length_rsi': 6.0, 'rsi_low': 44.0, 'rsi_high': 62.0}\n",
      "Trial 35 para hora 12: Usando backtester com TP=913.90000, SL=563.20000\n",
      "Executando backtest para trial 35, hora 12...\n"
     ]
    },
    {
     "name": "stderr",
     "output_type": "stream",
     "text": [
      "\u001b[32m[I 2025-05-02 21:14:21,436]\u001b[0m Trial 35 finished with value: 40319.619999999966 and parameters: {'tp': 913.9000000000001, 'sl': 563.2, 'length_rsi': 6.0, 'rsi_low': 44.0, 'rsi_high': 62.0}. Best is trial 33 with value: 50690.42000000004.\u001b[0m\n"
     ]
    },
    {
     "name": "stdout",
     "output_type": "stream",
     "text": [
      "Trial 35 concluído: total_return = 40319.6200\n",
      "Trial 36 para hora 12: Testando estratégia com parâmetros {'length_rsi': 6.0, 'rsi_low': 44.0, 'rsi_high': 61.0}\n",
      "Trial 36 para hora 12: Usando backtester com TP=1361.80000, SL=326.70000\n",
      "Executando backtest para trial 36, hora 12...\n"
     ]
    },
    {
     "name": "stderr",
     "output_type": "stream",
     "text": [
      "\u001b[32m[I 2025-05-02 21:14:22,085]\u001b[0m Trial 36 finished with value: 35473.76000000139 and parameters: {'tp': 1361.8000000000002, 'sl': 326.70000000000005, 'length_rsi': 6.0, 'rsi_low': 44.0, 'rsi_high': 61.0}. Best is trial 33 with value: 50690.42000000004.\u001b[0m\n"
     ]
    },
    {
     "name": "stdout",
     "output_type": "stream",
     "text": [
      "Trial 36 concluído: total_return = 35473.7600\n",
      "Trial 37 para hora 12: Testando estratégia com parâmetros {'length_rsi': 6.0, 'rsi_low': 42.0, 'rsi_high': 64.0}\n",
      "Trial 37 para hora 12: Usando backtester com TP=970.20000, SL=447.90000\n",
      "Executando backtest para trial 37, hora 12...\n"
     ]
    },
    {
     "name": "stderr",
     "output_type": "stream",
     "text": [
      "\u001b[32m[I 2025-05-02 21:14:22,735]\u001b[0m Trial 37 finished with value: 36669.37999999663 and parameters: {'tp': 970.2, 'sl': 447.90000000000003, 'length_rsi': 6.0, 'rsi_low': 42.0, 'rsi_high': 64.0}. Best is trial 33 with value: 50690.42000000004.\u001b[0m\n"
     ]
    },
    {
     "name": "stdout",
     "output_type": "stream",
     "text": [
      "Trial 37 concluído: total_return = 36669.3800\n",
      "Trial 38 para hora 12: Testando estratégia com parâmetros {'length_rsi': 6.0, 'rsi_low': 41.0, 'rsi_high': 63.0}\n",
      "Trial 38 para hora 12: Usando backtester com TP=1188.80000, SL=541.90000\n",
      "Executando backtest para trial 38, hora 12...\n"
     ]
    },
    {
     "name": "stderr",
     "output_type": "stream",
     "text": [
      "\u001b[32m[I 2025-05-02 21:14:23,371]\u001b[0m Trial 38 finished with value: 48435.660000002346 and parameters: {'tp': 1188.8, 'sl': 541.9000000000001, 'length_rsi': 6.0, 'rsi_low': 41.0, 'rsi_high': 63.0}. Best is trial 33 with value: 50690.42000000004.\u001b[0m\n"
     ]
    },
    {
     "name": "stdout",
     "output_type": "stream",
     "text": [
      "Trial 38 concluído: total_return = 48435.6600\n",
      "Trial 39 para hora 12: Testando estratégia com parâmetros {'length_rsi': 6.0, 'rsi_low': 41.0, 'rsi_high': 63.0}\n",
      "Trial 39 para hora 12: Usando backtester com TP=1586.70000, SL=239.60000\n",
      "Executando backtest para trial 39, hora 12...\n"
     ]
    },
    {
     "name": "stderr",
     "output_type": "stream",
     "text": [
      "\u001b[32m[I 2025-05-02 21:14:24,052]\u001b[0m Trial 39 finished with value: 15229.120000002229 and parameters: {'tp': 1586.7, 'sl': 239.60000000000002, 'length_rsi': 6.0, 'rsi_low': 41.0, 'rsi_high': 63.0}. Best is trial 33 with value: 50690.42000000004.\u001b[0m\n"
     ]
    },
    {
     "name": "stdout",
     "output_type": "stream",
     "text": [
      "Trial 39 concluído: total_return = 15229.1200\n",
      "Trial 40 para hora 12: Testando estratégia com parâmetros {'length_rsi': 7.0, 'rsi_low': 38.0, 'rsi_high': 68.0}\n",
      "Trial 40 para hora 12: Usando backtester com TP=1209.30000, SL=474.90000\n",
      "Executando backtest para trial 40, hora 12...\n"
     ]
    },
    {
     "name": "stderr",
     "output_type": "stream",
     "text": [
      "\u001b[32m[I 2025-05-02 21:14:24,686]\u001b[0m Trial 40 finished with value: 31198.58000000105 and parameters: {'tp': 1209.3, 'sl': 474.90000000000003, 'length_rsi': 7.0, 'rsi_low': 38.0, 'rsi_high': 68.0}. Best is trial 33 with value: 50690.42000000004.\u001b[0m\n"
     ]
    },
    {
     "name": "stdout",
     "output_type": "stream",
     "text": [
      "Trial 40 concluído: total_return = 31198.5800\n",
      "Trial 41 para hora 12: Testando estratégia com parâmetros {'length_rsi': 6.0, 'rsi_low': 44.0, 'rsi_high': 60.0}\n",
      "Trial 41 para hora 12: Usando backtester com TP=830.20000, SL=601.20000\n",
      "Executando backtest para trial 41, hora 12...\n"
     ]
    },
    {
     "name": "stderr",
     "output_type": "stream",
     "text": [
      "\u001b[32m[I 2025-05-02 21:14:25,340]\u001b[0m Trial 41 finished with value: 41720.280000000464 and parameters: {'tp': 830.2, 'sl': 601.2, 'length_rsi': 6.0, 'rsi_low': 44.0, 'rsi_high': 60.0}. Best is trial 33 with value: 50690.42000000004.\u001b[0m\n"
     ]
    },
    {
     "name": "stdout",
     "output_type": "stream",
     "text": [
      "Trial 41 concluído: total_return = 41720.2800\n",
      "Trial 42 para hora 12: Testando estratégia com parâmetros {'length_rsi': 6.0, 'rsi_low': 42.0, 'rsi_high': 65.0}\n",
      "Trial 42 para hora 12: Usando backtester com TP=1173.20000, SL=759.60000\n",
      "Executando backtest para trial 42, hora 12...\n"
     ]
    },
    {
     "name": "stderr",
     "output_type": "stream",
     "text": [
      "\u001b[32m[I 2025-05-02 21:14:25,987]\u001b[0m Trial 42 finished with value: 50316.36000000176 and parameters: {'tp': 1173.2, 'sl': 759.6, 'length_rsi': 6.0, 'rsi_low': 42.0, 'rsi_high': 65.0}. Best is trial 33 with value: 50690.42000000004.\u001b[0m\n"
     ]
    },
    {
     "name": "stdout",
     "output_type": "stream",
     "text": [
      "Trial 42 concluído: total_return = 50316.3600\n",
      "Trial 43 para hora 12: Testando estratégia com parâmetros {'length_rsi': 6.0, 'rsi_low': 39.0, 'rsi_high': 65.0}\n",
      "Trial 43 para hora 12: Usando backtester com TP=1175.90000, SL=786.40000\n",
      "Executando backtest para trial 43, hora 12...\n"
     ]
    },
    {
     "name": "stderr",
     "output_type": "stream",
     "text": [
      "\u001b[32m[I 2025-05-02 21:14:26,619]\u001b[0m Trial 43 finished with value: 51845.48000000144 and parameters: {'tp': 1175.9, 'sl': 786.4000000000001, 'length_rsi': 6.0, 'rsi_low': 39.0, 'rsi_high': 65.0}. Best is trial 43 with value: 51845.48000000144.\u001b[0m\n"
     ]
    },
    {
     "name": "stdout",
     "output_type": "stream",
     "text": [
      "Trial 43 concluído: total_return = 51845.4800\n",
      "Trial 44 para hora 12: Testando estratégia com parâmetros {'length_rsi': 6.0, 'rsi_low': 39.0, 'rsi_high': 65.0}\n",
      "Trial 44 para hora 12: Usando backtester com TP=1356.50000, SL=995.20000\n",
      "Executando backtest para trial 44, hora 12...\n"
     ]
    },
    {
     "name": "stderr",
     "output_type": "stream",
     "text": [
      "\u001b[32m[I 2025-05-02 21:14:27,275]\u001b[0m Trial 44 finished with value: 46778.07999999946 and parameters: {'tp': 1356.5, 'sl': 995.2, 'length_rsi': 6.0, 'rsi_low': 39.0, 'rsi_high': 65.0}. Best is trial 43 with value: 51845.48000000144.\u001b[0m\n",
      "\u001b[32m[I 2025-05-02 21:14:27,275]\u001b[0m A new study created in memory with name: hora_13\u001b[0m\n"
     ]
    },
    {
     "name": "stdout",
     "output_type": "stream",
     "text": [
      "Trial 44 concluído: total_return = 46778.0800\n",
      "Otimização concluída para hora 12.\n",
      "\n",
      "Melhores parâmetros para hora 12:\n",
      "total_return: 51845.4800\n",
      "Parâmetros: {'length_rsi': 6.0, 'rsi_low': 39.0, 'rsi_high': 65.0, 'allowed_hours': [12], 'tp': 1175.9, 'sl': 786.4000000000001}\n",
      "Profit Factor: 1.1787\n",
      "Win Rate: 49.28%\n",
      "Max Drawdown: 538.05%\n",
      "Total Return: $51845.48\n",
      "Total Trades: 2989\n",
      "\n",
      "==================================================\n",
      "Otimizando estratégia para hora: 13:00\n",
      "Métrica: total_return - Direção: maximize\n",
      "==================================================\n",
      "Iniciando otimização com 45 trials para hora 13...\n",
      "Trial 0 para hora 13: Testando estratégia com parâmetros {'length_rsi': 9.0, 'rsi_low': 40.0, 'rsi_high': 69.0}\n",
      "Trial 0 para hora 13: Usando backtester com TP=631.20000, SL=137.30000\n",
      "Executando backtest para trial 0, hora 13...\n"
     ]
    },
    {
     "name": "stderr",
     "output_type": "stream",
     "text": [
      "\u001b[32m[I 2025-05-02 21:14:27,888]\u001b[0m Trial 0 finished with value: 6299.799999999828 and parameters: {'tp': 631.2, 'sl': 137.3, 'length_rsi': 9.0, 'rsi_low': 40.0, 'rsi_high': 69.0}. Best is trial 0 with value: 6299.799999999828.\u001b[0m\n"
     ]
    },
    {
     "name": "stdout",
     "output_type": "stream",
     "text": [
      "Trial 0 concluído: total_return = 6299.8000\n",
      "Trial 1 para hora 13: Testando estratégia com parâmetros {'length_rsi': 9.0, 'rsi_low': 40.0, 'rsi_high': 60.0}\n",
      "Trial 1 para hora 13: Usando backtester com TP=1074.00000, SL=1617.70000\n",
      "Executando backtest para trial 1, hora 13...\n"
     ]
    },
    {
     "name": "stderr",
     "output_type": "stream",
     "text": [
      "\u001b[32m[I 2025-05-02 21:14:28,507]\u001b[0m Trial 1 finished with value: 48466.8000000005 and parameters: {'tp': 1074.0, 'sl': 1617.7, 'length_rsi': 9.0, 'rsi_low': 40.0, 'rsi_high': 60.0}. Best is trial 1 with value: 48466.8000000005.\u001b[0m\n"
     ]
    },
    {
     "name": "stdout",
     "output_type": "stream",
     "text": [
      "Trial 1 concluído: total_return = 48466.8000\n",
      "Trial 2 para hora 13: Testando estratégia com parâmetros {'length_rsi': 8.0, 'rsi_low': 25.0, 'rsi_high': 65.0}\n",
      "Trial 2 para hora 13: Usando backtester com TP=1547.00000, SL=447.30000\n",
      "Executando backtest para trial 2, hora 13...\n"
     ]
    },
    {
     "name": "stderr",
     "output_type": "stream",
     "text": [
      "\u001b[32m[I 2025-05-02 21:14:29,124]\u001b[0m Trial 2 finished with value: 17465.860000000466 and parameters: {'tp': 1547.0, 'sl': 447.3, 'length_rsi': 8.0, 'rsi_low': 25.0, 'rsi_high': 65.0}. Best is trial 1 with value: 48466.8000000005.\u001b[0m\n"
     ]
    },
    {
     "name": "stdout",
     "output_type": "stream",
     "text": [
      "Trial 2 concluído: total_return = 17465.8600\n",
      "Trial 3 para hora 13: Testando estratégia com parâmetros {'length_rsi': 6.0, 'rsi_low': 44.0, 'rsi_high': 81.0}\n",
      "Trial 3 para hora 13: Usando backtester com TP=1614.80000, SL=1284.90000\n",
      "Executando backtest para trial 3, hora 13...\n"
     ]
    },
    {
     "name": "stderr",
     "output_type": "stream",
     "text": [
      "\u001b[32m[I 2025-05-02 21:14:29,740]\u001b[0m Trial 3 finished with value: 32802.9999999999 and parameters: {'tp': 1614.8000000000002, 'sl': 1284.9, 'length_rsi': 6.0, 'rsi_low': 44.0, 'rsi_high': 81.0}. Best is trial 1 with value: 48466.8000000005.\u001b[0m\n"
     ]
    },
    {
     "name": "stdout",
     "output_type": "stream",
     "text": [
      "Trial 3 concluído: total_return = 32803.0000\n",
      "Trial 4 para hora 13: Testando estratégia com parâmetros {'length_rsi': 6.0, 'rsi_low': 28.0, 'rsi_high': 64.0}\n",
      "Trial 4 para hora 13: Usando backtester com TP=158.50000, SL=426.30000\n",
      "Executando backtest para trial 4, hora 13...\n"
     ]
    },
    {
     "name": "stderr",
     "output_type": "stream",
     "text": [
      "\u001b[32m[I 2025-05-02 21:14:30,357]\u001b[0m Trial 4 finished with value: -1441.920000000031 and parameters: {'tp': 158.5, 'sl': 426.3, 'length_rsi': 6.0, 'rsi_low': 28.0, 'rsi_high': 64.0}. Best is trial 1 with value: 48466.8000000005.\u001b[0m\n"
     ]
    },
    {
     "name": "stdout",
     "output_type": "stream",
     "text": [
      "Trial 4 concluído: total_return = -1441.9200\n",
      "Trial 5 para hora 13: Testando estratégia com parâmetros {'length_rsi': 8.0, 'rsi_low': 44.0, 'rsi_high': 70.0}\n",
      "Trial 5 para hora 13: Usando backtester com TP=1533.80000, SL=190.30000\n",
      "Executando backtest para trial 5, hora 13...\n"
     ]
    },
    {
     "name": "stderr",
     "output_type": "stream",
     "text": [
      "\u001b[32m[I 2025-05-02 21:14:30,974]\u001b[0m Trial 5 finished with value: 35186.97999999833 and parameters: {'tp': 1533.8000000000002, 'sl': 190.3, 'length_rsi': 8.0, 'rsi_low': 44.0, 'rsi_high': 70.0}. Best is trial 1 with value: 48466.8000000005.\u001b[0m\n"
     ]
    },
    {
     "name": "stdout",
     "output_type": "stream",
     "text": [
      "Trial 5 concluído: total_return = 35186.9800\n",
      "Trial 6 para hora 13: Testando estratégia com parâmetros {'length_rsi': 7.0, 'rsi_low': 43.0, 'rsi_high': 70.0}\n",
      "Trial 6 para hora 13: Usando backtester com TP=1049.90000, SL=1392.90000\n",
      "Executando backtest para trial 6, hora 13...\n"
     ]
    },
    {
     "name": "stderr",
     "output_type": "stream",
     "text": [
      "\u001b[32m[I 2025-05-02 21:14:31,605]\u001b[0m Trial 6 finished with value: 33523.69999999952 and parameters: {'tp': 1049.9, 'sl': 1392.9, 'length_rsi': 7.0, 'rsi_low': 43.0, 'rsi_high': 70.0}. Best is trial 1 with value: 48466.8000000005.\u001b[0m\n"
     ]
    },
    {
     "name": "stdout",
     "output_type": "stream",
     "text": [
      "Trial 6 concluído: total_return = 33523.7000\n",
      "Trial 7 para hora 13: Testando estratégia com parâmetros {'length_rsi': 7.0, 'rsi_low': 38.0, 'rsi_high': 65.0}\n",
      "Trial 7 para hora 13: Usando backtester com TP=1303.80000, SL=663.10000\n",
      "Executando backtest para trial 7, hora 13...\n"
     ]
    },
    {
     "name": "stderr",
     "output_type": "stream",
     "text": [
      "\u001b[32m[I 2025-05-02 21:14:32,223]\u001b[0m Trial 7 finished with value: 41834.03999999919 and parameters: {'tp': 1303.8, 'sl': 663.1, 'length_rsi': 7.0, 'rsi_low': 38.0, 'rsi_high': 65.0}. Best is trial 1 with value: 48466.8000000005.\u001b[0m\n"
     ]
    },
    {
     "name": "stdout",
     "output_type": "stream",
     "text": [
      "Trial 7 concluído: total_return = 41834.0400\n",
      "Trial 8 para hora 13: Testando estratégia com parâmetros {'length_rsi': 6.0, 'rsi_low': 26.0, 'rsi_high': 55.0}\n",
      "Trial 8 para hora 13: Usando backtester com TP=118.30000, SL=260.70000\n",
      "Executando backtest para trial 8, hora 13...\n"
     ]
    },
    {
     "name": "stderr",
     "output_type": "stream",
     "text": [
      "\u001b[32m[I 2025-05-02 21:14:32,837]\u001b[0m Trial 8 finished with value: -12307.100000000159 and parameters: {'tp': 118.30000000000001, 'sl': 260.70000000000005, 'length_rsi': 6.0, 'rsi_low': 26.0, 'rsi_high': 55.0}. Best is trial 1 with value: 48466.8000000005.\u001b[0m\n"
     ]
    },
    {
     "name": "stdout",
     "output_type": "stream",
     "text": [
      "Trial 8 concluído: total_return = -12307.1000\n",
      "Trial 9 para hora 13: Testando estratégia com parâmetros {'length_rsi': 7.0, 'rsi_low': 34.0, 'rsi_high': 80.0}\n",
      "Trial 9 para hora 13: Usando backtester com TP=511.20000, SL=429.70000\n",
      "Executando backtest para trial 9, hora 13...\n"
     ]
    },
    {
     "name": "stderr",
     "output_type": "stream",
     "text": [
      "\u001b[32m[I 2025-05-02 21:14:33,457]\u001b[0m Trial 9 finished with value: 9223.519999999728 and parameters: {'tp': 511.20000000000005, 'sl': 429.70000000000005, 'length_rsi': 7.0, 'rsi_low': 34.0, 'rsi_high': 80.0}. Best is trial 1 with value: 48466.8000000005.\u001b[0m\n"
     ]
    },
    {
     "name": "stdout",
     "output_type": "stream",
     "text": [
      "Trial 9 concluído: total_return = 9223.5200\n",
      "Trial 10 para hora 13: Testando estratégia com parâmetros {'length_rsi': 9.0, 'rsi_low': 33.0, 'rsi_high': 58.0}\n",
      "Trial 10 para hora 13: Usando backtester com TP=970.60000, SL=1780.10000\n",
      "Executando backtest para trial 10, hora 13...\n"
     ]
    },
    {
     "name": "stderr",
     "output_type": "stream",
     "text": [
      "\u001b[32m[I 2025-05-02 21:14:34,090]\u001b[0m Trial 10 finished with value: 36607.81999999995 and parameters: {'tp': 970.6, 'sl': 1780.1000000000001, 'length_rsi': 9.0, 'rsi_low': 33.0, 'rsi_high': 58.0}. Best is trial 1 with value: 48466.8000000005.\u001b[0m\n"
     ]
    },
    {
     "name": "stdout",
     "output_type": "stream",
     "text": [
      "Trial 10 concluído: total_return = 36607.8200\n",
      "Trial 11 para hora 13: Testando estratégia com parâmetros {'length_rsi': 8.0, 'rsi_low': 37.0, 'rsi_high': 61.0}\n",
      "Trial 11 para hora 13: Usando backtester com TP=1231.00000, SL=820.80000\n",
      "Executando backtest para trial 11, hora 13...\n"
     ]
    },
    {
     "name": "stderr",
     "output_type": "stream",
     "text": [
      "\u001b[32m[I 2025-05-02 21:14:34,724]\u001b[0m Trial 11 finished with value: 41375.51999999884 and parameters: {'tp': 1231.0, 'sl': 820.8000000000001, 'length_rsi': 8.0, 'rsi_low': 37.0, 'rsi_high': 61.0}. Best is trial 1 with value: 48466.8000000005.\u001b[0m\n"
     ]
    },
    {
     "name": "stdout",
     "output_type": "stream",
     "text": [
      "Trial 11 concluído: total_return = 41375.5200\n",
      "Trial 12 para hora 13: Testando estratégia com parâmetros {'length_rsi': 7.0, 'rsi_low': 38.0, 'rsi_high': 76.0}\n",
      "Trial 12 para hora 13: Usando backtester com TP=1237.90000, SL=831.90000\n",
      "Executando backtest para trial 12, hora 13...\n"
     ]
    },
    {
     "name": "stderr",
     "output_type": "stream",
     "text": [
      "\u001b[32m[I 2025-05-02 21:14:35,339]\u001b[0m Trial 12 finished with value: 30973.320000000094 and parameters: {'tp': 1237.9, 'sl': 831.9000000000001, 'length_rsi': 7.0, 'rsi_low': 38.0, 'rsi_high': 76.0}. Best is trial 1 with value: 48466.8000000005.\u001b[0m\n"
     ]
    },
    {
     "name": "stdout",
     "output_type": "stream",
     "text": [
      "Trial 12 concluído: total_return = 30973.3200\n",
      "Trial 13 para hora 13: Testando estratégia com parâmetros {'length_rsi': 9.0, 'rsi_low': 40.0, 'rsi_high': 63.0}\n",
      "Trial 13 para hora 13: Usando backtester com TP=721.10000, SL=1167.90000\n",
      "Executando backtest para trial 13, hora 13...\n"
     ]
    },
    {
     "name": "stderr",
     "output_type": "stream",
     "text": [
      "\u001b[32m[I 2025-05-02 21:14:35,956]\u001b[0m Trial 13 finished with value: 28682.86000000029 and parameters: {'tp': 721.1, 'sl': 1167.9, 'length_rsi': 9.0, 'rsi_low': 40.0, 'rsi_high': 63.0}. Best is trial 1 with value: 48466.8000000005.\u001b[0m\n"
     ]
    },
    {
     "name": "stdout",
     "output_type": "stream",
     "text": [
      "Trial 13 concluído: total_return = 28682.8600\n",
      "Trial 14 para hora 13: Testando estratégia com parâmetros {'length_rsi': 8.0, 'rsi_low': 32.0, 'rsi_high': 59.0}\n",
      "Trial 14 para hora 13: Usando backtester com TP=1261.40000, SL=1739.60000\n",
      "Executando backtest para trial 14, hora 13...\n"
     ]
    },
    {
     "name": "stderr",
     "output_type": "stream",
     "text": [
      "\u001b[32m[I 2025-05-02 21:14:36,589]\u001b[0m Trial 14 finished with value: 38320.15999999984 and parameters: {'tp': 1261.4, 'sl': 1739.6000000000001, 'length_rsi': 8.0, 'rsi_low': 32.0, 'rsi_high': 59.0}. Best is trial 1 with value: 48466.8000000005.\u001b[0m\n"
     ]
    },
    {
     "name": "stdout",
     "output_type": "stream",
     "text": [
      "Trial 14 concluído: total_return = 38320.1600\n",
      "Trial 15 para hora 13: Testando estratégia com parâmetros {'length_rsi': 7.0, 'rsi_low': 40.0, 'rsi_high': 66.0}\n",
      "Trial 15 para hora 13: Usando backtester com TP=1346.20000, SL=1037.80000\n",
      "Executando backtest para trial 15, hora 13...\n"
     ]
    },
    {
     "name": "stderr",
     "output_type": "stream",
     "text": [
      "\u001b[32m[I 2025-05-02 21:14:37,224]\u001b[0m Trial 15 finished with value: 41666.320000000225 and parameters: {'tp': 1346.2, 'sl': 1037.8000000000002, 'length_rsi': 7.0, 'rsi_low': 40.0, 'rsi_high': 66.0}. Best is trial 1 with value: 48466.8000000005.\u001b[0m\n"
     ]
    },
    {
     "name": "stdout",
     "output_type": "stream",
     "text": [
      "Trial 15 concluído: total_return = 41666.3200\n",
      "Trial 16 para hora 13: Testando estratégia com parâmetros {'length_rsi': 9.0, 'rsi_low': 36.0, 'rsi_high': 74.0}\n",
      "Trial 16 para hora 13: Usando backtester com TP=827.40000, SL=680.30000\n",
      "Executando backtest para trial 16, hora 13...\n"
     ]
    },
    {
     "name": "stderr",
     "output_type": "stream",
     "text": [
      "\u001b[32m[I 2025-05-02 21:14:37,848]\u001b[0m Trial 16 finished with value: 17340.399999999892 and parameters: {'tp': 827.4000000000001, 'sl': 680.3000000000001, 'length_rsi': 9.0, 'rsi_low': 36.0, 'rsi_high': 74.0}. Best is trial 1 with value: 48466.8000000005.\u001b[0m\n"
     ]
    },
    {
     "name": "stdout",
     "output_type": "stream",
     "text": [
      "Trial 16 concluído: total_return = 17340.4000\n",
      "Trial 17 para hora 13: Testando estratégia com parâmetros {'length_rsi': 8.0, 'rsi_low': 30.0, 'rsi_high': 85.0}\n",
      "Trial 17 para hora 13: Usando backtester com TP=1796.90000, SL=1562.00000\n",
      "Executando backtest para trial 17, hora 13...\n"
     ]
    },
    {
     "name": "stderr",
     "output_type": "stream",
     "text": [
      "\u001b[32m[I 2025-05-02 21:14:38,471]\u001b[0m Trial 17 finished with value: 10259.059999999998 and parameters: {'tp': 1796.9, 'sl': 1562.0, 'length_rsi': 8.0, 'rsi_low': 30.0, 'rsi_high': 85.0}. Best is trial 1 with value: 48466.8000000005.\u001b[0m\n"
     ]
    },
    {
     "name": "stdout",
     "output_type": "stream",
     "text": [
      "Trial 17 concluído: total_return = 10259.0600\n",
      "Trial 18 para hora 13: Testando estratégia com parâmetros {'length_rsi': 7.0, 'rsi_low': 41.0, 'rsi_high': 56.0}\n",
      "Trial 18 para hora 13: Usando backtester com TP=410.30000, SL=628.00000\n",
      "Executando backtest para trial 18, hora 13...\n"
     ]
    },
    {
     "name": "stderr",
     "output_type": "stream",
     "text": [
      "\u001b[32m[I 2025-05-02 21:14:39,127]\u001b[0m Trial 18 finished with value: 1398.319999999967 and parameters: {'tp': 410.3, 'sl': 628.0, 'length_rsi': 7.0, 'rsi_low': 41.0, 'rsi_high': 56.0}. Best is trial 1 with value: 48466.8000000005.\u001b[0m\n"
     ]
    },
    {
     "name": "stdout",
     "output_type": "stream",
     "text": [
      "Trial 18 concluído: total_return = 1398.3200\n",
      "Trial 19 para hora 13: Testando estratégia com parâmetros {'length_rsi': 6.0, 'rsi_low': 38.0, 'rsi_high': 61.0}\n",
      "Trial 19 para hora 13: Usando backtester com TP=1079.30000, SL=1082.70000\n",
      "Executando backtest para trial 19, hora 13...\n"
     ]
    },
    {
     "name": "stderr",
     "output_type": "stream",
     "text": [
      "\u001b[32m[I 2025-05-02 21:14:39,795]\u001b[0m Trial 19 finished with value: 41356.25999999989 and parameters: {'tp': 1079.3000000000002, 'sl': 1082.7, 'length_rsi': 6.0, 'rsi_low': 38.0, 'rsi_high': 61.0}. Best is trial 1 with value: 48466.8000000005.\u001b[0m\n"
     ]
    },
    {
     "name": "stdout",
     "output_type": "stream",
     "text": [
      "Trial 19 concluído: total_return = 41356.2600\n",
      "Trial 20 para hora 13: Testando estratégia com parâmetros {'length_rsi': 9.0, 'rsi_low': 42.0, 'rsi_high': 67.0}\n",
      "Trial 20 para hora 13: Usando backtester com TP=1425.00000, SL=1504.70000\n",
      "Executando backtest para trial 20, hora 13...\n"
     ]
    },
    {
     "name": "stderr",
     "output_type": "stream",
     "text": [
      "\u001b[32m[I 2025-05-02 21:14:40,459]\u001b[0m Trial 20 finished with value: 38774.520000000164 and parameters: {'tp': 1425.0, 'sl': 1504.7, 'length_rsi': 9.0, 'rsi_low': 42.0, 'rsi_high': 67.0}. Best is trial 1 with value: 48466.8000000005.\u001b[0m\n"
     ]
    },
    {
     "name": "stdout",
     "output_type": "stream",
     "text": [
      "Trial 20 concluído: total_return = 38774.5200\n",
      "Trial 21 para hora 13: Testando estratégia com parâmetros {'length_rsi': 7.0, 'rsi_low': 39.0, 'rsi_high': 66.0}\n",
      "Trial 21 para hora 13: Usando backtester com TP=1367.40000, SL=994.80000\n",
      "Executando backtest para trial 21, hora 13...\n"
     ]
    },
    {
     "name": "stderr",
     "output_type": "stream",
     "text": [
      "\u001b[32m[I 2025-05-02 21:14:41,125]\u001b[0m Trial 21 finished with value: 43204.48000000088 and parameters: {'tp': 1367.4, 'sl': 994.8000000000001, 'length_rsi': 7.0, 'rsi_low': 39.0, 'rsi_high': 66.0}. Best is trial 1 with value: 48466.8000000005.\u001b[0m\n"
     ]
    },
    {
     "name": "stdout",
     "output_type": "stream",
     "text": [
      "Trial 21 concluído: total_return = 43204.4800\n",
      "Trial 22 para hora 13: Testando estratégia com parâmetros {'length_rsi': 7.0, 'rsi_low': 36.0, 'rsi_high': 74.0}\n",
      "Trial 22 para hora 13: Usando backtester com TP=1120.20000, SL=875.80000\n",
      "Executando backtest para trial 22, hora 13...\n"
     ]
    },
    {
     "name": "stderr",
     "output_type": "stream",
     "text": [
      "\u001b[32m[I 2025-05-02 21:14:41,760]\u001b[0m Trial 22 finished with value: 32814.04000000039 and parameters: {'tp': 1120.2, 'sl': 875.8000000000001, 'length_rsi': 7.0, 'rsi_low': 36.0, 'rsi_high': 74.0}. Best is trial 1 with value: 48466.8000000005.\u001b[0m\n"
     ]
    },
    {
     "name": "stdout",
     "output_type": "stream",
     "text": [
      "Trial 22 concluído: total_return = 32814.0400\n",
      "Trial 23 para hora 13: Testando estratégia com parâmetros {'length_rsi': 7.0, 'rsi_low': 39.0, 'rsi_high': 62.0}\n",
      "Trial 23 para hora 13: Usando backtester com TP=1736.60000, SL=1249.50000\n",
      "Executando backtest para trial 23, hora 13...\n"
     ]
    },
    {
     "name": "stderr",
     "output_type": "stream",
     "text": [
      "\u001b[32m[I 2025-05-02 21:14:42,392]\u001b[0m Trial 23 finished with value: 51652.47999999937 and parameters: {'tp': 1736.6000000000001, 'sl': 1249.5, 'length_rsi': 7.0, 'rsi_low': 39.0, 'rsi_high': 62.0}. Best is trial 23 with value: 51652.47999999937.\u001b[0m\n"
     ]
    },
    {
     "name": "stdout",
     "output_type": "stream",
     "text": [
      "Trial 23 concluído: total_return = 51652.4800\n",
      "Trial 24 para hora 13: Testando estratégia com parâmetros {'length_rsi': 8.0, 'rsi_low': 45.0, 'rsi_high': 61.0}\n",
      "Trial 24 para hora 13: Usando backtester com TP=1767.50000, SL=1280.40000\n",
      "Executando backtest para trial 24, hora 13...\n"
     ]
    },
    {
     "name": "stderr",
     "output_type": "stream",
     "text": [
      "\u001b[32m[I 2025-05-02 21:14:43,028]\u001b[0m Trial 24 finished with value: 54361.23999999929 and parameters: {'tp': 1767.5, 'sl': 1280.4, 'length_rsi': 8.0, 'rsi_low': 45.0, 'rsi_high': 61.0}. Best is trial 24 with value: 54361.23999999929.\u001b[0m\n"
     ]
    },
    {
     "name": "stdout",
     "output_type": "stream",
     "text": [
      "Trial 24 concluído: total_return = 54361.2400\n",
      "Trial 25 para hora 13: Testando estratégia com parâmetros {'length_rsi': 8.0, 'rsi_low': 45.0, 'rsi_high': 60.0}\n",
      "Trial 25 para hora 13: Usando backtester com TP=1799.60000, SL=1248.20000\n",
      "Executando backtest para trial 25, hora 13...\n"
     ]
    },
    {
     "name": "stderr",
     "output_type": "stream",
     "text": [
      "\u001b[32m[I 2025-05-02 21:14:43,665]\u001b[0m Trial 25 finished with value: 54581.75999999992 and parameters: {'tp': 1799.6000000000001, 'sl': 1248.2, 'length_rsi': 8.0, 'rsi_low': 45.0, 'rsi_high': 60.0}. Best is trial 25 with value: 54581.75999999992.\u001b[0m\n"
     ]
    },
    {
     "name": "stdout",
     "output_type": "stream",
     "text": [
      "Trial 25 concluído: total_return = 54581.7600\n",
      "Trial 26 para hora 13: Testando estratégia com parâmetros {'length_rsi': 8.0, 'rsi_low': 45.0, 'rsi_high': 57.0}\n",
      "Trial 26 para hora 13: Usando backtester com TP=1754.00000, SL=1269.90000\n",
      "Executando backtest para trial 26, hora 13...\n"
     ]
    },
    {
     "name": "stderr",
     "output_type": "stream",
     "text": [
      "\u001b[32m[I 2025-05-02 21:14:44,331]\u001b[0m Trial 26 finished with value: 56812.53999999947 and parameters: {'tp': 1754.0, 'sl': 1269.9, 'length_rsi': 8.0, 'rsi_low': 45.0, 'rsi_high': 57.0}. Best is trial 26 with value: 56812.53999999947.\u001b[0m\n"
     ]
    },
    {
     "name": "stdout",
     "output_type": "stream",
     "text": [
      "Trial 26 concluído: total_return = 56812.5400\n",
      "Trial 27 para hora 13: Testando estratégia com parâmetros {'length_rsi': 8.0, 'rsi_low': 45.0, 'rsi_high': 58.0}\n",
      "Trial 27 para hora 13: Usando backtester com TP=1682.90000, SL=1389.10000\n",
      "Executando backtest para trial 27, hora 13...\n"
     ]
    },
    {
     "name": "stderr",
     "output_type": "stream",
     "text": [
      "\u001b[32m[I 2025-05-02 21:14:44,979]\u001b[0m Trial 27 finished with value: 55639.10000000059 and parameters: {'tp': 1682.9, 'sl': 1389.1000000000001, 'length_rsi': 8.0, 'rsi_low': 45.0, 'rsi_high': 58.0}. Best is trial 26 with value: 56812.53999999947.\u001b[0m\n"
     ]
    },
    {
     "name": "stdout",
     "output_type": "stream",
     "text": [
      "Trial 27 concluído: total_return = 55639.1000\n",
      "Trial 28 para hora 13: Testando estratégia com parâmetros {'length_rsi': 8.0, 'rsi_low': 45.0, 'rsi_high': 57.0}\n",
      "Trial 28 para hora 13: Usando backtester com TP=1627.80000, SL=1433.50000\n",
      "Executando backtest para trial 28, hora 13...\n"
     ]
    },
    {
     "name": "stderr",
     "output_type": "stream",
     "text": [
      "\u001b[32m[I 2025-05-02 21:14:45,618]\u001b[0m Trial 28 finished with value: 52720.060000000114 and parameters: {'tp': 1627.8000000000002, 'sl': 1433.5, 'length_rsi': 8.0, 'rsi_low': 45.0, 'rsi_high': 57.0}. Best is trial 26 with value: 56812.53999999947.\u001b[0m\n"
     ]
    },
    {
     "name": "stdout",
     "output_type": "stream",
     "text": [
      "Trial 28 concluído: total_return = 52720.0600\n",
      "Trial 29 para hora 13: Testando estratégia com parâmetros {'length_rsi': 8.0, 'rsi_low': 42.0, 'rsi_high': 55.0}\n",
      "Trial 29 para hora 13: Usando backtester com TP=1664.10000, SL=1377.10000\n",
      "Executando backtest para trial 29, hora 13...\n"
     ]
    },
    {
     "name": "stderr",
     "output_type": "stream",
     "text": [
      "\u001b[32m[I 2025-05-02 21:14:46,264]\u001b[0m Trial 29 finished with value: 57705.52000000057 and parameters: {'tp': 1664.1000000000001, 'sl': 1377.1000000000001, 'length_rsi': 8.0, 'rsi_low': 42.0, 'rsi_high': 55.0}. Best is trial 29 with value: 57705.52000000057.\u001b[0m\n"
     ]
    },
    {
     "name": "stdout",
     "output_type": "stream",
     "text": [
      "Trial 29 concluído: total_return = 57705.5200\n",
      "Trial 30 para hora 13: Testando estratégia com parâmetros {'length_rsi': 8.0, 'rsi_low': 42.0, 'rsi_high': 55.0}\n",
      "Trial 30 para hora 13: Usando backtester com TP=1478.70000, SL=1375.80000\n",
      "Executando backtest para trial 30, hora 13...\n"
     ]
    },
    {
     "name": "stderr",
     "output_type": "stream",
     "text": [
      "\u001b[32m[I 2025-05-02 21:14:46,907]\u001b[0m Trial 30 finished with value: 54765.859999999404 and parameters: {'tp': 1478.7, 'sl': 1375.8000000000002, 'length_rsi': 8.0, 'rsi_low': 42.0, 'rsi_high': 55.0}. Best is trial 29 with value: 57705.52000000057.\u001b[0m\n"
     ]
    },
    {
     "name": "stdout",
     "output_type": "stream",
     "text": [
      "Trial 30 concluído: total_return = 54765.8600\n",
      "Trial 31 para hora 13: Testando estratégia com parâmetros {'length_rsi': 8.0, 'rsi_low': 42.0, 'rsi_high': 55.0}\n",
      "Trial 31 para hora 13: Usando backtester com TP=1495.20000, SL=1393.70000\n",
      "Executando backtest para trial 31, hora 13...\n"
     ]
    },
    {
     "name": "stderr",
     "output_type": "stream",
     "text": [
      "\u001b[32m[I 2025-05-02 21:14:47,558]\u001b[0m Trial 31 finished with value: 54791.50000000044 and parameters: {'tp': 1495.2, 'sl': 1393.7, 'length_rsi': 8.0, 'rsi_low': 42.0, 'rsi_high': 55.0}. Best is trial 29 with value: 57705.52000000057.\u001b[0m\n"
     ]
    },
    {
     "name": "stdout",
     "output_type": "stream",
     "text": [
      "Trial 31 concluído: total_return = 54791.5000\n",
      "Trial 32 para hora 13: Testando estratégia com parâmetros {'length_rsi': 8.0, 'rsi_low': 43.0, 'rsi_high': 58.0}\n",
      "Trial 32 para hora 13: Usando backtester com TP=1672.40000, SL=1678.30000\n",
      "Executando backtest para trial 32, hora 13...\n"
     ]
    },
    {
     "name": "stderr",
     "output_type": "stream",
     "text": [
      "\u001b[32m[I 2025-05-02 21:14:48,206]\u001b[0m Trial 32 finished with value: 61482.25999999998 and parameters: {'tp': 1672.4, 'sl': 1678.3000000000002, 'length_rsi': 8.0, 'rsi_low': 43.0, 'rsi_high': 58.0}. Best is trial 32 with value: 61482.25999999998.\u001b[0m\n"
     ]
    },
    {
     "name": "stdout",
     "output_type": "stream",
     "text": [
      "Trial 32 concluído: total_return = 61482.2600\n",
      "Trial 33 para hora 13: Testando estratégia com parâmetros {'length_rsi': 8.0, 'rsi_low': 43.0, 'rsi_high': 58.0}\n",
      "Trial 33 para hora 13: Usando backtester com TP=1661.20000, SL=1651.60000\n",
      "Executando backtest para trial 33, hora 13...\n"
     ]
    },
    {
     "name": "stderr",
     "output_type": "stream",
     "text": [
      "\u001b[32m[I 2025-05-02 21:14:48,850]\u001b[0m Trial 33 finished with value: 60455.07999999993 and parameters: {'tp': 1661.2, 'sl': 1651.6000000000001, 'length_rsi': 8.0, 'rsi_low': 43.0, 'rsi_high': 58.0}. Best is trial 32 with value: 61482.25999999998.\u001b[0m\n"
     ]
    },
    {
     "name": "stdout",
     "output_type": "stream",
     "text": [
      "Trial 33 concluído: total_return = 60455.0800\n",
      "Trial 34 para hora 13: Testando estratégia com parâmetros {'length_rsi': 9.0, 'rsi_low': 42.0, 'rsi_high': 57.0}\n",
      "Trial 34 para hora 13: Usando backtester com TP=1623.40000, SL=1646.80000\n",
      "Executando backtest para trial 34, hora 13...\n"
     ]
    },
    {
     "name": "stderr",
     "output_type": "stream",
     "text": [
      "\u001b[32m[I 2025-05-02 21:14:49,524]\u001b[0m Trial 34 finished with value: 57457.35999999996 and parameters: {'tp': 1623.4, 'sl': 1646.8000000000002, 'length_rsi': 9.0, 'rsi_low': 42.0, 'rsi_high': 57.0}. Best is trial 32 with value: 61482.25999999998.\u001b[0m\n"
     ]
    },
    {
     "name": "stdout",
     "output_type": "stream",
     "text": [
      "Trial 34 concluído: total_return = 57457.3600\n",
      "Trial 35 para hora 13: Testando estratégia com parâmetros {'length_rsi': 9.0, 'rsi_low': 43.0, 'rsi_high': 59.0}\n",
      "Trial 35 para hora 13: Usando backtester com TP=1593.90000, SL=1665.30000\n",
      "Executando backtest para trial 35, hora 13...\n"
     ]
    },
    {
     "name": "stderr",
     "output_type": "stream",
     "text": [
      "\u001b[32m[I 2025-05-02 21:14:50,159]\u001b[0m Trial 35 finished with value: 55017.759999999835 and parameters: {'tp': 1593.9, 'sl': 1665.3000000000002, 'length_rsi': 9.0, 'rsi_low': 43.0, 'rsi_high': 59.0}. Best is trial 32 with value: 61482.25999999998.\u001b[0m\n"
     ]
    },
    {
     "name": "stdout",
     "output_type": "stream",
     "text": [
      "Trial 35 concluído: total_return = 55017.7600\n",
      "Trial 36 para hora 13: Testando estratégia com parâmetros {'length_rsi': 9.0, 'rsi_low': 41.0, 'rsi_high': 57.0}\n",
      "Trial 36 para hora 13: Usando backtester com TP=1655.70000, SL=1654.90000\n",
      "Executando backtest para trial 36, hora 13...\n"
     ]
    },
    {
     "name": "stderr",
     "output_type": "stream",
     "text": [
      "\u001b[32m[I 2025-05-02 21:14:50,791]\u001b[0m Trial 36 finished with value: 60112.599999999424 and parameters: {'tp': 1655.7, 'sl': 1654.9, 'length_rsi': 9.0, 'rsi_low': 41.0, 'rsi_high': 57.0}. Best is trial 32 with value: 61482.25999999998.\u001b[0m\n"
     ]
    },
    {
     "name": "stdout",
     "output_type": "stream",
     "text": [
      "Trial 36 concluído: total_return = 60112.6000\n",
      "Trial 37 para hora 13: Testando estratégia com parâmetros {'length_rsi': 9.0, 'rsi_low': 43.0, 'rsi_high': 63.0}\n",
      "Trial 37 para hora 13: Usando backtester com TP=1425.80000, SL=1587.20000\n",
      "Executando backtest para trial 37, hora 13...\n"
     ]
    },
    {
     "name": "stderr",
     "output_type": "stream",
     "text": [
      "\u001b[32m[I 2025-05-02 21:14:51,464]\u001b[0m Trial 37 finished with value: 49115.44000000035 and parameters: {'tp': 1425.8000000000002, 'sl': 1587.2, 'length_rsi': 9.0, 'rsi_low': 43.0, 'rsi_high': 63.0}. Best is trial 32 with value: 61482.25999999998.\u001b[0m\n"
     ]
    },
    {
     "name": "stdout",
     "output_type": "stream",
     "text": [
      "Trial 37 concluído: total_return = 49115.4400\n",
      "Trial 38 para hora 13: Testando estratégia com parâmetros {'length_rsi': 9.0, 'rsi_low': 41.0, 'rsi_high': 59.0}\n",
      "Trial 38 para hora 13: Usando backtester com TP=1526.40000, SL=1709.50000\n",
      "Executando backtest para trial 38, hora 13...\n"
     ]
    },
    {
     "name": "stderr",
     "output_type": "stream",
     "text": [
      "\u001b[32m[I 2025-05-02 21:14:52,125]\u001b[0m Trial 38 finished with value: 55360.63999999952 and parameters: {'tp': 1526.4, 'sl': 1709.5, 'length_rsi': 9.0, 'rsi_low': 41.0, 'rsi_high': 59.0}. Best is trial 32 with value: 61482.25999999998.\u001b[0m\n"
     ]
    },
    {
     "name": "stdout",
     "output_type": "stream",
     "text": [
      "Trial 38 concluído: total_return = 55360.6400\n",
      "Trial 39 para hora 13: Testando estratégia com parâmetros {'length_rsi': 8.0, 'rsi_low': 41.0, 'rsi_high': 68.0}\n",
      "Trial 39 para hora 13: Usando backtester com TP=1663.70000, SL=1515.20000\n",
      "Executando backtest para trial 39, hora 13...\n"
     ]
    },
    {
     "name": "stderr",
     "output_type": "stream",
     "text": [
      "\u001b[32m[I 2025-05-02 21:14:52,791]\u001b[0m Trial 39 finished with value: 42803.099999999904 and parameters: {'tp': 1663.7, 'sl': 1515.2, 'length_rsi': 8.0, 'rsi_low': 41.0, 'rsi_high': 68.0}. Best is trial 32 with value: 61482.25999999998.\u001b[0m\n"
     ]
    },
    {
     "name": "stdout",
     "output_type": "stream",
     "text": [
      "Trial 39 concluído: total_return = 42803.1000\n",
      "Trial 40 para hora 13: Testando estratégia com parâmetros {'length_rsi': 8.0, 'rsi_low': 44.0, 'rsi_high': 56.0}\n",
      "Trial 40 para hora 13: Usando backtester com TP=1571.20000, SL=1797.10000\n",
      "Executando backtest para trial 40, hora 13...\n"
     ]
    },
    {
     "name": "stderr",
     "output_type": "stream",
     "text": [
      "\u001b[32m[I 2025-05-02 21:14:53,457]\u001b[0m Trial 40 finished with value: 64266.140000000145 and parameters: {'tp': 1571.2, 'sl': 1797.1000000000001, 'length_rsi': 8.0, 'rsi_low': 44.0, 'rsi_high': 56.0}. Best is trial 40 with value: 64266.140000000145.\u001b[0m\n"
     ]
    },
    {
     "name": "stdout",
     "output_type": "stream",
     "text": [
      "Trial 40 concluído: total_return = 64266.1400\n",
      "Trial 41 para hora 13: Testando estratégia com parâmetros {'length_rsi': 8.0, 'rsi_low': 44.0, 'rsi_high': 56.0}\n",
      "Trial 41 para hora 13: Usando backtester com TP=1577.80000, SL=1786.80000\n",
      "Executando backtest para trial 41, hora 13...\n"
     ]
    },
    {
     "name": "stderr",
     "output_type": "stream",
     "text": [
      "\u001b[32m[I 2025-05-02 21:14:54,139]\u001b[0m Trial 41 finished with value: 64767.07999999964 and parameters: {'tp': 1577.8000000000002, 'sl': 1786.8000000000002, 'length_rsi': 8.0, 'rsi_low': 44.0, 'rsi_high': 56.0}. Best is trial 41 with value: 64767.07999999964.\u001b[0m\n"
     ]
    },
    {
     "name": "stdout",
     "output_type": "stream",
     "text": [
      "Trial 41 concluído: total_return = 64767.0800\n",
      "Trial 42 para hora 13: Testando estratégia com parâmetros {'length_rsi': 8.0, 'rsi_low': 44.0, 'rsi_high': 57.0}\n",
      "Trial 42 para hora 13: Usando backtester com TP=1515.90000, SL=1788.10000\n",
      "Executando backtest para trial 42, hora 13...\n"
     ]
    },
    {
     "name": "stderr",
     "output_type": "stream",
     "text": [
      "\u001b[32m[I 2025-05-02 21:14:54,785]\u001b[0m Trial 42 finished with value: 62018.93999999993 and parameters: {'tp': 1515.9, 'sl': 1788.1000000000001, 'length_rsi': 8.0, 'rsi_low': 44.0, 'rsi_high': 57.0}. Best is trial 41 with value: 64767.07999999964.\u001b[0m\n"
     ]
    },
    {
     "name": "stdout",
     "output_type": "stream",
     "text": [
      "Trial 42 concluído: total_return = 62018.9400\n",
      "Trial 43 para hora 13: Testando estratégia com parâmetros {'length_rsi': 8.0, 'rsi_low': 44.0, 'rsi_high': 60.0}\n",
      "Trial 43 para hora 13: Usando backtester com TP=1550.10000, SL=1785.30000\n",
      "Executando backtest para trial 43, hora 13...\n"
     ]
    },
    {
     "name": "stderr",
     "output_type": "stream",
     "text": [
      "\u001b[32m[I 2025-05-02 21:14:55,464]\u001b[0m Trial 43 finished with value: 59113.19999999965 and parameters: {'tp': 1550.1000000000001, 'sl': 1785.3000000000002, 'length_rsi': 8.0, 'rsi_low': 44.0, 'rsi_high': 60.0}. Best is trial 41 with value: 64767.07999999964.\u001b[0m\n"
     ]
    },
    {
     "name": "stdout",
     "output_type": "stream",
     "text": [
      "Trial 43 concluído: total_return = 59113.2000\n",
      "Trial 44 para hora 13: Testando estratégia com parâmetros {'length_rsi': 8.0, 'rsi_low': 44.0, 'rsi_high': 58.0}\n",
      "Trial 44 para hora 13: Usando backtester com TP=1422.20000, SL=1786.90000\n",
      "Executando backtest para trial 44, hora 13...\n"
     ]
    },
    {
     "name": "stderr",
     "output_type": "stream",
     "text": [
      "\u001b[32m[I 2025-05-02 21:14:56,133]\u001b[0m Trial 44 finished with value: 62290.08000000054 and parameters: {'tp': 1422.2, 'sl': 1786.9, 'length_rsi': 8.0, 'rsi_low': 44.0, 'rsi_high': 58.0}. Best is trial 41 with value: 64767.07999999964.\u001b[0m\n",
      "\u001b[32m[I 2025-05-02 21:14:56,135]\u001b[0m A new study created in memory with name: hora_14\u001b[0m\n"
     ]
    },
    {
     "name": "stdout",
     "output_type": "stream",
     "text": [
      "Trial 44 concluído: total_return = 62290.0800\n",
      "Otimização concluída para hora 13.\n",
      "\n",
      "Melhores parâmetros para hora 13:\n",
      "total_return: 64767.0800\n",
      "Parâmetros: {'length_rsi': 8.0, 'rsi_low': 44.0, 'rsi_high': 56.0, 'allowed_hours': [13], 'tp': 1577.8000000000002, 'sl': 1786.8000000000002}\n",
      "Profit Factor: 1.1764\n",
      "Win Rate: 50.92%\n",
      "Max Drawdown: 448.03%\n",
      "Total Return: $64767.08\n",
      "Total Trades: 3906\n",
      "\n",
      "==================================================\n",
      "Otimizando estratégia para hora: 14:00\n",
      "Métrica: total_return - Direção: maximize\n",
      "==================================================\n",
      "Iniciando otimização com 45 trials para hora 14...\n",
      "Trial 0 para hora 14: Testando estratégia com parâmetros {'length_rsi': 7.0, 'rsi_low': 44.0, 'rsi_high': 77.0}\n",
      "Trial 0 para hora 14: Usando backtester com TP=1400.00000, SL=278.30000\n",
      "Executando backtest para trial 0, hora 14...\n"
     ]
    },
    {
     "name": "stderr",
     "output_type": "stream",
     "text": [
      "\u001b[32m[I 2025-05-02 21:14:56,780]\u001b[0m Trial 0 finished with value: 5072.420000000377 and parameters: {'tp': 1400.0, 'sl': 278.3, 'length_rsi': 7.0, 'rsi_low': 44.0, 'rsi_high': 77.0}. Best is trial 0 with value: 5072.420000000377.\u001b[0m\n"
     ]
    },
    {
     "name": "stdout",
     "output_type": "stream",
     "text": [
      "Trial 0 concluído: total_return = 5072.4200\n",
      "Trial 1 para hora 14: Testando estratégia com parâmetros {'length_rsi': 6.0, 'rsi_low': 36.0, 'rsi_high': 72.0}\n",
      "Trial 1 para hora 14: Usando backtester com TP=426.00000, SL=1628.90000\n",
      "Executando backtest para trial 1, hora 14...\n"
     ]
    },
    {
     "name": "stderr",
     "output_type": "stream",
     "text": [
      "\u001b[32m[I 2025-05-02 21:14:57,560]\u001b[0m Trial 1 finished with value: -6128.1600000002145 and parameters: {'tp': 426.0, 'sl': 1628.9, 'length_rsi': 6.0, 'rsi_low': 36.0, 'rsi_high': 72.0}. Best is trial 0 with value: 5072.420000000377.\u001b[0m\n"
     ]
    },
    {
     "name": "stdout",
     "output_type": "stream",
     "text": [
      "Trial 1 concluído: total_return = -6128.1600\n",
      "Trial 2 para hora 14: Testando estratégia com parâmetros {'length_rsi': 6.0, 'rsi_low': 45.0, 'rsi_high': 77.0}\n",
      "Trial 2 para hora 14: Usando backtester com TP=402.60000, SL=1265.10000\n",
      "Executando backtest para trial 2, hora 14...\n"
     ]
    },
    {
     "name": "stderr",
     "output_type": "stream",
     "text": [
      "\u001b[32m[I 2025-05-02 21:14:58,204]\u001b[0m Trial 2 finished with value: -11915.779999999831 and parameters: {'tp': 402.6, 'sl': 1265.1000000000001, 'length_rsi': 6.0, 'rsi_low': 45.0, 'rsi_high': 77.0}. Best is trial 0 with value: 5072.420000000377.\u001b[0m\n"
     ]
    },
    {
     "name": "stdout",
     "output_type": "stream",
     "text": [
      "Trial 2 concluído: total_return = -11915.7800\n",
      "Trial 3 para hora 14: Testando estratégia com parâmetros {'length_rsi': 9.0, 'rsi_low': 28.0, 'rsi_high': 78.0}\n",
      "Trial 3 para hora 14: Usando backtester com TP=986.60000, SL=744.50000\n",
      "Executando backtest para trial 3, hora 14...\n"
     ]
    },
    {
     "name": "stderr",
     "output_type": "stream",
     "text": [
      "\u001b[32m[I 2025-05-02 21:14:58,815]\u001b[0m Trial 3 finished with value: 4492.4000000000015 and parameters: {'tp': 986.6, 'sl': 744.5, 'length_rsi': 9.0, 'rsi_low': 28.0, 'rsi_high': 78.0}. Best is trial 0 with value: 5072.420000000377.\u001b[0m\n"
     ]
    },
    {
     "name": "stdout",
     "output_type": "stream",
     "text": [
      "Trial 3 concluído: total_return = 4492.4000\n",
      "Trial 4 para hora 14: Testando estratégia com parâmetros {'length_rsi': 8.0, 'rsi_low': 31.0, 'rsi_high': 73.0}\n",
      "Trial 4 para hora 14: Usando backtester com TP=150.70000, SL=363.40000\n",
      "Executando backtest para trial 4, hora 14...\n"
     ]
    },
    {
     "name": "stderr",
     "output_type": "stream",
     "text": [
      "\u001b[32m[I 2025-05-02 21:14:59,434]\u001b[0m Trial 4 finished with value: -3046.320000000018 and parameters: {'tp': 150.7, 'sl': 363.40000000000003, 'length_rsi': 8.0, 'rsi_low': 31.0, 'rsi_high': 73.0}. Best is trial 0 with value: 5072.420000000377.\u001b[0m\n"
     ]
    },
    {
     "name": "stdout",
     "output_type": "stream",
     "text": [
      "Trial 4 concluído: total_return = -3046.3200\n",
      "Trial 5 para hora 14: Testando estratégia com parâmetros {'length_rsi': 7.0, 'rsi_low': 38.0, 'rsi_high': 83.0}\n",
      "Trial 5 para hora 14: Usando backtester com TP=314.10000, SL=1069.20000\n",
      "Executando backtest para trial 5, hora 14...\n"
     ]
    },
    {
     "name": "stderr",
     "output_type": "stream",
     "text": [
      "\u001b[32m[I 2025-05-02 21:15:00,057]\u001b[0m Trial 5 finished with value: -3968.3200000000325 and parameters: {'tp': 314.1, 'sl': 1069.2, 'length_rsi': 7.0, 'rsi_low': 38.0, 'rsi_high': 83.0}. Best is trial 0 with value: 5072.420000000377.\u001b[0m\n"
     ]
    },
    {
     "name": "stdout",
     "output_type": "stream",
     "text": [
      "Trial 5 concluído: total_return = -3968.3200\n",
      "Trial 6 para hora 14: Testando estratégia com parâmetros {'length_rsi': 9.0, 'rsi_low': 25.0, 'rsi_high': 69.0}\n",
      "Trial 6 para hora 14: Usando backtester com TP=290.90000, SL=1597.70000\n",
      "Executando backtest para trial 6, hora 14...\n"
     ]
    },
    {
     "name": "stderr",
     "output_type": "stream",
     "text": [
      "\u001b[32m[I 2025-05-02 21:15:00,684]\u001b[0m Trial 6 finished with value: -3437.1000000000204 and parameters: {'tp': 290.9, 'sl': 1597.7, 'length_rsi': 9.0, 'rsi_low': 25.0, 'rsi_high': 69.0}. Best is trial 0 with value: 5072.420000000377.\u001b[0m\n"
     ]
    },
    {
     "name": "stdout",
     "output_type": "stream",
     "text": [
      "Trial 6 concluído: total_return = -3437.1000\n",
      "Trial 7 para hora 14: Testando estratégia com parâmetros {'length_rsi': 9.0, 'rsi_low': 42.0, 'rsi_high': 71.0}\n",
      "Trial 7 para hora 14: Usando backtester com TP=950.50000, SL=486.40000\n",
      "Executando backtest para trial 7, hora 14...\n"
     ]
    },
    {
     "name": "stderr",
     "output_type": "stream",
     "text": [
      "\u001b[32m[I 2025-05-02 21:15:01,314]\u001b[0m Trial 7 finished with value: 16381.759999999864 and parameters: {'tp': 950.5, 'sl': 486.40000000000003, 'length_rsi': 9.0, 'rsi_low': 42.0, 'rsi_high': 71.0}. Best is trial 7 with value: 16381.759999999864.\u001b[0m\n"
     ]
    },
    {
     "name": "stdout",
     "output_type": "stream",
     "text": [
      "Trial 7 concluído: total_return = 16381.7600\n",
      "Trial 8 para hora 14: Testando estratégia com parâmetros {'length_rsi': 9.0, 'rsi_low': 45.0, 'rsi_high': 82.0}\n",
      "Trial 8 para hora 14: Usando backtester com TP=1187.20000, SL=111.00000\n",
      "Executando backtest para trial 8, hora 14...\n"
     ]
    },
    {
     "name": "stderr",
     "output_type": "stream",
     "text": [
      "\u001b[32m[I 2025-05-02 21:15:01,960]\u001b[0m Trial 8 finished with value: 9588.439999999144 and parameters: {'tp': 1187.2, 'sl': 111.0, 'length_rsi': 9.0, 'rsi_low': 45.0, 'rsi_high': 82.0}. Best is trial 7 with value: 16381.759999999864.\u001b[0m\n"
     ]
    },
    {
     "name": "stdout",
     "output_type": "stream",
     "text": [
      "Trial 8 concluído: total_return = 9588.4400\n",
      "Trial 9 para hora 14: Testando estratégia com parâmetros {'length_rsi': 8.0, 'rsi_low': 29.0, 'rsi_high': 72.0}\n",
      "Trial 9 para hora 14: Usando backtester com TP=1525.30000, SL=325.80000\n",
      "Executando backtest para trial 9, hora 14...\n"
     ]
    },
    {
     "name": "stderr",
     "output_type": "stream",
     "text": [
      "\u001b[32m[I 2025-05-02 21:15:02,595]\u001b[0m Trial 9 finished with value: 7948.160000000105 and parameters: {'tp': 1525.3000000000002, 'sl': 325.8, 'length_rsi': 8.0, 'rsi_low': 29.0, 'rsi_high': 72.0}. Best is trial 7 with value: 16381.759999999864.\u001b[0m\n"
     ]
    },
    {
     "name": "stdout",
     "output_type": "stream",
     "text": [
      "Trial 9 concluído: total_return = 7948.1600\n",
      "Trial 10 para hora 14: Testando estratégia com parâmetros {'length_rsi': 8.0, 'rsi_low': 40.0, 'rsi_high': 60.0}\n",
      "Trial 10 para hora 14: Usando backtester com TP=731.60000, SL=730.60000\n",
      "Executando backtest para trial 10, hora 14...\n"
     ]
    },
    {
     "name": "stderr",
     "output_type": "stream",
     "text": [
      "\u001b[32m[I 2025-05-02 21:15:03,284]\u001b[0m Trial 10 finished with value: 10469.519999999386 and parameters: {'tp': 731.6, 'sl': 730.6, 'length_rsi': 8.0, 'rsi_low': 40.0, 'rsi_high': 60.0}. Best is trial 7 with value: 16381.759999999864.\u001b[0m\n"
     ]
    },
    {
     "name": "stdout",
     "output_type": "stream",
     "text": [
      "Trial 10 concluído: total_return = 10469.5200\n",
      "Trial 11 para hora 14: Testando estratégia com parâmetros {'length_rsi': 8.0, 'rsi_low': 40.0, 'rsi_high': 59.0}\n",
      "Trial 11 para hora 14: Usando backtester com TP=738.80000, SL=693.60000\n",
      "Executando backtest para trial 11, hora 14...\n"
     ]
    },
    {
     "name": "stderr",
     "output_type": "stream",
     "text": [
      "\u001b[32m[I 2025-05-02 21:15:03,954]\u001b[0m Trial 11 finished with value: 10289.200000000448 and parameters: {'tp': 738.8000000000001, 'sl': 693.6, 'length_rsi': 8.0, 'rsi_low': 40.0, 'rsi_high': 59.0}. Best is trial 7 with value: 16381.759999999864.\u001b[0m\n"
     ]
    },
    {
     "name": "stdout",
     "output_type": "stream",
     "text": [
      "Trial 11 concluído: total_return = 10289.2000\n",
      "Trial 12 para hora 14: Testando estratégia com parâmetros {'length_rsi': 9.0, 'rsi_low': 40.0, 'rsi_high': 62.0}\n",
      "Trial 12 para hora 14: Usando backtester com TP=783.00000, SL=723.10000\n",
      "Executando backtest para trial 12, hora 14...\n"
     ]
    },
    {
     "name": "stderr",
     "output_type": "stream",
     "text": [
      "\u001b[32m[I 2025-05-02 21:15:04,621]\u001b[0m Trial 12 finished with value: 19833.579999999696 and parameters: {'tp': 783.0, 'sl': 723.1, 'length_rsi': 9.0, 'rsi_low': 40.0, 'rsi_high': 62.0}. Best is trial 12 with value: 19833.579999999696.\u001b[0m\n"
     ]
    },
    {
     "name": "stdout",
     "output_type": "stream",
     "text": [
      "Trial 12 concluído: total_return = 19833.5800\n",
      "Trial 13 para hora 14: Testando estratégia com parâmetros {'length_rsi': 9.0, 'rsi_low': 41.0, 'rsi_high': 65.0}\n",
      "Trial 13 para hora 14: Usando backtester com TP=836.60000, SL=545.90000\n",
      "Executando backtest para trial 13, hora 14...\n"
     ]
    },
    {
     "name": "stderr",
     "output_type": "stream",
     "text": [
      "\u001b[32m[I 2025-05-02 21:15:05,272]\u001b[0m Trial 13 finished with value: 16200.939999999406 and parameters: {'tp': 836.6, 'sl': 545.9000000000001, 'length_rsi': 9.0, 'rsi_low': 41.0, 'rsi_high': 65.0}. Best is trial 12 with value: 19833.579999999696.\u001b[0m\n"
     ]
    },
    {
     "name": "stdout",
     "output_type": "stream",
     "text": [
      "Trial 13 concluído: total_return = 16200.9400\n",
      "Trial 14 para hora 14: Testando estratégia com parâmetros {'length_rsi': 9.0, 'rsi_low': 34.0, 'rsi_high': 55.0}\n",
      "Trial 14 para hora 14: Usando backtester com TP=1117.00000, SL=1140.20000\n",
      "Executando backtest para trial 14, hora 14...\n"
     ]
    },
    {
     "name": "stderr",
     "output_type": "stream",
     "text": [
      "\u001b[32m[I 2025-05-02 21:15:05,936]\u001b[0m Trial 14 finished with value: 15170.199999999691 and parameters: {'tp': 1117.0, 'sl': 1140.2, 'length_rsi': 9.0, 'rsi_low': 34.0, 'rsi_high': 55.0}. Best is trial 12 with value: 19833.579999999696.\u001b[0m\n"
     ]
    },
    {
     "name": "stdout",
     "output_type": "stream",
     "text": [
      "Trial 14 concluído: total_return = 15170.2000\n",
      "Trial 15 para hora 14: Testando estratégia com parâmetros {'length_rsi': 9.0, 'rsi_low': 42.0, 'rsi_high': 66.0}\n",
      "Trial 15 para hora 14: Usando backtester com TP=1690.00000, SL=494.70000\n",
      "Executando backtest para trial 15, hora 14...\n"
     ]
    },
    {
     "name": "stderr",
     "output_type": "stream",
     "text": [
      "\u001b[32m[I 2025-05-02 21:15:06,599]\u001b[0m Trial 15 finished with value: 19992.56000000018 and parameters: {'tp': 1690.0, 'sl': 494.70000000000005, 'length_rsi': 9.0, 'rsi_low': 42.0, 'rsi_high': 66.0}. Best is trial 15 with value: 19992.56000000018.\u001b[0m\n"
     ]
    },
    {
     "name": "stdout",
     "output_type": "stream",
     "text": [
      "Trial 15 concluído: total_return = 19992.5600\n",
      "Trial 16 para hora 14: Testando estratégia com parâmetros {'length_rsi': 7.0, 'rsi_low': 37.0, 'rsi_high': 65.0}\n",
      "Trial 16 para hora 14: Usando backtester com TP=1791.10000, SL=909.00000\n",
      "Executando backtest para trial 16, hora 14...\n"
     ]
    },
    {
     "name": "stderr",
     "output_type": "stream",
     "text": [
      "\u001b[32m[I 2025-05-02 21:15:07,275]\u001b[0m Trial 16 finished with value: 16472.6200000003 and parameters: {'tp': 1791.1000000000001, 'sl': 909.0, 'length_rsi': 7.0, 'rsi_low': 37.0, 'rsi_high': 65.0}. Best is trial 15 with value: 19992.56000000018.\u001b[0m\n"
     ]
    },
    {
     "name": "stdout",
     "output_type": "stream",
     "text": [
      "Trial 16 concluído: total_return = 16472.6200\n",
      "Trial 17 para hora 14: Testando estratégia com parâmetros {'length_rsi': 8.0, 'rsi_low': 42.0, 'rsi_high': 65.0}\n",
      "Trial 17 para hora 14: Usando backtester com TP=1752.30000, SL=832.20000\n",
      "Executando backtest para trial 17, hora 14...\n"
     ]
    },
    {
     "name": "stderr",
     "output_type": "stream",
     "text": [
      "\u001b[32m[I 2025-05-02 21:15:07,934]\u001b[0m Trial 17 finished with value: 15625.5999999997 and parameters: {'tp': 1752.3000000000002, 'sl': 832.2, 'length_rsi': 8.0, 'rsi_low': 42.0, 'rsi_high': 65.0}. Best is trial 15 with value: 19992.56000000018.\u001b[0m\n"
     ]
    },
    {
     "name": "stdout",
     "output_type": "stream",
     "text": [
      "Trial 17 concluído: total_return = 15625.6000\n",
      "Trial 18 para hora 14: Testando estratégia com parâmetros {'length_rsi': 9.0, 'rsi_low': 34.0, 'rsi_high': 60.0}\n",
      "Trial 18 para hora 14: Usando backtester com TP=590.20000, SL=1419.30000\n",
      "Executando backtest para trial 18, hora 14...\n"
     ]
    },
    {
     "name": "stderr",
     "output_type": "stream",
     "text": [
      "\u001b[32m[I 2025-05-02 21:15:08,588]\u001b[0m Trial 18 finished with value: -229.65999999975247 and parameters: {'tp': 590.2, 'sl': 1419.3000000000002, 'length_rsi': 9.0, 'rsi_low': 34.0, 'rsi_high': 60.0}. Best is trial 15 with value: 19992.56000000018.\u001b[0m\n"
     ]
    },
    {
     "name": "stdout",
     "output_type": "stream",
     "text": [
      "Trial 18 concluído: total_return = -229.6600\n",
      "Trial 19 para hora 14: Testando estratégia com parâmetros {'length_rsi': 8.0, 'rsi_low': 38.0, 'rsi_high': 67.0}\n",
      "Trial 19 para hora 14: Usando backtester com TP=1343.00000, SL=86.60000\n",
      "Executando backtest para trial 19, hora 14...\n"
     ]
    },
    {
     "name": "stderr",
     "output_type": "stream",
     "text": [
      "\u001b[32m[I 2025-05-02 21:15:09,254]\u001b[0m Trial 19 finished with value: 5395.760000000737 and parameters: {'tp': 1343.0, 'sl': 86.6, 'length_rsi': 8.0, 'rsi_low': 38.0, 'rsi_high': 67.0}. Best is trial 15 with value: 19992.56000000018.\u001b[0m\n"
     ]
    },
    {
     "name": "stdout",
     "output_type": "stream",
     "text": [
      "Trial 19 concluído: total_return = 5395.7600\n",
      "Trial 20 para hora 14: Testando estratégia com parâmetros {'length_rsi': 9.0, 'rsi_low': 43.0, 'rsi_high': 62.0}\n",
      "Trial 20 para hora 14: Usando backtester com TP=1582.80000, SL=494.80000\n",
      "Executando backtest para trial 20, hora 14...\n"
     ]
    },
    {
     "name": "stderr",
     "output_type": "stream",
     "text": [
      "\u001b[32m[I 2025-05-02 21:15:09,919]\u001b[0m Trial 20 finished with value: 22419.3600000016 and parameters: {'tp': 1582.8000000000002, 'sl': 494.8, 'length_rsi': 9.0, 'rsi_low': 43.0, 'rsi_high': 62.0}. Best is trial 20 with value: 22419.3600000016.\u001b[0m\n"
     ]
    },
    {
     "name": "stdout",
     "output_type": "stream",
     "text": [
      "Trial 20 concluído: total_return = 22419.3600\n",
      "Trial 21 para hora 14: Testando estratégia com parâmetros {'length_rsi': 9.0, 'rsi_low': 43.0, 'rsi_high': 62.0}\n",
      "Trial 21 para hora 14: Usando backtester com TP=1613.40000, SL=573.80000\n",
      "Executando backtest para trial 21, hora 14...\n"
     ]
    },
    {
     "name": "stderr",
     "output_type": "stream",
     "text": [
      "\u001b[32m[I 2025-05-02 21:15:10,564]\u001b[0m Trial 21 finished with value: 22005.760000000824 and parameters: {'tp': 1613.4, 'sl': 573.8, 'length_rsi': 9.0, 'rsi_low': 43.0, 'rsi_high': 62.0}. Best is trial 20 with value: 22419.3600000016.\u001b[0m\n"
     ]
    },
    {
     "name": "stdout",
     "output_type": "stream",
     "text": [
      "Trial 21 concluído: total_return = 22005.7600\n",
      "Trial 22 para hora 14: Testando estratégia com parâmetros {'length_rsi': 9.0, 'rsi_low': 43.0, 'rsi_high': 55.0}\n",
      "Trial 22 para hora 14: Usando backtester com TP=1615.50000, SL=537.80000\n",
      "Executando backtest para trial 22, hora 14...\n"
     ]
    },
    {
     "name": "stderr",
     "output_type": "stream",
     "text": [
      "\u001b[32m[I 2025-05-02 21:15:11,253]\u001b[0m Trial 22 finished with value: 30303.41999999786 and parameters: {'tp': 1615.5, 'sl': 537.8, 'length_rsi': 9.0, 'rsi_low': 43.0, 'rsi_high': 55.0}. Best is trial 22 with value: 30303.41999999786.\u001b[0m\n"
     ]
    },
    {
     "name": "stdout",
     "output_type": "stream",
     "text": [
      "Trial 22 concluído: total_return = 30303.4200\n",
      "Trial 23 para hora 14: Testando estratégia com parâmetros {'length_rsi': 9.0, 'rsi_low': 43.0, 'rsi_high': 55.0}\n",
      "Trial 23 para hora 14: Usando backtester com TP=1531.80000, SL=576.80000\n",
      "Executando backtest para trial 23, hora 14...\n"
     ]
    },
    {
     "name": "stderr",
     "output_type": "stream",
     "text": [
      "\u001b[32m[I 2025-05-02 21:15:11,908]\u001b[0m Trial 23 finished with value: 28647.959999999075 and parameters: {'tp': 1531.8000000000002, 'sl': 576.8, 'length_rsi': 9.0, 'rsi_low': 43.0, 'rsi_high': 55.0}. Best is trial 22 with value: 30303.41999999786.\u001b[0m\n"
     ]
    },
    {
     "name": "stdout",
     "output_type": "stream",
     "text": [
      "Trial 23 concluído: total_return = 28647.9600\n",
      "Trial 24 para hora 14: Testando estratégia com parâmetros {'length_rsi': 8.0, 'rsi_low': 44.0, 'rsi_high': 55.0}\n",
      "Trial 24 para hora 14: Usando backtester com TP=1470.30000, SL=252.70000\n",
      "Executando backtest para trial 24, hora 14...\n"
     ]
    },
    {
     "name": "stderr",
     "output_type": "stream",
     "text": [
      "\u001b[32m[I 2025-05-02 21:15:12,551]\u001b[0m Trial 24 finished with value: 10309.119999996532 and parameters: {'tp': 1470.3000000000002, 'sl': 252.70000000000002, 'length_rsi': 8.0, 'rsi_low': 44.0, 'rsi_high': 55.0}. Best is trial 22 with value: 30303.41999999786.\u001b[0m\n"
     ]
    },
    {
     "name": "stdout",
     "output_type": "stream",
     "text": [
      "Trial 24 concluído: total_return = 10309.1200\n",
      "Trial 25 para hora 14: Testando estratégia com parâmetros {'length_rsi': 9.0, 'rsi_low': 39.0, 'rsi_high': 57.0}\n",
      "Trial 25 para hora 14: Usando backtester com TP=1277.10000, SL=413.80000\n",
      "Executando backtest para trial 25, hora 14...\n"
     ]
    },
    {
     "name": "stderr",
     "output_type": "stream",
     "text": [
      "\u001b[32m[I 2025-05-02 21:15:13,198]\u001b[0m Trial 25 finished with value: 22168.580000001588 and parameters: {'tp': 1277.1000000000001, 'sl': 413.8, 'length_rsi': 9.0, 'rsi_low': 39.0, 'rsi_high': 57.0}. Best is trial 22 with value: 30303.41999999786.\u001b[0m\n"
     ]
    },
    {
     "name": "stdout",
     "output_type": "stream",
     "text": [
      "Trial 25 concluído: total_return = 22168.5800\n",
      "Trial 26 para hora 14: Testando estratégia com parâmetros {'length_rsi': 8.0, 'rsi_low': 43.0, 'rsi_high': 57.0}\n",
      "Trial 26 para hora 14: Usando backtester com TP=1592.20000, SL=577.00000\n",
      "Executando backtest para trial 26, hora 14...\n"
     ]
    },
    {
     "name": "stderr",
     "output_type": "stream",
     "text": [
      "\u001b[32m[I 2025-05-02 21:15:13,851]\u001b[0m Trial 26 finished with value: 18673.27999999872 and parameters: {'tp': 1592.2, 'sl': 577.0, 'length_rsi': 8.0, 'rsi_low': 43.0, 'rsi_high': 57.0}. Best is trial 22 with value: 30303.41999999786.\u001b[0m\n"
     ]
    },
    {
     "name": "stdout",
     "output_type": "stream",
     "text": [
      "Trial 26 concluído: total_return = 18673.2800\n",
      "Trial 27 para hora 14: Testando estratégia com parâmetros {'length_rsi': 9.0, 'rsi_low': 32.0, 'rsi_high': 62.0}\n",
      "Trial 27 para hora 14: Usando backtester com TP=1461.80000, SL=1005.00000\n",
      "Executando backtest para trial 27, hora 14...\n"
     ]
    },
    {
     "name": "stderr",
     "output_type": "stream",
     "text": [
      "\u001b[32m[I 2025-05-02 21:15:14,492]\u001b[0m Trial 27 finished with value: 13767.760000000024 and parameters: {'tp': 1461.8000000000002, 'sl': 1005.0, 'length_rsi': 9.0, 'rsi_low': 32.0, 'rsi_high': 62.0}. Best is trial 22 with value: 30303.41999999786.\u001b[0m\n"
     ]
    },
    {
     "name": "stdout",
     "output_type": "stream",
     "text": [
      "Trial 27 concluído: total_return = 13767.7600\n",
      "Trial 28 para hora 14: Testando estratégia com parâmetros {'length_rsi': 7.0, 'rsi_low': 45.0, 'rsi_high': 58.0}\n",
      "Trial 28 para hora 14: Usando backtester com TP=1225.70000, SL=211.60000\n",
      "Executando backtest para trial 28, hora 14...\n"
     ]
    },
    {
     "name": "stderr",
     "output_type": "stream",
     "text": [
      "\u001b[32m[I 2025-05-02 21:15:15,141]\u001b[0m Trial 28 finished with value: 10417.300000001218 and parameters: {'tp': 1225.7, 'sl': 211.6, 'length_rsi': 7.0, 'rsi_low': 45.0, 'rsi_high': 58.0}. Best is trial 22 with value: 30303.41999999786.\u001b[0m\n"
     ]
    },
    {
     "name": "stdout",
     "output_type": "stream",
     "text": [
      "Trial 28 concluído: total_return = 10417.3000\n",
      "Trial 29 para hora 14: Testando estratégia com parâmetros {'length_rsi': 9.0, 'rsi_low': 43.0, 'rsi_high': 55.0}\n",
      "Trial 29 para hora 14: Usando backtester com TP=1358.90000, SL=878.20000\n",
      "Executando backtest para trial 29, hora 14...\n"
     ]
    },
    {
     "name": "stderr",
     "output_type": "stream",
     "text": [
      "\u001b[32m[I 2025-05-02 21:15:15,798]\u001b[0m Trial 29 finished with value: 28473.400000000343 and parameters: {'tp': 1358.9, 'sl': 878.2, 'length_rsi': 9.0, 'rsi_low': 43.0, 'rsi_high': 55.0}. Best is trial 22 with value: 30303.41999999786.\u001b[0m\n"
     ]
    },
    {
     "name": "stdout",
     "output_type": "stream",
     "text": [
      "Trial 29 concluído: total_return = 28473.4000\n",
      "Trial 30 para hora 14: Testando estratégia com parâmetros {'length_rsi': 8.0, 'rsi_low': 41.0, 'rsi_high': 55.0}\n",
      "Trial 30 para hora 14: Usando backtester com TP=1390.30000, SL=883.40000\n",
      "Executando backtest para trial 30, hora 14...\n"
     ]
    },
    {
     "name": "stderr",
     "output_type": "stream",
     "text": [
      "\u001b[32m[I 2025-05-02 21:15:16,464]\u001b[0m Trial 30 finished with value: 24716.27999999992 and parameters: {'tp': 1390.3000000000002, 'sl': 883.4000000000001, 'length_rsi': 8.0, 'rsi_low': 41.0, 'rsi_high': 55.0}. Best is trial 22 with value: 30303.41999999786.\u001b[0m\n"
     ]
    },
    {
     "name": "stdout",
     "output_type": "stream",
     "text": [
      "Trial 30 concluído: total_return = 24716.2800\n",
      "Trial 31 para hora 14: Testando estratégia com parâmetros {'length_rsi': 8.0, 'rsi_low': 41.0, 'rsi_high': 55.0}\n",
      "Trial 31 para hora 14: Usando backtester com TP=1432.60000, SL=910.60000\n",
      "Executando backtest para trial 31, hora 14...\n"
     ]
    },
    {
     "name": "stderr",
     "output_type": "stream",
     "text": [
      "\u001b[32m[I 2025-05-02 21:15:17,118]\u001b[0m Trial 31 finished with value: 23981.120000000403 and parameters: {'tp': 1432.6000000000001, 'sl': 910.6, 'length_rsi': 8.0, 'rsi_low': 41.0, 'rsi_high': 55.0}. Best is trial 22 with value: 30303.41999999786.\u001b[0m\n"
     ]
    },
    {
     "name": "stdout",
     "output_type": "stream",
     "text": [
      "Trial 31 concluído: total_return = 23981.1200\n",
      "Trial 32 para hora 14: Testando estratégia com parâmetros {'length_rsi': 6.0, 'rsi_low': 44.0, 'rsi_high': 57.0}\n",
      "Trial 32 para hora 14: Usando backtester com TP=1351.70000, SL=838.90000\n",
      "Executando backtest para trial 32, hora 14...\n"
     ]
    },
    {
     "name": "stderr",
     "output_type": "stream",
     "text": [
      "\u001b[32m[I 2025-05-02 21:15:17,765]\u001b[0m Trial 32 finished with value: 11929.300000000061 and parameters: {'tp': 1351.7, 'sl': 838.9000000000001, 'length_rsi': 6.0, 'rsi_low': 44.0, 'rsi_high': 57.0}. Best is trial 22 with value: 30303.41999999786.\u001b[0m\n"
     ]
    },
    {
     "name": "stdout",
     "output_type": "stream",
     "text": [
      "Trial 32 concluído: total_return = 11929.3000\n",
      "Trial 33 para hora 14: Testando estratégia com parâmetros {'length_rsi': 9.0, 'rsi_low': 36.0, 'rsi_high': 55.0}\n",
      "Trial 33 para hora 14: Usando backtester com TP=1055.30000, SL=1228.50000\n",
      "Executando backtest para trial 33, hora 14...\n"
     ]
    },
    {
     "name": "stderr",
     "output_type": "stream",
     "text": [
      "\u001b[32m[I 2025-05-02 21:15:18,409]\u001b[0m Trial 33 finished with value: 16329.519999999822 and parameters: {'tp': 1055.3000000000002, 'sl': 1228.5, 'length_rsi': 9.0, 'rsi_low': 36.0, 'rsi_high': 55.0}. Best is trial 22 with value: 30303.41999999786.\u001b[0m\n"
     ]
    },
    {
     "name": "stdout",
     "output_type": "stream",
     "text": [
      "Trial 33 concluído: total_return = 16329.5200\n",
      "Trial 34 para hora 14: Testando estratégia com parâmetros {'length_rsi': 8.0, 'rsi_low': 45.0, 'rsi_high': 59.0}\n",
      "Trial 34 para hora 14: Usando backtester com TP=1684.30000, SL=635.80000\n",
      "Executando backtest para trial 34, hora 14...\n"
     ]
    },
    {
     "name": "stderr",
     "output_type": "stream",
     "text": [
      "\u001b[32m[I 2025-05-02 21:15:19,061]\u001b[0m Trial 34 finished with value: 18337.50000000037 and parameters: {'tp': 1684.3000000000002, 'sl': 635.8000000000001, 'length_rsi': 8.0, 'rsi_low': 45.0, 'rsi_high': 59.0}. Best is trial 22 with value: 30303.41999999786.\u001b[0m\n"
     ]
    },
    {
     "name": "stdout",
     "output_type": "stream",
     "text": [
      "Trial 34 concluído: total_return = 18337.5000\n",
      "Trial 35 para hora 14: Testando estratégia com parâmetros {'length_rsi': 6.0, 'rsi_low': 43.0, 'rsi_high': 57.0}\n",
      "Trial 35 para hora 14: Usando backtester com TP=1302.30000, SL=822.10000\n",
      "Executando backtest para trial 35, hora 14...\n"
     ]
    },
    {
     "name": "stderr",
     "output_type": "stream",
     "text": [
      "\u001b[32m[I 2025-05-02 21:15:19,707]\u001b[0m Trial 35 finished with value: 11699.380000000107 and parameters: {'tp': 1302.3, 'sl': 822.1, 'length_rsi': 6.0, 'rsi_low': 43.0, 'rsi_high': 57.0}. Best is trial 22 with value: 30303.41999999786.\u001b[0m\n"
     ]
    },
    {
     "name": "stdout",
     "output_type": "stream",
     "text": [
      "Trial 35 concluído: total_return = 11699.3800\n",
      "Trial 36 para hora 14: Testando estratégia com parâmetros {'length_rsi': 9.0, 'rsi_low': 41.0, 'rsi_high': 60.0}\n",
      "Trial 36 para hora 14: Usando backtester com TP=1423.60000, SL=1010.10000\n",
      "Executando backtest para trial 36, hora 14...\n"
     ]
    },
    {
     "name": "stderr",
     "output_type": "stream",
     "text": [
      "\u001b[32m[I 2025-05-02 21:15:20,362]\u001b[0m Trial 36 finished with value: 21423.43999999971 and parameters: {'tp': 1423.6000000000001, 'sl': 1010.1, 'length_rsi': 9.0, 'rsi_low': 41.0, 'rsi_high': 60.0}. Best is trial 22 with value: 30303.41999999786.\u001b[0m\n"
     ]
    },
    {
     "name": "stdout",
     "output_type": "stream",
     "text": [
      "Trial 36 concluído: total_return = 21423.4400\n",
      "Trial 37 para hora 14: Testando estratégia com parâmetros {'length_rsi': 7.0, 'rsi_low': 39.0, 'rsi_high': 75.0}\n",
      "Trial 37 para hora 14: Usando backtester com TP=1151.80000, SL=1151.50000\n",
      "Executando backtest para trial 37, hora 14...\n"
     ]
    },
    {
     "name": "stderr",
     "output_type": "stream",
     "text": [
      "\u001b[32m[I 2025-05-02 21:15:21,031]\u001b[0m Trial 37 finished with value: 6213.879999999917 and parameters: {'tp': 1151.8, 'sl': 1151.5, 'length_rsi': 7.0, 'rsi_low': 39.0, 'rsi_high': 75.0}. Best is trial 22 with value: 30303.41999999786.\u001b[0m\n"
     ]
    },
    {
     "name": "stdout",
     "output_type": "stream",
     "text": [
      "Trial 37 concluído: total_return = 6213.8800\n",
      "Trial 38 para hora 14: Testando estratégia com parâmetros {'length_rsi': 9.0, 'rsi_low': 44.0, 'rsi_high': 56.0}\n",
      "Trial 38 para hora 14: Usando backtester com TP=1546.50000, SL=1467.90000\n",
      "Executando backtest para trial 38, hora 14...\n"
     ]
    },
    {
     "name": "stderr",
     "output_type": "stream",
     "text": [
      "\u001b[32m[I 2025-05-02 21:15:21,714]\u001b[0m Trial 38 finished with value: 14546.239999999634 and parameters: {'tp': 1546.5, 'sl': 1467.9, 'length_rsi': 9.0, 'rsi_low': 44.0, 'rsi_high': 56.0}. Best is trial 22 with value: 30303.41999999786.\u001b[0m\n"
     ]
    },
    {
     "name": "stdout",
     "output_type": "stream",
     "text": [
      "Trial 38 concluído: total_return = 14546.2400\n",
      "Trial 39 para hora 14: Testando estratégia com parâmetros {'length_rsi': 8.0, 'rsi_low': 42.0, 'rsi_high': 59.0}\n",
      "Trial 39 para hora 14: Usando backtester com TP=1688.30000, SL=401.80000\n",
      "Executando backtest para trial 39, hora 14...\n"
     ]
    },
    {
     "name": "stderr",
     "output_type": "stream",
     "text": [
      "\u001b[32m[I 2025-05-02 21:15:22,400]\u001b[0m Trial 39 finished with value: 19330.819999998515 and parameters: {'tp': 1688.3000000000002, 'sl': 401.8, 'length_rsi': 8.0, 'rsi_low': 42.0, 'rsi_high': 59.0}. Best is trial 22 with value: 30303.41999999786.\u001b[0m\n"
     ]
    },
    {
     "name": "stdout",
     "output_type": "stream",
     "text": [
      "Trial 39 concluído: total_return = 19330.8200\n",
      "Trial 40 para hora 14: Testando estratégia com parâmetros {'length_rsi': 9.0, 'rsi_low': 38.0, 'rsi_high': 69.0}\n",
      "Trial 40 para hora 14: Usando backtester com TP=1020.00000, SL=649.40000\n",
      "Executando backtest para trial 40, hora 14...\n"
     ]
    },
    {
     "name": "stderr",
     "output_type": "stream",
     "text": [
      "\u001b[32m[I 2025-05-02 21:15:23,087]\u001b[0m Trial 40 finished with value: 14494.920000000362 and parameters: {'tp': 1020.0, 'sl': 649.4, 'length_rsi': 9.0, 'rsi_low': 38.0, 'rsi_high': 69.0}. Best is trial 22 with value: 30303.41999999786.\u001b[0m\n"
     ]
    },
    {
     "name": "stdout",
     "output_type": "stream",
     "text": [
      "Trial 40 concluído: total_return = 14494.9200\n",
      "Trial 41 para hora 14: Testando estratégia com parâmetros {'length_rsi': 8.0, 'rsi_low': 40.0, 'rsi_high': 55.0}\n",
      "Trial 41 para hora 14: Usando backtester com TP=1416.10000, SL=934.10000\n",
      "Executando backtest para trial 41, hora 14...\n"
     ]
    },
    {
     "name": "stderr",
     "output_type": "stream",
     "text": [
      "\u001b[32m[I 2025-05-02 21:15:23,779]\u001b[0m Trial 41 finished with value: 25723.120000000345 and parameters: {'tp': 1416.1000000000001, 'sl': 934.1, 'length_rsi': 8.0, 'rsi_low': 40.0, 'rsi_high': 55.0}. Best is trial 22 with value: 30303.41999999786.\u001b[0m\n"
     ]
    },
    {
     "name": "stdout",
     "output_type": "stream",
     "text": [
      "Trial 41 concluído: total_return = 25723.1200\n",
      "Trial 42 para hora 14: Testando estratégia com parâmetros {'length_rsi': 8.0, 'rsi_low': 41.0, 'rsi_high': 56.0}\n",
      "Trial 42 para hora 14: Usando backtester com TP=1363.90000, SL=1025.10000\n",
      "Executando backtest para trial 42, hora 14...\n"
     ]
    },
    {
     "name": "stderr",
     "output_type": "stream",
     "text": [
      "\u001b[32m[I 2025-05-02 21:15:24,462]\u001b[0m Trial 42 finished with value: 19032.63999999962 and parameters: {'tp': 1363.9, 'sl': 1025.1, 'length_rsi': 8.0, 'rsi_low': 41.0, 'rsi_high': 56.0}. Best is trial 22 with value: 30303.41999999786.\u001b[0m\n"
     ]
    },
    {
     "name": "stdout",
     "output_type": "stream",
     "text": [
      "Trial 42 concluído: total_return = 19032.6400\n",
      "Trial 43 para hora 14: Testando estratégia com parâmetros {'length_rsi': 8.0, 'rsi_low': 25.0, 'rsi_high': 81.0}\n",
      "Trial 43 para hora 14: Usando backtester com TP=1538.80000, SL=790.70000\n",
      "Executando backtest para trial 43, hora 14...\n"
     ]
    },
    {
     "name": "stderr",
     "output_type": "stream",
     "text": [
      "\u001b[32m[I 2025-05-02 21:15:25,140]\u001b[0m Trial 43 finished with value: 3972.880000000012 and parameters: {'tp': 1538.8000000000002, 'sl': 790.7, 'length_rsi': 8.0, 'rsi_low': 25.0, 'rsi_high': 81.0}. Best is trial 22 with value: 30303.41999999786.\u001b[0m\n"
     ]
    },
    {
     "name": "stdout",
     "output_type": "stream",
     "text": [
      "Trial 43 concluído: total_return = 3972.8800\n",
      "Trial 44 para hora 14: Testando estratégia com parâmetros {'length_rsi': 7.0, 'rsi_low': 39.0, 'rsi_high': 57.0}\n",
      "Trial 44 para hora 14: Usando backtester com TP=1218.50000, SL=918.50000\n",
      "Executando backtest para trial 44, hora 14...\n"
     ]
    },
    {
     "name": "stderr",
     "output_type": "stream",
     "text": [
      "\u001b[32m[I 2025-05-02 21:15:25,848]\u001b[0m Trial 44 finished with value: 19729.19999999983 and parameters: {'tp': 1218.5, 'sl': 918.5, 'length_rsi': 7.0, 'rsi_low': 39.0, 'rsi_high': 57.0}. Best is trial 22 with value: 30303.41999999786.\u001b[0m\n",
      "\u001b[32m[I 2025-05-02 21:15:25,851]\u001b[0m A new study created in memory with name: hora_15\u001b[0m\n"
     ]
    },
    {
     "name": "stdout",
     "output_type": "stream",
     "text": [
      "Trial 44 concluído: total_return = 19729.2000\n",
      "Otimização concluída para hora 14.\n",
      "\n",
      "Melhores parâmetros para hora 14:\n",
      "total_return: 30303.4200\n",
      "Parâmetros: {'length_rsi': 9.0, 'rsi_low': 43.0, 'rsi_high': 55.0, 'allowed_hours': [14], 'tp': 1615.5, 'sl': 537.8}\n",
      "Profit Factor: 1.0990\n",
      "Win Rate: 46.01%\n",
      "Max Drawdown: 233.82%\n",
      "Total Return: $30303.42\n",
      "Total Trades: 3825\n",
      "\n",
      "==================================================\n",
      "Otimizando estratégia para hora: 15:00\n",
      "Métrica: total_return - Direção: maximize\n",
      "==================================================\n",
      "Iniciando otimização com 45 trials para hora 15...\n",
      "Trial 0 para hora 15: Testando estratégia com parâmetros {'length_rsi': 6.0, 'rsi_low': 43.0, 'rsi_high': 67.0}\n",
      "Trial 0 para hora 15: Usando backtester com TP=1740.40000, SL=526.00000\n",
      "Executando backtest para trial 0, hora 15...\n"
     ]
    },
    {
     "name": "stderr",
     "output_type": "stream",
     "text": [
      "\u001b[32m[I 2025-05-02 21:15:26,508]\u001b[0m Trial 0 finished with value: 17230.71999999931 and parameters: {'tp': 1740.4, 'sl': 526.0, 'length_rsi': 6.0, 'rsi_low': 43.0, 'rsi_high': 67.0}. Best is trial 0 with value: 17230.71999999931.\u001b[0m\n"
     ]
    },
    {
     "name": "stdout",
     "output_type": "stream",
     "text": [
      "Trial 0 concluído: total_return = 17230.7200\n",
      "Trial 1 para hora 15: Testando estratégia com parâmetros {'length_rsi': 8.0, 'rsi_low': 26.0, 'rsi_high': 72.0}\n",
      "Trial 1 para hora 15: Usando backtester com TP=1115.40000, SL=797.60000\n",
      "Executando backtest para trial 1, hora 15...\n"
     ]
    },
    {
     "name": "stderr",
     "output_type": "stream",
     "text": [
      "\u001b[32m[I 2025-05-02 21:15:27,162]\u001b[0m Trial 1 finished with value: 4677.759999999937 and parameters: {'tp': 1115.4, 'sl': 797.6, 'length_rsi': 8.0, 'rsi_low': 26.0, 'rsi_high': 72.0}. Best is trial 0 with value: 17230.71999999931.\u001b[0m\n"
     ]
    },
    {
     "name": "stdout",
     "output_type": "stream",
     "text": [
      "Trial 1 concluído: total_return = 4677.7600\n",
      "Trial 2 para hora 15: Testando estratégia com parâmetros {'length_rsi': 6.0, 'rsi_low': 34.0, 'rsi_high': 60.0}\n",
      "Trial 2 para hora 15: Usando backtester com TP=1169.60000, SL=1570.00000\n",
      "Executando backtest para trial 2, hora 15...\n"
     ]
    },
    {
     "name": "stderr",
     "output_type": "stream",
     "text": [
      "\u001b[32m[I 2025-05-02 21:15:27,823]\u001b[0m Trial 2 finished with value: -5873.039999999975 and parameters: {'tp': 1169.6000000000001, 'sl': 1570.0, 'length_rsi': 6.0, 'rsi_low': 34.0, 'rsi_high': 60.0}. Best is trial 0 with value: 17230.71999999931.\u001b[0m\n"
     ]
    },
    {
     "name": "stdout",
     "output_type": "stream",
     "text": [
      "Trial 2 concluído: total_return = -5873.0400\n",
      "Trial 3 para hora 15: Testando estratégia com parâmetros {'length_rsi': 7.0, 'rsi_low': 41.0, 'rsi_high': 73.0}\n",
      "Trial 3 para hora 15: Usando backtester com TP=409.40000, SL=147.60000\n",
      "Executando backtest para trial 3, hora 15...\n"
     ]
    },
    {
     "name": "stderr",
     "output_type": "stream",
     "text": [
      "\u001b[32m[I 2025-05-02 21:15:28,496]\u001b[0m Trial 3 finished with value: -14293.880000000952 and parameters: {'tp': 409.40000000000003, 'sl': 147.60000000000002, 'length_rsi': 7.0, 'rsi_low': 41.0, 'rsi_high': 73.0}. Best is trial 0 with value: 17230.71999999931.\u001b[0m\n"
     ]
    },
    {
     "name": "stdout",
     "output_type": "stream",
     "text": [
      "Trial 3 concluído: total_return = -14293.8800\n",
      "Trial 4 para hora 15: Testando estratégia com parâmetros {'length_rsi': 7.0, 'rsi_low': 34.0, 'rsi_high': 78.0}\n",
      "Trial 4 para hora 15: Usando backtester com TP=1103.30000, SL=1783.30000\n",
      "Executando backtest para trial 4, hora 15...\n"
     ]
    },
    {
     "name": "stderr",
     "output_type": "stream",
     "text": [
      "\u001b[32m[I 2025-05-02 21:15:29,175]\u001b[0m Trial 4 finished with value: -4268.480000000018 and parameters: {'tp': 1103.3000000000002, 'sl': 1783.3000000000002, 'length_rsi': 7.0, 'rsi_low': 34.0, 'rsi_high': 78.0}. Best is trial 0 with value: 17230.71999999931.\u001b[0m\n"
     ]
    },
    {
     "name": "stdout",
     "output_type": "stream",
     "text": [
      "Trial 4 concluído: total_return = -4268.4800\n",
      "Trial 5 para hora 15: Testando estratégia com parâmetros {'length_rsi': 9.0, 'rsi_low': 39.0, 'rsi_high': 83.0}\n",
      "Trial 5 para hora 15: Usando backtester com TP=1224.00000, SL=1028.70000\n",
      "Executando backtest para trial 5, hora 15...\n"
     ]
    },
    {
     "name": "stderr",
     "output_type": "stream",
     "text": [
      "\u001b[32m[I 2025-05-02 21:15:29,808]\u001b[0m Trial 5 finished with value: 3372.0399999999936 and parameters: {'tp': 1224.0, 'sl': 1028.7, 'length_rsi': 9.0, 'rsi_low': 39.0, 'rsi_high': 83.0}. Best is trial 0 with value: 17230.71999999931.\u001b[0m\n"
     ]
    },
    {
     "name": "stdout",
     "output_type": "stream",
     "text": [
      "Trial 5 concluído: total_return = 3372.0400\n",
      "Trial 6 para hora 15: Testando estratégia com parâmetros {'length_rsi': 7.0, 'rsi_low': 26.0, 'rsi_high': 85.0}\n",
      "Trial 6 para hora 15: Usando backtester com TP=234.90000, SL=202.40000\n",
      "Executando backtest para trial 6, hora 15...\n"
     ]
    },
    {
     "name": "stderr",
     "output_type": "stream",
     "text": [
      "\u001b[32m[I 2025-05-02 21:15:30,442]\u001b[0m Trial 6 finished with value: -3061.840000000004 and parameters: {'tp': 234.9, 'sl': 202.4, 'length_rsi': 7.0, 'rsi_low': 26.0, 'rsi_high': 85.0}. Best is trial 0 with value: 17230.71999999931.\u001b[0m\n"
     ]
    },
    {
     "name": "stdout",
     "output_type": "stream",
     "text": [
      "Trial 6 concluído: total_return = -3061.8400\n",
      "Trial 7 para hora 15: Testando estratégia com parâmetros {'length_rsi': 7.0, 'rsi_low': 27.0, 'rsi_high': 81.0}\n",
      "Trial 7 para hora 15: Usando backtester com TP=1517.00000, SL=97.00000\n",
      "Executando backtest para trial 7, hora 15...\n"
     ]
    },
    {
     "name": "stderr",
     "output_type": "stream",
     "text": [
      "\u001b[32m[I 2025-05-02 21:15:31,067]\u001b[0m Trial 7 finished with value: -374.2000000000444 and parameters: {'tp': 1517.0, 'sl': 97.0, 'length_rsi': 7.0, 'rsi_low': 27.0, 'rsi_high': 81.0}. Best is trial 0 with value: 17230.71999999931.\u001b[0m\n"
     ]
    },
    {
     "name": "stdout",
     "output_type": "stream",
     "text": [
      "Trial 7 concluído: total_return = -374.2000\n",
      "Trial 8 para hora 15: Testando estratégia com parâmetros {'length_rsi': 8.0, 'rsi_low': 33.0, 'rsi_high': 64.0}\n",
      "Trial 8 para hora 15: Usando backtester com TP=235.80000, SL=1025.30000\n",
      "Executando backtest para trial 8, hora 15...\n"
     ]
    },
    {
     "name": "stderr",
     "output_type": "stream",
     "text": [
      "\u001b[32m[I 2025-05-02 21:15:31,697]\u001b[0m Trial 8 finished with value: -9263.820000000207 and parameters: {'tp': 235.8, 'sl': 1025.3000000000002, 'length_rsi': 8.0, 'rsi_low': 33.0, 'rsi_high': 64.0}. Best is trial 0 with value: 17230.71999999931.\u001b[0m\n"
     ]
    },
    {
     "name": "stdout",
     "output_type": "stream",
     "text": [
      "Trial 8 concluído: total_return = -9263.8200\n",
      "Trial 9 para hora 15: Testando estratégia com parâmetros {'length_rsi': 6.0, 'rsi_low': 29.0, 'rsi_high': 82.0}\n",
      "Trial 9 para hora 15: Usando backtester com TP=1653.70000, SL=472.30000\n",
      "Executando backtest para trial 9, hora 15...\n"
     ]
    },
    {
     "name": "stderr",
     "output_type": "stream",
     "text": [
      "\u001b[32m[I 2025-05-02 21:15:32,326]\u001b[0m Trial 9 finished with value: 5904.19999999999 and parameters: {'tp': 1653.7, 'sl': 472.3, 'length_rsi': 6.0, 'rsi_low': 29.0, 'rsi_high': 82.0}. Best is trial 0 with value: 17230.71999999931.\u001b[0m\n"
     ]
    },
    {
     "name": "stdout",
     "output_type": "stream",
     "text": [
      "Trial 9 concluído: total_return = 5904.2000\n",
      "Trial 10 para hora 15: Testando estratégia com parâmetros {'length_rsi': 6.0, 'rsi_low': 45.0, 'rsi_high': 66.0}\n",
      "Trial 10 para hora 15: Usando backtester com TP=691.80000, SL=640.50000\n",
      "Executando backtest para trial 10, hora 15...\n"
     ]
    },
    {
     "name": "stderr",
     "output_type": "stream",
     "text": [
      "\u001b[32m[I 2025-05-02 21:15:32,967]\u001b[0m Trial 10 finished with value: 5621.7999999997555 and parameters: {'tp': 691.8000000000001, 'sl': 640.5, 'length_rsi': 6.0, 'rsi_low': 45.0, 'rsi_high': 66.0}. Best is trial 0 with value: 17230.71999999931.\u001b[0m\n"
     ]
    },
    {
     "name": "stdout",
     "output_type": "stream",
     "text": [
      "Trial 10 concluído: total_return = 5621.8000\n",
      "Trial 11 para hora 15: Testando estratégia com parâmetros {'length_rsi': 6.0, 'rsi_low': 30.0, 'rsi_high': 56.0}\n",
      "Trial 11 para hora 15: Usando backtester com TP=1775.30000, SL=564.80000\n",
      "Executando backtest para trial 11, hora 15...\n"
     ]
    },
    {
     "name": "stderr",
     "output_type": "stream",
     "text": [
      "\u001b[32m[I 2025-05-02 21:15:33,607]\u001b[0m Trial 11 finished with value: 10360.500000000218 and parameters: {'tp': 1775.3000000000002, 'sl': 564.8, 'length_rsi': 6.0, 'rsi_low': 30.0, 'rsi_high': 56.0}. Best is trial 0 with value: 17230.71999999931.\u001b[0m\n"
     ]
    },
    {
     "name": "stdout",
     "output_type": "stream",
     "text": [
      "Trial 11 concluído: total_return = 10360.5000\n",
      "Trial 12 para hora 15: Testando estratégia com parâmetros {'length_rsi': 6.0, 'rsi_low': 31.0, 'rsi_high': 55.0}\n",
      "Trial 12 para hora 15: Usando backtester com TP=1779.70000, SL=508.30000\n",
      "Executando backtest para trial 12, hora 15...\n"
     ]
    },
    {
     "name": "stderr",
     "output_type": "stream",
     "text": [
      "\u001b[32m[I 2025-05-02 21:15:34,328]\u001b[0m Trial 12 finished with value: 13813.440000000206 and parameters: {'tp': 1779.7, 'sl': 508.3, 'length_rsi': 6.0, 'rsi_low': 31.0, 'rsi_high': 55.0}. Best is trial 0 with value: 17230.71999999931.\u001b[0m\n"
     ]
    },
    {
     "name": "stdout",
     "output_type": "stream",
     "text": [
      "Trial 12 concluído: total_return = 13813.4400\n",
      "Trial 13 para hora 15: Testando estratégia com parâmetros {'length_rsi': 6.0, 'rsi_low': 38.0, 'rsi_high': 56.0}\n",
      "Trial 13 para hora 15: Usando backtester com TP=1510.60000, SL=396.80000\n",
      "Executando backtest para trial 13, hora 15...\n"
     ]
    },
    {
     "name": "stderr",
     "output_type": "stream",
     "text": [
      "\u001b[32m[I 2025-05-02 21:15:34,970]\u001b[0m Trial 13 finished with value: 10699.399999999972 and parameters: {'tp': 1510.6000000000001, 'sl': 396.8, 'length_rsi': 6.0, 'rsi_low': 38.0, 'rsi_high': 56.0}. Best is trial 0 with value: 17230.71999999931.\u001b[0m\n"
     ]
    },
    {
     "name": "stdout",
     "output_type": "stream",
     "text": [
      "Trial 13 concluído: total_return = 10699.4000\n",
      "Trial 14 para hora 15: Testando estratégia com parâmetros {'length_rsi': 9.0, 'rsi_low': 45.0, 'rsi_high': 65.0}\n",
      "Trial 14 para hora 15: Usando backtester com TP=1430.60000, SL=1178.30000\n",
      "Executando backtest para trial 14, hora 15...\n"
     ]
    },
    {
     "name": "stderr",
     "output_type": "stream",
     "text": [
      "\u001b[32m[I 2025-05-02 21:15:35,614]\u001b[0m Trial 14 finished with value: -1179.8199999999779 and parameters: {'tp': 1430.6000000000001, 'sl': 1178.3, 'length_rsi': 9.0, 'rsi_low': 45.0, 'rsi_high': 65.0}. Best is trial 0 with value: 17230.71999999931.\u001b[0m\n"
     ]
    },
    {
     "name": "stdout",
     "output_type": "stream",
     "text": [
      "Trial 14 concluído: total_return = -1179.8200\n",
      "Trial 15 para hora 15: Testando estratégia com parâmetros {'length_rsi': 6.0, 'rsi_low': 31.0, 'rsi_high': 61.0}\n",
      "Trial 15 para hora 15: Usando backtester com TP=768.90000, SL=776.80000\n",
      "Executando backtest para trial 15, hora 15...\n"
     ]
    },
    {
     "name": "stderr",
     "output_type": "stream",
     "text": [
      "\u001b[32m[I 2025-05-02 21:15:36,287]\u001b[0m Trial 15 finished with value: 12983.260000000046 and parameters: {'tp': 768.9000000000001, 'sl': 776.8000000000001, 'length_rsi': 6.0, 'rsi_low': 31.0, 'rsi_high': 61.0}. Best is trial 0 with value: 17230.71999999931.\u001b[0m\n"
     ]
    },
    {
     "name": "stdout",
     "output_type": "stream",
     "text": [
      "Trial 15 concluído: total_return = 12983.2600\n",
      "Trial 16 para hora 15: Testando estratégia com parâmetros {'length_rsi': 8.0, 'rsi_low': 42.0, 'rsi_high': 69.0}\n",
      "Trial 16 para hora 15: Usando backtester com TP=1794.80000, SL=373.70000\n",
      "Executando backtest para trial 16, hora 15...\n"
     ]
    },
    {
     "name": "stderr",
     "output_type": "stream",
     "text": [
      "\u001b[32m[I 2025-05-02 21:15:36,946]\u001b[0m Trial 16 finished with value: 9246.500000000364 and parameters: {'tp': 1794.8000000000002, 'sl': 373.7, 'length_rsi': 8.0, 'rsi_low': 42.0, 'rsi_high': 69.0}. Best is trial 0 with value: 17230.71999999931.\u001b[0m\n"
     ]
    },
    {
     "name": "stdout",
     "output_type": "stream",
     "text": [
      "Trial 16 concluído: total_return = 9246.5000\n",
      "Trial 17 para hora 15: Testando estratégia com parâmetros {'length_rsi': 7.0, 'rsi_low': 37.0, 'rsi_high': 77.0}\n",
      "Trial 17 para hora 15: Usando backtester com TP=1466.20000, SL=1308.20000\n",
      "Executando backtest para trial 17, hora 15...\n"
     ]
    },
    {
     "name": "stderr",
     "output_type": "stream",
     "text": [
      "\u001b[32m[I 2025-05-02 21:15:37,590]\u001b[0m Trial 17 finished with value: -4285.96000000001 and parameters: {'tp': 1466.2, 'sl': 1308.2, 'length_rsi': 7.0, 'rsi_low': 37.0, 'rsi_high': 77.0}. Best is trial 0 with value: 17230.71999999931.\u001b[0m\n"
     ]
    },
    {
     "name": "stdout",
     "output_type": "stream",
     "text": [
      "Trial 17 concluído: total_return = -4285.9600\n",
      "Trial 18 para hora 15: Testando estratégia com parâmetros {'length_rsi': 6.0, 'rsi_low': 36.0, 'rsi_high': 60.0}\n",
      "Trial 18 para hora 15: Usando backtester com TP=1340.30000, SL=803.60000\n",
      "Executando backtest para trial 18, hora 15...\n"
     ]
    },
    {
     "name": "stderr",
     "output_type": "stream",
     "text": [
      "\u001b[32m[I 2025-05-02 21:15:38,242]\u001b[0m Trial 18 finished with value: 14033.600000000108 and parameters: {'tp': 1340.3000000000002, 'sl': 803.6, 'length_rsi': 6.0, 'rsi_low': 36.0, 'rsi_high': 60.0}. Best is trial 0 with value: 17230.71999999931.\u001b[0m\n"
     ]
    },
    {
     "name": "stdout",
     "output_type": "stream",
     "text": [
      "Trial 18 concluído: total_return = 14033.6000\n",
      "Trial 19 para hora 15: Testando estratégia com parâmetros {'length_rsi': 7.0, 'rsi_low': 42.0, 'rsi_high': 60.0}\n",
      "Trial 19 para hora 15: Usando backtester com TP=1281.30000, SL=740.00000\n",
      "Executando backtest para trial 19, hora 15...\n"
     ]
    },
    {
     "name": "stderr",
     "output_type": "stream",
     "text": [
      "\u001b[32m[I 2025-05-02 21:15:38,901]\u001b[0m Trial 19 finished with value: 13254.880000000056 and parameters: {'tp': 1281.3, 'sl': 740.0, 'length_rsi': 7.0, 'rsi_low': 42.0, 'rsi_high': 60.0}. Best is trial 0 with value: 17230.71999999931.\u001b[0m\n"
     ]
    },
    {
     "name": "stdout",
     "output_type": "stream",
     "text": [
      "Trial 19 concluído: total_return = 13254.8800\n",
      "Trial 20 para hora 15: Testando estratégia com parâmetros {'length_rsi': 6.0, 'rsi_low': 36.0, 'rsi_high': 68.0}\n",
      "Trial 20 para hora 15: Usando backtester com TP=1344.20000, SL=916.80000\n",
      "Executando backtest para trial 20, hora 15...\n"
     ]
    },
    {
     "name": "stderr",
     "output_type": "stream",
     "text": [
      "\u001b[32m[I 2025-05-02 21:15:39,541]\u001b[0m Trial 20 finished with value: 8157.600000000035 and parameters: {'tp': 1344.2, 'sl': 916.8000000000001, 'length_rsi': 6.0, 'rsi_low': 36.0, 'rsi_high': 68.0}. Best is trial 0 with value: 17230.71999999931.\u001b[0m\n"
     ]
    },
    {
     "name": "stdout",
     "output_type": "stream",
     "text": [
      "Trial 20 concluído: total_return = 8157.6000\n",
      "Trial 21 para hora 15: Testando estratégia com parâmetros {'length_rsi': 6.0, 'rsi_low': 31.0, 'rsi_high': 55.0}\n",
      "Trial 21 para hora 15: Usando backtester com TP=1616.40000, SL=589.60000\n",
      "Executando backtest para trial 21, hora 15...\n"
     ]
    },
    {
     "name": "stderr",
     "output_type": "stream",
     "text": [
      "\u001b[32m[I 2025-05-02 21:15:40,212]\u001b[0m Trial 21 finished with value: 13519.39999999995 and parameters: {'tp': 1616.4, 'sl': 589.6, 'length_rsi': 6.0, 'rsi_low': 31.0, 'rsi_high': 55.0}. Best is trial 0 with value: 17230.71999999931.\u001b[0m\n"
     ]
    },
    {
     "name": "stdout",
     "output_type": "stream",
     "text": [
      "Trial 21 concluído: total_return = 13519.4000\n",
      "Trial 22 para hora 15: Testando estratégia com parâmetros {'length_rsi': 6.0, 'rsi_low': 40.0, 'rsi_high': 62.0}\n",
      "Trial 22 para hora 15: Usando backtester com TP=1639.10000, SL=331.30000\n",
      "Executando backtest para trial 22, hora 15...\n"
     ]
    },
    {
     "name": "stderr",
     "output_type": "stream",
     "text": [
      "\u001b[32m[I 2025-05-02 21:15:40,861]\u001b[0m Trial 22 finished with value: 11034.919999999453 and parameters: {'tp': 1639.1000000000001, 'sl': 331.3, 'length_rsi': 6.0, 'rsi_low': 40.0, 'rsi_high': 62.0}. Best is trial 0 with value: 17230.71999999931.\u001b[0m\n"
     ]
    },
    {
     "name": "stdout",
     "output_type": "stream",
     "text": [
      "Trial 22 concluído: total_return = 11034.9200\n",
      "Trial 23 para hora 15: Testando estratégia com parâmetros {'length_rsi': 6.0, 'rsi_low': 32.0, 'rsi_high': 59.0}\n",
      "Trial 23 para hora 15: Usando backtester com TP=1788.40000, SL=889.10000\n",
      "Executando backtest para trial 23, hora 15...\n"
     ]
    },
    {
     "name": "stderr",
     "output_type": "stream",
     "text": [
      "\u001b[32m[I 2025-05-02 21:15:41,510]\u001b[0m Trial 23 finished with value: 15767.820000000145 and parameters: {'tp': 1788.4, 'sl': 889.1, 'length_rsi': 6.0, 'rsi_low': 32.0, 'rsi_high': 59.0}. Best is trial 0 with value: 17230.71999999931.\u001b[0m\n"
     ]
    },
    {
     "name": "stdout",
     "output_type": "stream",
     "text": [
      "Trial 23 concluído: total_return = 15767.8200\n",
      "Trial 24 para hora 15: Testando estratégia com parâmetros {'length_rsi': 7.0, 'rsi_low': 36.0, 'rsi_high': 59.0}\n",
      "Trial 24 para hora 15: Usando backtester com TP=923.90000, SL=1229.70000\n",
      "Executando backtest para trial 24, hora 15...\n"
     ]
    },
    {
     "name": "stderr",
     "output_type": "stream",
     "text": [
      "\u001b[32m[I 2025-05-02 21:15:42,161]\u001b[0m Trial 24 finished with value: 3365.100000000013 and parameters: {'tp': 923.9000000000001, 'sl': 1229.7, 'length_rsi': 7.0, 'rsi_low': 36.0, 'rsi_high': 59.0}. Best is trial 0 with value: 17230.71999999931.\u001b[0m\n"
     ]
    },
    {
     "name": "stdout",
     "output_type": "stream",
     "text": [
      "Trial 24 concluído: total_return = 3365.1000\n",
      "Trial 25 para hora 15: Testando estratégia com parâmetros {'length_rsi': 6.0, 'rsi_low': 43.0, 'rsi_high': 63.0}\n",
      "Trial 25 para hora 15: Usando backtester com TP=1616.80000, SL=875.60000\n",
      "Executando backtest para trial 25, hora 15...\n"
     ]
    },
    {
     "name": "stderr",
     "output_type": "stream",
     "text": [
      "\u001b[32m[I 2025-05-02 21:15:42,820]\u001b[0m Trial 25 finished with value: 16036.159999999785 and parameters: {'tp': 1616.8000000000002, 'sl': 875.6, 'length_rsi': 6.0, 'rsi_low': 43.0, 'rsi_high': 63.0}. Best is trial 0 with value: 17230.71999999931.\u001b[0m\n"
     ]
    },
    {
     "name": "stdout",
     "output_type": "stream",
     "text": [
      "Trial 25 concluído: total_return = 16036.1600\n",
      "Trial 26 para hora 15: Testando estratégia com parâmetros {'length_rsi': 7.0, 'rsi_low': 43.0, 'rsi_high': 63.0}\n",
      "Trial 26 para hora 15: Usando backtester com TP=1638.90000, SL=967.30000\n",
      "Executando backtest para trial 26, hora 15...\n"
     ]
    },
    {
     "name": "stderr",
     "output_type": "stream",
     "text": [
      "\u001b[32m[I 2025-05-02 21:15:43,483]\u001b[0m Trial 26 finished with value: 9673.680000000044 and parameters: {'tp': 1638.9, 'sl': 967.3000000000001, 'length_rsi': 7.0, 'rsi_low': 43.0, 'rsi_high': 63.0}. Best is trial 0 with value: 17230.71999999931.\u001b[0m\n"
     ]
    },
    {
     "name": "stdout",
     "output_type": "stream",
     "text": [
      "Trial 26 concluído: total_return = 9673.6800\n",
      "Trial 27 para hora 15: Testando estratégia com parâmetros {'length_rsi': 6.0, 'rsi_low': 44.0, 'rsi_high': 67.0}\n",
      "Trial 27 para hora 15: Usando backtester com TP=977.40000, SL=1417.10000\n",
      "Executando backtest para trial 27, hora 15...\n"
     ]
    },
    {
     "name": "stderr",
     "output_type": "stream",
     "text": [
      "\u001b[32m[I 2025-05-02 21:15:44,133]\u001b[0m Trial 27 finished with value: -6745.32000000008 and parameters: {'tp': 977.4000000000001, 'sl': 1417.1000000000001, 'length_rsi': 6.0, 'rsi_low': 44.0, 'rsi_high': 67.0}. Best is trial 0 with value: 17230.71999999931.\u001b[0m\n"
     ]
    },
    {
     "name": "stdout",
     "output_type": "stream",
     "text": [
      "Trial 27 concluído: total_return = -6745.3200\n",
      "Trial 28 para hora 15: Testando estratégia com parâmetros {'length_rsi': 8.0, 'rsi_low': 40.0, 'rsi_high': 72.0}\n",
      "Trial 28 para hora 15: Usando backtester com TP=1571.40000, SL=1116.20000\n",
      "Executando backtest para trial 28, hora 15...\n"
     ]
    },
    {
     "name": "stderr",
     "output_type": "stream",
     "text": [
      "\u001b[32m[I 2025-05-02 21:15:44,775]\u001b[0m Trial 28 finished with value: 761.880000000081 and parameters: {'tp': 1571.4, 'sl': 1116.2, 'length_rsi': 8.0, 'rsi_low': 40.0, 'rsi_high': 72.0}. Best is trial 0 with value: 17230.71999999931.\u001b[0m\n"
     ]
    },
    {
     "name": "stdout",
     "output_type": "stream",
     "text": [
      "Trial 28 concluído: total_return = 761.8800\n",
      "Trial 29 para hora 15: Testando estratégia com parâmetros {'length_rsi': 6.0, 'rsi_low': 28.0, 'rsi_high': 72.0}\n",
      "Trial 29 para hora 15: Usando backtester com TP=1720.20000, SL=859.50000\n",
      "Executando backtest para trial 29, hora 15...\n"
     ]
    },
    {
     "name": "stderr",
     "output_type": "stream",
     "text": [
      "\u001b[32m[I 2025-05-02 21:15:45,428]\u001b[0m Trial 29 finished with value: 7324.300000000105 and parameters: {'tp': 1720.2, 'sl': 859.5, 'length_rsi': 6.0, 'rsi_low': 28.0, 'rsi_high': 72.0}. Best is trial 0 with value: 17230.71999999931.\u001b[0m\n"
     ]
    },
    {
     "name": "stdout",
     "output_type": "stream",
     "text": [
      "Trial 29 concluído: total_return = 7324.3000\n",
      "Trial 30 para hora 15: Testando estratégia com parâmetros {'length_rsi': 8.0, 'rsi_low': 25.0, 'rsi_high': 58.0}\n",
      "Trial 30 para hora 15: Usando backtester com TP=1403.10000, SL=761.60000\n",
      "Executando backtest para trial 30, hora 15...\n"
     ]
    },
    {
     "name": "stderr",
     "output_type": "stream",
     "text": [
      "\u001b[32m[I 2025-05-02 21:15:46,094]\u001b[0m Trial 30 finished with value: 12361.60000000005 and parameters: {'tp': 1403.1000000000001, 'sl': 761.6, 'length_rsi': 8.0, 'rsi_low': 25.0, 'rsi_high': 58.0}. Best is trial 0 with value: 17230.71999999931.\u001b[0m\n"
     ]
    },
    {
     "name": "stdout",
     "output_type": "stream",
     "text": [
      "Trial 30 concluído: total_return = 12361.6000\n",
      "Trial 31 para hora 15: Testando estratégia com parâmetros {'length_rsi': 6.0, 'rsi_low': 33.0, 'rsi_high': 58.0}\n",
      "Trial 31 para hora 15: Usando backtester com TP=1693.50000, SL=668.40000\n",
      "Executando backtest para trial 31, hora 15...\n"
     ]
    },
    {
     "name": "stderr",
     "output_type": "stream",
     "text": [
      "\u001b[32m[I 2025-05-02 21:15:46,763]\u001b[0m Trial 31 finished with value: 17475.77999999981 and parameters: {'tp': 1693.5, 'sl': 668.4, 'length_rsi': 6.0, 'rsi_low': 33.0, 'rsi_high': 58.0}. Best is trial 31 with value: 17475.77999999981.\u001b[0m\n"
     ]
    },
    {
     "name": "stdout",
     "output_type": "stream",
     "text": [
      "Trial 31 concluído: total_return = 17475.7800\n",
      "Trial 32 para hora 15: Testando estratégia com parâmetros {'length_rsi': 6.0, 'rsi_low': 33.0, 'rsi_high': 58.0}\n",
      "Trial 32 para hora 15: Usando backtester com TP=1683.30000, SL=615.50000\n",
      "Executando backtest para trial 32, hora 15...\n"
     ]
    },
    {
     "name": "stderr",
     "output_type": "stream",
     "text": [
      "\u001b[32m[I 2025-05-02 21:15:47,421]\u001b[0m Trial 32 finished with value: 17285.699999999873 and parameters: {'tp': 1683.3000000000002, 'sl': 615.5, 'length_rsi': 6.0, 'rsi_low': 33.0, 'rsi_high': 58.0}. Best is trial 31 with value: 17475.77999999981.\u001b[0m\n"
     ]
    },
    {
     "name": "stdout",
     "output_type": "stream",
     "text": [
      "Trial 32 concluído: total_return = 17285.7000\n",
      "Trial 33 para hora 15: Testando estratégia com parâmetros {'length_rsi': 6.0, 'rsi_low': 34.0, 'rsi_high': 57.0}\n",
      "Trial 33 para hora 15: Usando backtester com TP=1534.50000, SL=688.20000\n",
      "Executando backtest para trial 33, hora 15...\n"
     ]
    },
    {
     "name": "stderr",
     "output_type": "stream",
     "text": [
      "\u001b[32m[I 2025-05-02 21:15:48,096]\u001b[0m Trial 33 finished with value: 13990.18000000016 and parameters: {'tp': 1534.5, 'sl': 688.2, 'length_rsi': 6.0, 'rsi_low': 34.0, 'rsi_high': 57.0}. Best is trial 31 with value: 17475.77999999981.\u001b[0m\n"
     ]
    },
    {
     "name": "stdout",
     "output_type": "stream",
     "text": [
      "Trial 33 concluído: total_return = 13990.1800\n",
      "Trial 34 para hora 15: Testando estratégia com parâmetros {'length_rsi': 6.0, 'rsi_low': 33.0, 'rsi_high': 63.0}\n",
      "Trial 34 para hora 15: Usando backtester com TP=1667.20000, SL=658.30000\n",
      "Executando backtest para trial 34, hora 15...\n"
     ]
    },
    {
     "name": "stderr",
     "output_type": "stream",
     "text": [
      "\u001b[32m[I 2025-05-02 21:15:48,743]\u001b[0m Trial 34 finished with value: 14518.700000000143 and parameters: {'tp': 1667.2, 'sl': 658.3000000000001, 'length_rsi': 6.0, 'rsi_low': 33.0, 'rsi_high': 63.0}. Best is trial 31 with value: 17475.77999999981.\u001b[0m\n"
     ]
    },
    {
     "name": "stdout",
     "output_type": "stream",
     "text": [
      "Trial 34 concluído: total_return = 14518.7000\n",
      "Trial 35 para hora 15: Testando estratégia com parâmetros {'length_rsi': 7.0, 'rsi_low': 35.0, 'rsi_high': 65.0}\n",
      "Trial 35 para hora 15: Usando backtester com TP=1146.20000, SL=276.50000\n",
      "Executando backtest para trial 35, hora 15...\n"
     ]
    },
    {
     "name": "stderr",
     "output_type": "stream",
     "text": [
      "\u001b[32m[I 2025-05-02 21:15:49,389]\u001b[0m Trial 35 finished with value: 6014.959999999774 and parameters: {'tp': 1146.2, 'sl': 276.5, 'length_rsi': 7.0, 'rsi_low': 35.0, 'rsi_high': 65.0}. Best is trial 31 with value: 17475.77999999981.\u001b[0m\n"
     ]
    },
    {
     "name": "stdout",
     "output_type": "stream",
     "text": [
      "Trial 35 concluído: total_return = 6014.9600\n",
      "Trial 36 para hora 15: Testando estratégia com parâmetros {'length_rsi': 7.0, 'rsi_low': 38.0, 'rsi_high': 62.0}\n",
      "Trial 36 para hora 15: Usando backtester com TP=89.40000, SL=428.00000\n",
      "Executando backtest para trial 36, hora 15...\n"
     ]
    },
    {
     "name": "stderr",
     "output_type": "stream",
     "text": [
      "\u001b[32m[I 2025-05-02 21:15:50,030]\u001b[0m Trial 36 finished with value: -13552.840000001488 and parameters: {'tp': 89.4, 'sl': 428.0, 'length_rsi': 7.0, 'rsi_low': 38.0, 'rsi_high': 62.0}. Best is trial 31 with value: 17475.77999999981.\u001b[0m\n"
     ]
    },
    {
     "name": "stdout",
     "output_type": "stream",
     "text": [
      "Trial 36 concluído: total_return = -13552.8400\n",
      "Trial 37 para hora 15: Testando estratégia com parâmetros {'length_rsi': 9.0, 'rsi_low': 43.0, 'rsi_high': 70.0}\n",
      "Trial 37 para hora 15: Usando backtester com TP=559.10000, SL=538.50000\n",
      "Executando backtest para trial 37, hora 15...\n"
     ]
    },
    {
     "name": "stderr",
     "output_type": "stream",
     "text": [
      "\u001b[32m[I 2025-05-02 21:15:50,679]\u001b[0m Trial 37 finished with value: -1741.279999999857 and parameters: {'tp': 559.1, 'sl': 538.5, 'length_rsi': 9.0, 'rsi_low': 43.0, 'rsi_high': 70.0}. Best is trial 31 with value: 17475.77999999981.\u001b[0m\n"
     ]
    },
    {
     "name": "stdout",
     "output_type": "stream",
     "text": [
      "Trial 37 concluído: total_return = -1741.2800\n",
      "Trial 38 para hora 15: Testando estratégia com parâmetros {'length_rsi': 6.0, 'rsi_low': 41.0, 'rsi_high': 75.0}\n",
      "Trial 38 para hora 15: Usando backtester com TP=1066.60000, SL=1660.70000\n",
      "Executando backtest para trial 38, hora 15...\n"
     ]
    },
    {
     "name": "stderr",
     "output_type": "stream",
     "text": [
      "\u001b[32m[I 2025-05-02 21:15:51,340]\u001b[0m Trial 38 finished with value: -6332.8600000000515 and parameters: {'tp': 1066.6, 'sl': 1660.7, 'length_rsi': 6.0, 'rsi_low': 41.0, 'rsi_high': 75.0}. Best is trial 31 with value: 17475.77999999981.\u001b[0m\n"
     ]
    },
    {
     "name": "stdout",
     "output_type": "stream",
     "text": [
      "Trial 38 concluído: total_return = -6332.8600\n",
      "Trial 39 para hora 15: Testando estratégia com parâmetros {'length_rsi': 7.0, 'rsi_low': 33.0, 'rsi_high': 58.0}\n",
      "Trial 39 para hora 15: Usando backtester com TP=1259.40000, SL=210.50000\n",
      "Executando backtest para trial 39, hora 15...\n"
     ]
    },
    {
     "name": "stderr",
     "output_type": "stream",
     "text": [
      "\u001b[32m[I 2025-05-02 21:15:51,995]\u001b[0m Trial 39 finished with value: 3370.559999999612 and parameters: {'tp': 1259.4, 'sl': 210.5, 'length_rsi': 7.0, 'rsi_low': 33.0, 'rsi_high': 58.0}. Best is trial 31 with value: 17475.77999999981.\u001b[0m\n"
     ]
    },
    {
     "name": "stdout",
     "output_type": "stream",
     "text": [
      "Trial 39 concluído: total_return = 3370.5600\n",
      "Trial 40 para hora 15: Testando estratégia com parâmetros {'length_rsi': 6.0, 'rsi_low': 35.0, 'rsi_high': 67.0}\n",
      "Trial 40 para hora 15: Usando backtester com TP=1701.40000, SL=1035.40000\n",
      "Executando backtest para trial 40, hora 15...\n"
     ]
    },
    {
     "name": "stderr",
     "output_type": "stream",
     "text": [
      "\u001b[32m[I 2025-05-02 21:15:52,662]\u001b[0m Trial 40 finished with value: 4734.560000000027 and parameters: {'tp': 1701.4, 'sl': 1035.4, 'length_rsi': 6.0, 'rsi_low': 35.0, 'rsi_high': 67.0}. Best is trial 31 with value: 17475.77999999981.\u001b[0m\n"
     ]
    },
    {
     "name": "stdout",
     "output_type": "stream",
     "text": [
      "Trial 40 concluído: total_return = 4734.5600\n",
      "Trial 41 para hora 15: Testando estratégia com parâmetros {'length_rsi': 6.0, 'rsi_low': 32.0, 'rsi_high': 59.0}\n",
      "Trial 41 para hora 15: Usando backtester com TP=1566.60000, SL=872.40000\n",
      "Executando backtest para trial 41, hora 15...\n"
     ]
    },
    {
     "name": "stderr",
     "output_type": "stream",
     "text": [
      "\u001b[32m[I 2025-05-02 21:15:53,325]\u001b[0m Trial 41 finished with value: 16372.160000000164 and parameters: {'tp': 1566.6000000000001, 'sl': 872.4000000000001, 'length_rsi': 6.0, 'rsi_low': 32.0, 'rsi_high': 59.0}. Best is trial 31 with value: 17475.77999999981.\u001b[0m\n"
     ]
    },
    {
     "name": "stdout",
     "output_type": "stream",
     "text": [
      "Trial 41 concluído: total_return = 16372.1600\n",
      "Trial 42 para hora 15: Testando estratégia com parâmetros {'length_rsi': 6.0, 'rsi_low': 32.0, 'rsi_high': 61.0}\n",
      "Trial 42 para hora 15: Usando backtester com TP=1556.30000, SL=628.60000\n",
      "Executando backtest para trial 42, hora 15...\n"
     ]
    },
    {
     "name": "stderr",
     "output_type": "stream",
     "text": [
      "\u001b[32m[I 2025-05-02 21:15:53,981]\u001b[0m Trial 42 finished with value: 14216.580000000235 and parameters: {'tp': 1556.3000000000002, 'sl': 628.6, 'length_rsi': 6.0, 'rsi_low': 32.0, 'rsi_high': 61.0}. Best is trial 31 with value: 17475.77999999981.\u001b[0m\n"
     ]
    },
    {
     "name": "stdout",
     "output_type": "stream",
     "text": [
      "Trial 42 concluído: total_return = 14216.5800\n",
      "Trial 43 para hora 15: Testando estratégia com parâmetros {'length_rsi': 6.0, 'rsi_low': 29.0, 'rsi_high': 57.0}\n",
      "Trial 43 para hora 15: Usando backtester com TP=1707.80000, SL=815.10000\n",
      "Executando backtest para trial 43, hora 15...\n"
     ]
    },
    {
     "name": "stderr",
     "output_type": "stream",
     "text": [
      "\u001b[32m[I 2025-05-02 21:15:54,626]\u001b[0m Trial 43 finished with value: 15695.11999999982 and parameters: {'tp': 1707.8000000000002, 'sl': 815.1, 'length_rsi': 6.0, 'rsi_low': 29.0, 'rsi_high': 57.0}. Best is trial 31 with value: 17475.77999999981.\u001b[0m\n"
     ]
    },
    {
     "name": "stdout",
     "output_type": "stream",
     "text": [
      "Trial 43 concluído: total_return = 15695.1200\n",
      "Trial 44 para hora 15: Testando estratégia com parâmetros {'length_rsi': 6.0, 'rsi_low': 32.0, 'rsi_high': 64.0}\n",
      "Trial 44 para hora 15: Usando backtester com TP=1437.20000, SL=698.20000\n",
      "Executando backtest para trial 44, hora 15...\n"
     ]
    },
    {
     "name": "stderr",
     "output_type": "stream",
     "text": [
      "\u001b[32m[I 2025-05-02 21:15:55,272]\u001b[0m Trial 44 finished with value: 11173.440000000046 and parameters: {'tp': 1437.2, 'sl': 698.2, 'length_rsi': 6.0, 'rsi_low': 32.0, 'rsi_high': 64.0}. Best is trial 31 with value: 17475.77999999981.\u001b[0m\n",
      "\u001b[32m[I 2025-05-02 21:15:55,275]\u001b[0m A new study created in memory with name: hora_16\u001b[0m\n"
     ]
    },
    {
     "name": "stdout",
     "output_type": "stream",
     "text": [
      "Trial 44 concluído: total_return = 11173.4400\n",
      "Otimização concluída para hora 15.\n",
      "\n",
      "Melhores parâmetros para hora 15:\n",
      "total_return: 17475.7800\n",
      "Parâmetros: {'length_rsi': 6.0, 'rsi_low': 33.0, 'rsi_high': 58.0, 'allowed_hours': [15], 'tp': 1693.5, 'sl': 668.4}\n",
      "Profit Factor: 1.0791\n",
      "Win Rate: 48.91%\n",
      "Max Drawdown: 423.77%\n",
      "Total Return: $17475.78\n",
      "Total Trades: 3247\n",
      "\n",
      "==================================================\n",
      "Otimizando estratégia para hora: 16:00\n",
      "Métrica: total_return - Direção: maximize\n",
      "==================================================\n",
      "Iniciando otimização com 45 trials para hora 16...\n",
      "Trial 0 para hora 16: Testando estratégia com parâmetros {'length_rsi': 8.0, 'rsi_low': 33.0, 'rsi_high': 62.0}\n",
      "Trial 0 para hora 16: Usando backtester com TP=281.30000, SL=1771.10000\n",
      "Executando backtest para trial 0, hora 16...\n"
     ]
    },
    {
     "name": "stderr",
     "output_type": "stream",
     "text": [
      "\u001b[32m[I 2025-05-02 21:15:55,909]\u001b[0m Trial 0 finished with value: 2687.120000000101 and parameters: {'tp': 281.3, 'sl': 1771.1000000000001, 'length_rsi': 8.0, 'rsi_low': 33.0, 'rsi_high': 62.0}. Best is trial 0 with value: 2687.120000000101.\u001b[0m\n"
     ]
    },
    {
     "name": "stdout",
     "output_type": "stream",
     "text": [
      "Trial 0 concluído: total_return = 2687.1200\n",
      "Trial 1 para hora 16: Testando estratégia com parâmetros {'length_rsi': 9.0, 'rsi_low': 36.0, 'rsi_high': 65.0}\n",
      "Trial 1 para hora 16: Usando backtester com TP=936.00000, SL=1557.30000\n",
      "Executando backtest para trial 1, hora 16...\n"
     ]
    },
    {
     "name": "stderr",
     "output_type": "stream",
     "text": [
      "\u001b[32m[I 2025-05-02 21:15:56,546]\u001b[0m Trial 1 finished with value: 22821.620000000068 and parameters: {'tp': 936.0, 'sl': 1557.3000000000002, 'length_rsi': 9.0, 'rsi_low': 36.0, 'rsi_high': 65.0}. Best is trial 1 with value: 22821.620000000068.\u001b[0m\n"
     ]
    },
    {
     "name": "stdout",
     "output_type": "stream",
     "text": [
      "Trial 1 concluído: total_return = 22821.6200\n",
      "Trial 2 para hora 16: Testando estratégia com parâmetros {'length_rsi': 7.0, 'rsi_low': 31.0, 'rsi_high': 75.0}\n",
      "Trial 2 para hora 16: Usando backtester com TP=1044.40000, SL=1527.20000\n",
      "Executando backtest para trial 2, hora 16...\n"
     ]
    },
    {
     "name": "stderr",
     "output_type": "stream",
     "text": [
      "\u001b[32m[I 2025-05-02 21:15:57,185]\u001b[0m Trial 2 finished with value: 15417.399999999965 and parameters: {'tp': 1044.4, 'sl': 1527.2, 'length_rsi': 7.0, 'rsi_low': 31.0, 'rsi_high': 75.0}. Best is trial 1 with value: 22821.620000000068.\u001b[0m\n"
     ]
    },
    {
     "name": "stdout",
     "output_type": "stream",
     "text": [
      "Trial 2 concluído: total_return = 15417.4000\n",
      "Trial 3 para hora 16: Testando estratégia com parâmetros {'length_rsi': 6.0, 'rsi_low': 34.0, 'rsi_high': 82.0}\n",
      "Trial 3 para hora 16: Usando backtester com TP=656.60000, SL=480.10000\n",
      "Executando backtest para trial 3, hora 16...\n"
     ]
    },
    {
     "name": "stderr",
     "output_type": "stream",
     "text": [
      "\u001b[32m[I 2025-05-02 21:15:57,821]\u001b[0m Trial 3 finished with value: 15103.459999999737 and parameters: {'tp': 656.6, 'sl': 480.1, 'length_rsi': 6.0, 'rsi_low': 34.0, 'rsi_high': 82.0}. Best is trial 1 with value: 22821.620000000068.\u001b[0m\n"
     ]
    },
    {
     "name": "stdout",
     "output_type": "stream",
     "text": [
      "Trial 3 concluído: total_return = 15103.4600\n",
      "Trial 4 para hora 16: Testando estratégia com parâmetros {'length_rsi': 6.0, 'rsi_low': 27.0, 'rsi_high': 77.0}\n",
      "Trial 4 para hora 16: Usando backtester com TP=1651.50000, SL=1349.60000\n",
      "Executando backtest para trial 4, hora 16...\n"
     ]
    },
    {
     "name": "stderr",
     "output_type": "stream",
     "text": [
      "\u001b[32m[I 2025-05-02 21:15:58,453]\u001b[0m Trial 4 finished with value: 15177.419999999998 and parameters: {'tp': 1651.5, 'sl': 1349.6000000000001, 'length_rsi': 6.0, 'rsi_low': 27.0, 'rsi_high': 77.0}. Best is trial 1 with value: 22821.620000000068.\u001b[0m\n"
     ]
    },
    {
     "name": "stdout",
     "output_type": "stream",
     "text": [
      "Trial 4 concluído: total_return = 15177.4200\n",
      "Trial 5 para hora 16: Testando estratégia com parâmetros {'length_rsi': 6.0, 'rsi_low': 38.0, 'rsi_high': 82.0}\n",
      "Trial 5 para hora 16: Usando backtester com TP=457.00000, SL=1593.70000\n",
      "Executando backtest para trial 5, hora 16...\n"
     ]
    },
    {
     "name": "stderr",
     "output_type": "stream",
     "text": [
      "\u001b[32m[I 2025-05-02 21:15:59,080]\u001b[0m Trial 5 finished with value: 4009.780000000035 and parameters: {'tp': 457.0, 'sl': 1593.7, 'length_rsi': 6.0, 'rsi_low': 38.0, 'rsi_high': 82.0}. Best is trial 1 with value: 22821.620000000068.\u001b[0m\n"
     ]
    },
    {
     "name": "stdout",
     "output_type": "stream",
     "text": [
      "Trial 5 concluído: total_return = 4009.7800\n",
      "Trial 6 para hora 16: Testando estratégia com parâmetros {'length_rsi': 8.0, 'rsi_low': 42.0, 'rsi_high': 72.0}\n",
      "Trial 6 para hora 16: Usando backtester com TP=994.60000, SL=1172.30000\n",
      "Executando backtest para trial 6, hora 16...\n"
     ]
    },
    {
     "name": "stderr",
     "output_type": "stream",
     "text": [
      "\u001b[32m[I 2025-05-02 21:15:59,699]\u001b[0m Trial 6 finished with value: 18004.82 and parameters: {'tp': 994.6, 'sl': 1172.3, 'length_rsi': 8.0, 'rsi_low': 42.0, 'rsi_high': 72.0}. Best is trial 1 with value: 22821.620000000068.\u001b[0m\n"
     ]
    },
    {
     "name": "stdout",
     "output_type": "stream",
     "text": [
      "Trial 6 concluído: total_return = 18004.8200\n",
      "Trial 7 para hora 16: Testando estratégia com parâmetros {'length_rsi': 6.0, 'rsi_low': 41.0, 'rsi_high': 68.0}\n",
      "Trial 7 para hora 16: Usando backtester com TP=679.20000, SL=127.60000\n",
      "Executando backtest para trial 7, hora 16...\n"
     ]
    },
    {
     "name": "stderr",
     "output_type": "stream",
     "text": [
      "\u001b[32m[I 2025-05-02 21:16:00,329]\u001b[0m Trial 7 finished with value: 2084.679999999833 and parameters: {'tp': 679.2, 'sl': 127.6, 'length_rsi': 6.0, 'rsi_low': 41.0, 'rsi_high': 68.0}. Best is trial 1 with value: 22821.620000000068.\u001b[0m\n"
     ]
    },
    {
     "name": "stdout",
     "output_type": "stream",
     "text": [
      "Trial 7 concluído: total_return = 2084.6800\n",
      "Trial 8 para hora 16: Testando estratégia com parâmetros {'length_rsi': 8.0, 'rsi_low': 36.0, 'rsi_high': 56.0}\n",
      "Trial 8 para hora 16: Usando backtester com TP=1432.70000, SL=834.30000\n",
      "Executando backtest para trial 8, hora 16...\n"
     ]
    },
    {
     "name": "stderr",
     "output_type": "stream",
     "text": [
      "\u001b[32m[I 2025-05-02 21:16:00,969]\u001b[0m Trial 8 finished with value: 37958.33999999998 and parameters: {'tp': 1432.7, 'sl': 834.3000000000001, 'length_rsi': 8.0, 'rsi_low': 36.0, 'rsi_high': 56.0}. Best is trial 8 with value: 37958.33999999998.\u001b[0m\n"
     ]
    },
    {
     "name": "stdout",
     "output_type": "stream",
     "text": [
      "Trial 8 concluído: total_return = 37958.3400\n",
      "Trial 9 para hora 16: Testando estratégia com parâmetros {'length_rsi': 8.0, 'rsi_low': 32.0, 'rsi_high': 67.0}\n",
      "Trial 9 para hora 16: Usando backtester com TP=1276.60000, SL=651.80000\n",
      "Executando backtest para trial 9, hora 16...\n"
     ]
    },
    {
     "name": "stderr",
     "output_type": "stream",
     "text": [
      "\u001b[32m[I 2025-05-02 21:16:01,598]\u001b[0m Trial 9 finished with value: 25320.83999999994 and parameters: {'tp': 1276.6000000000001, 'sl': 651.8000000000001, 'length_rsi': 8.0, 'rsi_low': 32.0, 'rsi_high': 67.0}. Best is trial 8 with value: 37958.33999999998.\u001b[0m\n"
     ]
    },
    {
     "name": "stdout",
     "output_type": "stream",
     "text": [
      "Trial 9 concluído: total_return = 25320.8400\n",
      "Trial 10 para hora 16: Testando estratégia com parâmetros {'length_rsi': 9.0, 'rsi_low': 45.0, 'rsi_high': 56.0}\n",
      "Trial 10 para hora 16: Usando backtester com TP=1794.60000, SL=884.30000\n",
      "Executando backtest para trial 10, hora 16...\n"
     ]
    },
    {
     "name": "stderr",
     "output_type": "stream",
     "text": [
      "\u001b[32m[I 2025-05-02 21:16:02,230]\u001b[0m Trial 10 finished with value: 31035.379999999852 and parameters: {'tp': 1794.6000000000001, 'sl': 884.3000000000001, 'length_rsi': 9.0, 'rsi_low': 45.0, 'rsi_high': 56.0}. Best is trial 8 with value: 37958.33999999998.\u001b[0m\n"
     ]
    },
    {
     "name": "stdout",
     "output_type": "stream",
     "text": [
      "Trial 10 concluído: total_return = 31035.3800\n",
      "Trial 11 para hora 16: Testando estratégia com parâmetros {'length_rsi': 9.0, 'rsi_low': 45.0, 'rsi_high': 55.0}\n",
      "Trial 11 para hora 16: Usando backtester com TP=1797.20000, SL=889.20000\n",
      "Executando backtest para trial 11, hora 16...\n"
     ]
    },
    {
     "name": "stderr",
     "output_type": "stream",
     "text": [
      "\u001b[32m[I 2025-05-02 21:16:02,866]\u001b[0m Trial 11 finished with value: 32800.39999999998 and parameters: {'tp': 1797.2, 'sl': 889.2, 'length_rsi': 9.0, 'rsi_low': 45.0, 'rsi_high': 55.0}. Best is trial 8 with value: 37958.33999999998.\u001b[0m\n"
     ]
    },
    {
     "name": "stdout",
     "output_type": "stream",
     "text": [
      "Trial 11 concluído: total_return = 32800.4000\n",
      "Trial 12 para hora 16: Testando estratégia com parâmetros {'length_rsi': 9.0, 'rsi_low': 25.0, 'rsi_high': 55.0}\n",
      "Trial 12 para hora 16: Usando backtester com TP=1457.80000, SL=907.40000\n",
      "Executando backtest para trial 12, hora 16...\n"
     ]
    },
    {
     "name": "stderr",
     "output_type": "stream",
     "text": [
      "\u001b[32m[I 2025-05-02 21:16:03,503]\u001b[0m Trial 12 finished with value: 26119.32000000008 and parameters: {'tp': 1457.8000000000002, 'sl': 907.4000000000001, 'length_rsi': 9.0, 'rsi_low': 25.0, 'rsi_high': 55.0}. Best is trial 8 with value: 37958.33999999998.\u001b[0m\n"
     ]
    },
    {
     "name": "stdout",
     "output_type": "stream",
     "text": [
      "Trial 12 concluído: total_return = 26119.3200\n",
      "Trial 13 para hora 16: Testando estratégia com parâmetros {'length_rsi': 7.0, 'rsi_low': 45.0, 'rsi_high': 60.0}\n",
      "Trial 13 para hora 16: Usando backtester com TP=1457.70000, SL=606.20000\n",
      "Executando backtest para trial 13, hora 16...\n"
     ]
    },
    {
     "name": "stderr",
     "output_type": "stream",
     "text": [
      "\u001b[32m[I 2025-05-02 21:16:04,148]\u001b[0m Trial 13 finished with value: 34654.41999999985 and parameters: {'tp': 1457.7, 'sl': 606.2, 'length_rsi': 7.0, 'rsi_low': 45.0, 'rsi_high': 60.0}. Best is trial 8 with value: 37958.33999999998.\u001b[0m\n"
     ]
    },
    {
     "name": "stdout",
     "output_type": "stream",
     "text": [
      "Trial 13 concluído: total_return = 34654.4200\n",
      "Trial 14 para hora 16: Testando estratégia com parâmetros {'length_rsi': 7.0, 'rsi_low': 39.0, 'rsi_high': 61.0}\n",
      "Trial 14 para hora 16: Usando backtester com TP=1332.90000, SL=498.10000\n",
      "Executando backtest para trial 14, hora 16...\n"
     ]
    },
    {
     "name": "stderr",
     "output_type": "stream",
     "text": [
      "\u001b[32m[I 2025-05-02 21:16:04,778]\u001b[0m Trial 14 finished with value: 34488.73999999991 and parameters: {'tp': 1332.9, 'sl': 498.1, 'length_rsi': 7.0, 'rsi_low': 39.0, 'rsi_high': 61.0}. Best is trial 8 with value: 37958.33999999998.\u001b[0m\n"
     ]
    },
    {
     "name": "stdout",
     "output_type": "stream",
     "text": [
      "Trial 14 concluído: total_return = 34488.7400\n",
      "Trial 15 para hora 16: Testando estratégia com parâmetros {'length_rsi': 7.0, 'rsi_low': 30.0, 'rsi_high': 61.0}\n",
      "Trial 15 para hora 16: Usando backtester com TP=1499.80000, SL=159.30000\n",
      "Executando backtest para trial 15, hora 16...\n"
     ]
    },
    {
     "name": "stderr",
     "output_type": "stream",
     "text": [
      "\u001b[32m[I 2025-05-02 21:16:05,414]\u001b[0m Trial 15 finished with value: 12486.85999999939 and parameters: {'tp': 1499.8000000000002, 'sl': 159.3, 'length_rsi': 7.0, 'rsi_low': 30.0, 'rsi_high': 61.0}. Best is trial 8 with value: 37958.33999999998.\u001b[0m\n"
     ]
    },
    {
     "name": "stdout",
     "output_type": "stream",
     "text": [
      "Trial 15 concluído: total_return = 12486.8600\n",
      "Trial 16 para hora 16: Testando estratégia com parâmetros {'length_rsi': 7.0, 'rsi_low': 42.0, 'rsi_high': 59.0}\n",
      "Trial 16 para hora 16: Usando backtester com TP=1193.20000, SL=671.60000\n",
      "Executando backtest para trial 16, hora 16...\n"
     ]
    },
    {
     "name": "stderr",
     "output_type": "stream",
     "text": [
      "\u001b[32m[I 2025-05-02 21:16:06,047]\u001b[0m Trial 16 finished with value: 30718.96000000005 and parameters: {'tp': 1193.2, 'sl': 671.6, 'length_rsi': 7.0, 'rsi_low': 42.0, 'rsi_high': 59.0}. Best is trial 8 with value: 37958.33999999998.\u001b[0m\n"
     ]
    },
    {
     "name": "stdout",
     "output_type": "stream",
     "text": [
      "Trial 16 concluído: total_return = 30718.9600\n",
      "Trial 17 para hora 16: Testando estratégia com parâmetros {'length_rsi': 8.0, 'rsi_low': 37.0, 'rsi_high': 58.0}\n",
      "Trial 17 para hora 16: Usando backtester com TP=1544.00000, SL=1120.50000\n",
      "Executando backtest para trial 17, hora 16...\n"
     ]
    },
    {
     "name": "stderr",
     "output_type": "stream",
     "text": [
      "\u001b[32m[I 2025-05-02 21:16:06,678]\u001b[0m Trial 17 finished with value: 37172.20000000004 and parameters: {'tp': 1544.0, 'sl': 1120.5, 'length_rsi': 8.0, 'rsi_low': 37.0, 'rsi_high': 58.0}. Best is trial 8 with value: 37958.33999999998.\u001b[0m\n"
     ]
    },
    {
     "name": "stdout",
     "output_type": "stream",
     "text": [
      "Trial 17 concluído: total_return = 37172.2000\n",
      "Trial 18 para hora 16: Testando estratégia com parâmetros {'length_rsi': 8.0, 'rsi_low': 37.0, 'rsi_high': 64.0}\n",
      "Trial 18 para hora 16: Usando backtester com TP=1563.60000, SL=1150.50000\n",
      "Executando backtest para trial 18, hora 16...\n"
     ]
    },
    {
     "name": "stderr",
     "output_type": "stream",
     "text": [
      "\u001b[32m[I 2025-05-02 21:16:07,335]\u001b[0m Trial 18 finished with value: 33667.180000000044 and parameters: {'tp': 1563.6000000000001, 'sl': 1150.5, 'length_rsi': 8.0, 'rsi_low': 37.0, 'rsi_high': 64.0}. Best is trial 8 with value: 37958.33999999998.\u001b[0m\n"
     ]
    },
    {
     "name": "stdout",
     "output_type": "stream",
     "text": [
      "Trial 18 concluído: total_return = 33667.1800\n",
      "Trial 19 para hora 16: Testando estratégia com parâmetros {'length_rsi': 8.0, 'rsi_low': 29.0, 'rsi_high': 58.0}\n",
      "Trial 19 para hora 16: Usando backtester com TP=1159.40000, SL=1104.30000\n",
      "Executando backtest para trial 19, hora 16...\n"
     ]
    },
    {
     "name": "stderr",
     "output_type": "stream",
     "text": [
      "\u001b[32m[I 2025-05-02 21:16:07,972]\u001b[0m Trial 19 finished with value: 26657.720000000023 and parameters: {'tp': 1159.4, 'sl': 1104.3, 'length_rsi': 8.0, 'rsi_low': 29.0, 'rsi_high': 58.0}. Best is trial 8 with value: 37958.33999999998.\u001b[0m\n"
     ]
    },
    {
     "name": "stdout",
     "output_type": "stream",
     "text": [
      "Trial 19 concluído: total_return = 26657.7200\n",
      "Trial 20 para hora 16: Testando estratégia com parâmetros {'length_rsi': 8.0, 'rsi_low': 35.0, 'rsi_high': 71.0}\n",
      "Trial 20 para hora 16: Usando backtester com TP=885.10000, SL=1363.20000\n",
      "Executando backtest para trial 20, hora 16...\n"
     ]
    },
    {
     "name": "stderr",
     "output_type": "stream",
     "text": [
      "\u001b[32m[I 2025-05-02 21:16:08,612]\u001b[0m Trial 20 finished with value: 18427.260000000068 and parameters: {'tp': 885.1, 'sl': 1363.2, 'length_rsi': 8.0, 'rsi_low': 35.0, 'rsi_high': 71.0}. Best is trial 8 with value: 37958.33999999998.\u001b[0m\n"
     ]
    },
    {
     "name": "stdout",
     "output_type": "stream",
     "text": [
      "Trial 20 concluído: total_return = 18427.2600\n",
      "Trial 21 para hora 16: Testando estratégia com parâmetros {'length_rsi': 7.0, 'rsi_low': 40.0, 'rsi_high': 58.0}\n",
      "Trial 21 para hora 16: Usando backtester com TP=1384.20000, SL=702.20000\n",
      "Executando backtest para trial 21, hora 16...\n"
     ]
    },
    {
     "name": "stderr",
     "output_type": "stream",
     "text": [
      "\u001b[32m[I 2025-05-02 21:16:09,285]\u001b[0m Trial 21 finished with value: 35386.839999999975 and parameters: {'tp': 1384.2, 'sl': 702.2, 'length_rsi': 7.0, 'rsi_low': 40.0, 'rsi_high': 58.0}. Best is trial 8 with value: 37958.33999999998.\u001b[0m\n"
     ]
    },
    {
     "name": "stdout",
     "output_type": "stream",
     "text": [
      "Trial 21 concluído: total_return = 35386.8400\n",
      "Trial 22 para hora 16: Testando estratégia com parâmetros {'length_rsi': 8.0, 'rsi_low': 40.0, 'rsi_high': 58.0}\n",
      "Trial 22 para hora 16: Usando backtester com TP=1637.50000, SL=804.70000\n",
      "Executando backtest para trial 22, hora 16...\n"
     ]
    },
    {
     "name": "stderr",
     "output_type": "stream",
     "text": [
      "\u001b[32m[I 2025-05-02 21:16:09,957]\u001b[0m Trial 22 finished with value: 37617.74000000005 and parameters: {'tp': 1637.5, 'sl': 804.7, 'length_rsi': 8.0, 'rsi_low': 40.0, 'rsi_high': 58.0}. Best is trial 8 with value: 37958.33999999998.\u001b[0m\n"
     ]
    },
    {
     "name": "stdout",
     "output_type": "stream",
     "text": [
      "Trial 22 concluído: total_return = 37617.7400\n",
      "Trial 23 para hora 16: Testando estratégia com parâmetros {'length_rsi': 8.0, 'rsi_low': 37.0, 'rsi_high': 64.0}\n",
      "Trial 23 para hora 16: Usando backtester com TP=1660.20000, SL=1000.60000\n",
      "Executando backtest para trial 23, hora 16...\n"
     ]
    },
    {
     "name": "stderr",
     "output_type": "stream",
     "text": [
      "\u001b[32m[I 2025-05-02 21:16:10,585]\u001b[0m Trial 23 finished with value: 34279.12000000002 and parameters: {'tp': 1660.2, 'sl': 1000.6, 'length_rsi': 8.0, 'rsi_low': 37.0, 'rsi_high': 64.0}. Best is trial 8 with value: 37958.33999999998.\u001b[0m\n"
     ]
    },
    {
     "name": "stdout",
     "output_type": "stream",
     "text": [
      "Trial 23 concluído: total_return = 34279.1200\n",
      "Trial 24 para hora 16: Testando estratégia com parâmetros {'length_rsi': 8.0, 'rsi_low': 39.0, 'rsi_high': 57.0}\n",
      "Trial 24 para hora 16: Usando backtester com TP=1646.50000, SL=345.40000\n",
      "Executando backtest para trial 24, hora 16...\n"
     ]
    },
    {
     "name": "stderr",
     "output_type": "stream",
     "text": [
      "\u001b[32m[I 2025-05-02 21:16:11,223]\u001b[0m Trial 24 finished with value: 34574.39999999854 and parameters: {'tp': 1646.5, 'sl': 345.40000000000003, 'length_rsi': 8.0, 'rsi_low': 39.0, 'rsi_high': 57.0}. Best is trial 8 with value: 37958.33999999998.\u001b[0m\n"
     ]
    },
    {
     "name": "stdout",
     "output_type": "stream",
     "text": [
      "Trial 24 concluído: total_return = 34574.4000\n",
      "Trial 25 para hora 16: Testando estratégia com parâmetros {'length_rsi': 9.0, 'rsi_low': 35.0, 'rsi_high': 63.0}\n",
      "Trial 25 para hora 16: Usando backtester com TP=98.30000, SL=778.70000\n",
      "Executando backtest para trial 25, hora 16...\n"
     ]
    },
    {
     "name": "stderr",
     "output_type": "stream",
     "text": [
      "\u001b[32m[I 2025-05-02 21:16:11,849]\u001b[0m Trial 25 finished with value: -3483.0600000001323 and parameters: {'tp': 98.3, 'sl': 778.7, 'length_rsi': 9.0, 'rsi_low': 35.0, 'rsi_high': 63.0}. Best is trial 8 with value: 37958.33999999998.\u001b[0m\n"
     ]
    },
    {
     "name": "stdout",
     "output_type": "stream",
     "text": [
      "Trial 25 concluído: total_return = -3483.0600\n",
      "Trial 26 para hora 16: Testando estratégia com parâmetros {'length_rsi': 8.0, 'rsi_low': 42.0, 'rsi_high': 85.0}\n",
      "Trial 26 para hora 16: Usando backtester com TP=1212.90000, SL=1026.90000\n",
      "Executando backtest para trial 26, hora 16...\n"
     ]
    },
    {
     "name": "stderr",
     "output_type": "stream",
     "text": [
      "\u001b[32m[I 2025-05-02 21:16:12,479]\u001b[0m Trial 26 finished with value: 15551.099999999991 and parameters: {'tp': 1212.9, 'sl': 1026.9, 'length_rsi': 8.0, 'rsi_low': 42.0, 'rsi_high': 85.0}. Best is trial 8 with value: 37958.33999999998.\u001b[0m\n"
     ]
    },
    {
     "name": "stdout",
     "output_type": "stream",
     "text": [
      "Trial 26 concluído: total_return = 15551.1000\n",
      "Trial 27 para hora 16: Testando estratégia com parâmetros {'length_rsi': 8.0, 'rsi_low': 37.0, 'rsi_high': 67.0}\n",
      "Trial 27 para hora 16: Usando backtester com TP=1567.50000, SL=1306.00000\n",
      "Executando backtest para trial 27, hora 16...\n"
     ]
    },
    {
     "name": "stderr",
     "output_type": "stream",
     "text": [
      "\u001b[32m[I 2025-05-02 21:16:13,112]\u001b[0m Trial 27 finished with value: 29076.19999999999 and parameters: {'tp': 1567.5, 'sl': 1306.0, 'length_rsi': 8.0, 'rsi_low': 37.0, 'rsi_high': 67.0}. Best is trial 8 with value: 37958.33999999998.\u001b[0m\n"
     ]
    },
    {
     "name": "stdout",
     "output_type": "stream",
     "text": [
      "Trial 27 concluído: total_return = 29076.2000\n",
      "Trial 28 para hora 16: Testando estratégia com parâmetros {'length_rsi': 9.0, 'rsi_low': 40.0, 'rsi_high': 58.0}\n",
      "Trial 28 para hora 16: Usando backtester com TP=1705.60000, SL=809.00000\n",
      "Executando backtest para trial 28, hora 16...\n"
     ]
    },
    {
     "name": "stderr",
     "output_type": "stream",
     "text": [
      "\u001b[32m[I 2025-05-02 21:16:13,737]\u001b[0m Trial 28 finished with value: 36827.760000000126 and parameters: {'tp': 1705.6000000000001, 'sl': 809.0, 'length_rsi': 9.0, 'rsi_low': 40.0, 'rsi_high': 58.0}. Best is trial 8 with value: 37958.33999999998.\u001b[0m\n"
     ]
    },
    {
     "name": "stdout",
     "output_type": "stream",
     "text": [
      "Trial 28 concluído: total_return = 36827.7600\n",
      "Trial 29 para hora 16: Testando estratégia com parâmetros {'length_rsi': 8.0, 'rsi_low': 33.0, 'rsi_high': 62.0}\n",
      "Trial 29 para hora 16: Usando backtester com TP=1383.90000, SL=1787.70000\n",
      "Executando backtest para trial 29, hora 16...\n"
     ]
    },
    {
     "name": "stderr",
     "output_type": "stream",
     "text": [
      "\u001b[32m[I 2025-05-02 21:16:14,360]\u001b[0m Trial 29 finished with value: 28093.719999999972 and parameters: {'tp': 1383.9, 'sl': 1787.7, 'length_rsi': 8.0, 'rsi_low': 33.0, 'rsi_high': 62.0}. Best is trial 8 with value: 37958.33999999998.\u001b[0m\n"
     ]
    },
    {
     "name": "stdout",
     "output_type": "stream",
     "text": [
      "Trial 29 concluído: total_return = 28093.7200\n",
      "Trial 30 para hora 16: Testando estratégia com parâmetros {'length_rsi': 7.0, 'rsi_low': 43.0, 'rsi_high': 55.0}\n",
      "Trial 30 para hora 16: Usando backtester com TP=1102.70000, SL=1233.10000\n",
      "Executando backtest para trial 30, hora 16...\n"
     ]
    },
    {
     "name": "stderr",
     "output_type": "stream",
     "text": [
      "\u001b[32m[I 2025-05-02 21:16:14,990]\u001b[0m Trial 30 finished with value: 23229.44000000009 and parameters: {'tp': 1102.7, 'sl': 1233.1000000000001, 'length_rsi': 7.0, 'rsi_low': 43.0, 'rsi_high': 55.0}. Best is trial 8 with value: 37958.33999999998.\u001b[0m\n"
     ]
    },
    {
     "name": "stdout",
     "output_type": "stream",
     "text": [
      "Trial 30 concluído: total_return = 23229.4400\n",
      "Trial 31 para hora 16: Testando estratégia com parâmetros {'length_rsi': 9.0, 'rsi_low': 39.0, 'rsi_high': 60.0}\n",
      "Trial 31 para hora 16: Usando backtester com TP=1703.90000, SL=820.70000\n",
      "Executando backtest para trial 31, hora 16...\n"
     ]
    },
    {
     "name": "stderr",
     "output_type": "stream",
     "text": [
      "\u001b[32m[I 2025-05-02 21:16:15,622]\u001b[0m Trial 31 finished with value: 34296.14000000007 and parameters: {'tp': 1703.9, 'sl': 820.7, 'length_rsi': 9.0, 'rsi_low': 39.0, 'rsi_high': 60.0}. Best is trial 8 with value: 37958.33999999998.\u001b[0m\n"
     ]
    },
    {
     "name": "stdout",
     "output_type": "stream",
     "text": [
      "Trial 31 concluído: total_return = 34296.1400\n",
      "Trial 32 para hora 16: Testando estratégia com parâmetros {'length_rsi': 9.0, 'rsi_low': 40.0, 'rsi_high': 57.0}\n",
      "Trial 32 para hora 16: Usando backtester com TP=1547.60000, SL=1038.00000\n",
      "Executando backtest para trial 32, hora 16...\n"
     ]
    },
    {
     "name": "stderr",
     "output_type": "stream",
     "text": [
      "\u001b[32m[I 2025-05-02 21:16:16,255]\u001b[0m Trial 32 finished with value: 36809.32000000002 and parameters: {'tp': 1547.6000000000001, 'sl': 1038.0, 'length_rsi': 9.0, 'rsi_low': 40.0, 'rsi_high': 57.0}. Best is trial 8 with value: 37958.33999999998.\u001b[0m\n"
     ]
    },
    {
     "name": "stdout",
     "output_type": "stream",
     "text": [
      "Trial 32 concluído: total_return = 36809.3200\n",
      "Trial 33 para hora 16: Testando estratégia com parâmetros {'length_rsi': 9.0, 'rsi_low': 36.0, 'rsi_high': 59.0}\n",
      "Trial 33 para hora 16: Usando backtester com TP=1696.30000, SL=789.00000\n",
      "Executando backtest para trial 33, hora 16...\n"
     ]
    },
    {
     "name": "stderr",
     "output_type": "stream",
     "text": [
      "\u001b[32m[I 2025-05-02 21:16:16,895]\u001b[0m Trial 33 finished with value: 36261.26000000008 and parameters: {'tp': 1696.3000000000002, 'sl': 789.0, 'length_rsi': 9.0, 'rsi_low': 36.0, 'rsi_high': 59.0}. Best is trial 8 with value: 37958.33999999998.\u001b[0m\n"
     ]
    },
    {
     "name": "stdout",
     "output_type": "stream",
     "text": [
      "Trial 33 concluído: total_return = 36261.2600\n",
      "Trial 34 para hora 16: Testando estratégia com parâmetros {'length_rsi': 8.0, 'rsi_low': 34.0, 'rsi_high': 57.0}\n",
      "Trial 34 para hora 16: Usando backtester com TP=1776.70000, SL=522.50000\n",
      "Executando backtest para trial 34, hora 16...\n"
     ]
    },
    {
     "name": "stderr",
     "output_type": "stream",
     "text": [
      "\u001b[32m[I 2025-05-02 21:16:17,532]\u001b[0m Trial 34 finished with value: 33761.83999999998 and parameters: {'tp': 1776.7, 'sl': 522.5, 'length_rsi': 8.0, 'rsi_low': 34.0, 'rsi_high': 57.0}. Best is trial 8 with value: 37958.33999999998.\u001b[0m\n"
     ]
    },
    {
     "name": "stdout",
     "output_type": "stream",
     "text": [
      "Trial 34 concluído: total_return = 33761.8400\n",
      "Trial 35 para hora 16: Testando estratégia com parâmetros {'length_rsi': 9.0, 'rsi_low': 38.0, 'rsi_high': 62.0}\n",
      "Trial 35 para hora 16: Usando backtester com TP=1587.10000, SL=946.80000\n",
      "Executando backtest para trial 35, hora 16...\n"
     ]
    },
    {
     "name": "stderr",
     "output_type": "stream",
     "text": [
      "\u001b[32m[I 2025-05-02 21:16:18,175]\u001b[0m Trial 35 finished with value: 38324.15999999989 and parameters: {'tp': 1587.1000000000001, 'sl': 946.8000000000001, 'length_rsi': 9.0, 'rsi_low': 38.0, 'rsi_high': 62.0}. Best is trial 35 with value: 38324.15999999989.\u001b[0m\n"
     ]
    },
    {
     "name": "stdout",
     "output_type": "stream",
     "text": [
      "Trial 35 concluído: total_return = 38324.1600\n",
      "Trial 36 para hora 16: Testando estratégia com parâmetros {'length_rsi': 8.0, 'rsi_low': 36.0, 'rsi_high': 65.0}\n",
      "Trial 36 para hora 16: Usando backtester com TP=1284.00000, SL=1472.60000\n",
      "Executando backtest para trial 36, hora 16...\n"
     ]
    },
    {
     "name": "stderr",
     "output_type": "stream",
     "text": [
      "\u001b[32m[I 2025-05-02 21:16:18,796]\u001b[0m Trial 36 finished with value: 28263.83999999994 and parameters: {'tp': 1284.0, 'sl': 1472.6000000000001, 'length_rsi': 8.0, 'rsi_low': 36.0, 'rsi_high': 65.0}. Best is trial 35 with value: 38324.15999999989.\u001b[0m\n"
     ]
    },
    {
     "name": "stdout",
     "output_type": "stream",
     "text": [
      "Trial 36 concluído: total_return = 28263.8400\n",
      "Trial 37 para hora 16: Testando estratégia com parâmetros {'length_rsi': 9.0, 'rsi_low': 38.0, 'rsi_high': 74.0}\n",
      "Trial 37 para hora 16: Usando backtester com TP=1403.80000, SL=959.80000\n",
      "Executando backtest para trial 37, hora 16...\n"
     ]
    },
    {
     "name": "stderr",
     "output_type": "stream",
     "text": [
      "\u001b[32m[I 2025-05-02 21:16:19,451]\u001b[0m Trial 37 finished with value: 22732.680000000008 and parameters: {'tp': 1403.8000000000002, 'sl': 959.8000000000001, 'length_rsi': 9.0, 'rsi_low': 38.0, 'rsi_high': 74.0}. Best is trial 35 with value: 38324.15999999989.\u001b[0m\n"
     ]
    },
    {
     "name": "stdout",
     "output_type": "stream",
     "text": [
      "Trial 37 concluído: total_return = 22732.6800\n",
      "Trial 38 para hora 16: Testando estratégia com parâmetros {'length_rsi': 8.0, 'rsi_low': 34.0, 'rsi_high': 62.0}\n",
      "Trial 38 para hora 16: Usando backtester com TP=1600.40000, SL=352.90000\n",
      "Executando backtest para trial 38, hora 16...\n"
     ]
    },
    {
     "name": "stderr",
     "output_type": "stream",
     "text": [
      "\u001b[32m[I 2025-05-02 21:16:20,085]\u001b[0m Trial 38 finished with value: 28588.75999999915 and parameters: {'tp': 1600.4, 'sl': 352.90000000000003, 'length_rsi': 8.0, 'rsi_low': 34.0, 'rsi_high': 62.0}. Best is trial 35 with value: 38324.15999999989.\u001b[0m\n"
     ]
    },
    {
     "name": "stdout",
     "output_type": "stream",
     "text": [
      "Trial 38 concluído: total_return = 28588.7600\n",
      "Trial 39 para hora 16: Testando estratégia com parâmetros {'length_rsi': 8.0, 'rsi_low': 38.0, 'rsi_high': 66.0}\n",
      "Trial 39 para hora 16: Usando backtester com TP=630.30000, SL=1075.90000\n",
      "Executando backtest para trial 39, hora 16...\n"
     ]
    },
    {
     "name": "stderr",
     "output_type": "stream",
     "text": [
      "\u001b[32m[I 2025-05-02 21:16:20,719]\u001b[0m Trial 39 finished with value: 18992.78000000005 and parameters: {'tp': 630.3000000000001, 'sl': 1075.9, 'length_rsi': 8.0, 'rsi_low': 38.0, 'rsi_high': 66.0}. Best is trial 35 with value: 38324.15999999989.\u001b[0m\n"
     ]
    },
    {
     "name": "stdout",
     "output_type": "stream",
     "text": [
      "Trial 39 concluído: total_return = 18992.7800\n",
      "Trial 40 para hora 16: Testando estratégia com parâmetros {'length_rsi': 9.0, 'rsi_low': 43.0, 'rsi_high': 60.0}\n",
      "Trial 40 para hora 16: Usando backtester com TP=887.70000, SL=1217.10000\n",
      "Executando backtest para trial 40, hora 16...\n"
     ]
    },
    {
     "name": "stderr",
     "output_type": "stream",
     "text": [
      "\u001b[32m[I 2025-05-02 21:16:21,354]\u001b[0m Trial 40 finished with value: 22969.280000000137 and parameters: {'tp': 887.7, 'sl': 1217.1000000000001, 'length_rsi': 9.0, 'rsi_low': 43.0, 'rsi_high': 60.0}. Best is trial 35 with value: 38324.15999999989.\u001b[0m\n"
     ]
    },
    {
     "name": "stdout",
     "output_type": "stream",
     "text": [
      "Trial 40 concluído: total_return = 22969.2800\n",
      "Trial 41 para hora 16: Testando estratégia com parâmetros {'length_rsi': 9.0, 'rsi_low': 40.0, 'rsi_high': 58.0}\n",
      "Trial 41 para hora 16: Usando backtester com TP=1504.80000, SL=804.90000\n",
      "Executando backtest para trial 41, hora 16...\n"
     ]
    },
    {
     "name": "stderr",
     "output_type": "stream",
     "text": [
      "\u001b[32m[I 2025-05-02 21:16:22,002]\u001b[0m Trial 41 finished with value: 38174.05999999997 and parameters: {'tp': 1504.8000000000002, 'sl': 804.9000000000001, 'length_rsi': 9.0, 'rsi_low': 40.0, 'rsi_high': 58.0}. Best is trial 35 with value: 38324.15999999989.\u001b[0m\n"
     ]
    },
    {
     "name": "stdout",
     "output_type": "stream",
     "text": [
      "Trial 41 concluído: total_return = 38174.0600\n",
      "Trial 42 para hora 16: Testando estratégia com parâmetros {'length_rsi': 9.0, 'rsi_low': 37.0, 'rsi_high': 57.0}\n",
      "Trial 42 para hora 16: Usando backtester com TP=1473.30000, SL=591.80000\n",
      "Executando backtest para trial 42, hora 16...\n"
     ]
    },
    {
     "name": "stderr",
     "output_type": "stream",
     "text": [
      "\u001b[32m[I 2025-05-02 21:16:22,646]\u001b[0m Trial 42 finished with value: 39447.79999999984 and parameters: {'tp': 1473.3000000000002, 'sl': 591.8, 'length_rsi': 9.0, 'rsi_low': 37.0, 'rsi_high': 57.0}. Best is trial 42 with value: 39447.79999999984.\u001b[0m\n"
     ]
    },
    {
     "name": "stdout",
     "output_type": "stream",
     "text": [
      "Trial 42 concluído: total_return = 39447.8000\n",
      "Trial 43 para hora 16: Testando estratégia com parâmetros {'length_rsi': 9.0, 'rsi_low': 41.0, 'rsi_high': 56.0}\n",
      "Trial 43 para hora 16: Usando backtester com TP=1451.90000, SL=585.10000\n",
      "Executando backtest para trial 43, hora 16...\n"
     ]
    },
    {
     "name": "stderr",
     "output_type": "stream",
     "text": [
      "\u001b[32m[I 2025-05-02 21:16:23,313]\u001b[0m Trial 43 finished with value: 35701.8199999998 and parameters: {'tp': 1451.9, 'sl': 585.1, 'length_rsi': 9.0, 'rsi_low': 41.0, 'rsi_high': 56.0}. Best is trial 42 with value: 39447.79999999984.\u001b[0m\n"
     ]
    },
    {
     "name": "stdout",
     "output_type": "stream",
     "text": [
      "Trial 43 concluído: total_return = 35701.8200\n",
      "Trial 44 para hora 16: Testando estratégia com parâmetros {'length_rsi': 9.0, 'rsi_low': 41.0, 'rsi_high': 55.0}\n",
      "Trial 44 para hora 16: Usando backtester com TP=1306.60000, SL=382.40000\n",
      "Executando backtest para trial 44, hora 16...\n"
     ]
    },
    {
     "name": "stderr",
     "output_type": "stream",
     "text": [
      "\u001b[32m[I 2025-05-02 21:16:23,985]\u001b[0m Trial 44 finished with value: 33908.16000000018 and parameters: {'tp': 1306.6000000000001, 'sl': 382.40000000000003, 'length_rsi': 9.0, 'rsi_low': 41.0, 'rsi_high': 55.0}. Best is trial 42 with value: 39447.79999999984.\u001b[0m\n",
      "\u001b[32m[I 2025-05-02 21:16:23,988]\u001b[0m A new study created in memory with name: hora_17\u001b[0m\n"
     ]
    },
    {
     "name": "stdout",
     "output_type": "stream",
     "text": [
      "Trial 44 concluído: total_return = 33908.1600\n",
      "Otimização concluída para hora 16.\n",
      "\n",
      "Melhores parâmetros para hora 16:\n",
      "total_return: 39447.8000\n",
      "Parâmetros: {'length_rsi': 9.0, 'rsi_low': 37.0, 'rsi_high': 57.0, 'allowed_hours': [16], 'tp': 1473.3000000000002, 'sl': 591.8}\n",
      "Profit Factor: 1.2596\n",
      "Win Rate: 51.42%\n",
      "Max Drawdown: 172.02%\n",
      "Total Return: $39447.80\n",
      "Total Trades: 3018\n",
      "\n",
      "==================================================\n",
      "Otimizando estratégia para hora: 17:00\n",
      "Métrica: total_return - Direção: maximize\n",
      "==================================================\n",
      "Iniciando otimização com 45 trials para hora 17...\n",
      "Trial 0 para hora 17: Testando estratégia com parâmetros {'length_rsi': 8.0, 'rsi_low': 32.0, 'rsi_high': 65.0}\n",
      "Trial 0 para hora 17: Usando backtester com TP=913.30000, SL=263.30000\n",
      "Executando backtest para trial 0, hora 17...\n"
     ]
    },
    {
     "name": "stderr",
     "output_type": "stream",
     "text": [
      "\u001b[32m[I 2025-05-02 21:16:24,650]\u001b[0m Trial 0 finished with value: 16344.080000000089 and parameters: {'tp': 913.3000000000001, 'sl': 263.3, 'length_rsi': 8.0, 'rsi_low': 32.0, 'rsi_high': 65.0}. Best is trial 0 with value: 16344.080000000089.\u001b[0m\n"
     ]
    },
    {
     "name": "stdout",
     "output_type": "stream",
     "text": [
      "Trial 0 concluído: total_return = 16344.0800\n",
      "Trial 1 para hora 17: Testando estratégia com parâmetros {'length_rsi': 6.0, 'rsi_low': 40.0, 'rsi_high': 65.0}\n",
      "Trial 1 para hora 17: Usando backtester com TP=273.50000, SL=800.10000\n",
      "Executando backtest para trial 1, hora 17...\n"
     ]
    },
    {
     "name": "stderr",
     "output_type": "stream",
     "text": [
      "\u001b[32m[I 2025-05-02 21:16:25,315]\u001b[0m Trial 1 finished with value: -8522.800000000065 and parameters: {'tp': 273.5, 'sl': 800.1, 'length_rsi': 6.0, 'rsi_low': 40.0, 'rsi_high': 65.0}. Best is trial 0 with value: 16344.080000000089.\u001b[0m\n"
     ]
    },
    {
     "name": "stdout",
     "output_type": "stream",
     "text": [
      "Trial 1 concluído: total_return = -8522.8000\n",
      "Trial 2 para hora 17: Testando estratégia com parâmetros {'length_rsi': 8.0, 'rsi_low': 26.0, 'rsi_high': 74.0}\n",
      "Trial 2 para hora 17: Usando backtester com TP=1276.00000, SL=771.70000\n",
      "Executando backtest para trial 2, hora 17...\n"
     ]
    },
    {
     "name": "stderr",
     "output_type": "stream",
     "text": [
      "\u001b[32m[I 2025-05-02 21:16:25,968]\u001b[0m Trial 2 finished with value: 8200.57999999998 and parameters: {'tp': 1276.0, 'sl': 771.7, 'length_rsi': 8.0, 'rsi_low': 26.0, 'rsi_high': 74.0}. Best is trial 0 with value: 16344.080000000089.\u001b[0m\n"
     ]
    },
    {
     "name": "stdout",
     "output_type": "stream",
     "text": [
      "Trial 2 concluído: total_return = 8200.5800\n",
      "Trial 3 para hora 17: Testando estratégia com parâmetros {'length_rsi': 7.0, 'rsi_low': 37.0, 'rsi_high': 82.0}\n",
      "Trial 3 para hora 17: Usando backtester com TP=1067.50000, SL=139.90000\n",
      "Executando backtest para trial 3, hora 17...\n"
     ]
    },
    {
     "name": "stderr",
     "output_type": "stream",
     "text": [
      "\u001b[32m[I 2025-05-02 21:16:26,606]\u001b[0m Trial 3 finished with value: 5898.760000000366 and parameters: {'tp': 1067.5, 'sl': 139.9, 'length_rsi': 7.0, 'rsi_low': 37.0, 'rsi_high': 82.0}. Best is trial 0 with value: 16344.080000000089.\u001b[0m\n"
     ]
    },
    {
     "name": "stdout",
     "output_type": "stream",
     "text": [
      "Trial 3 concluído: total_return = 5898.7600\n",
      "Trial 4 para hora 17: Testando estratégia com parâmetros {'length_rsi': 8.0, 'rsi_low': 45.0, 'rsi_high': 66.0}\n",
      "Trial 4 para hora 17: Usando backtester com TP=1265.20000, SL=629.40000\n",
      "Executando backtest para trial 4, hora 17...\n"
     ]
    },
    {
     "name": "stderr",
     "output_type": "stream",
     "text": [
      "\u001b[32m[I 2025-05-02 21:16:27,240]\u001b[0m Trial 4 finished with value: 13994.800000000236 and parameters: {'tp': 1265.2, 'sl': 629.4, 'length_rsi': 8.0, 'rsi_low': 45.0, 'rsi_high': 66.0}. Best is trial 0 with value: 16344.080000000089.\u001b[0m\n"
     ]
    },
    {
     "name": "stdout",
     "output_type": "stream",
     "text": [
      "Trial 4 concluído: total_return = 13994.8000\n",
      "Trial 5 para hora 17: Testando estratégia com parâmetros {'length_rsi': 6.0, 'rsi_low': 29.0, 'rsi_high': 74.0}\n",
      "Trial 5 para hora 17: Usando backtester com TP=492.40000, SL=406.70000\n",
      "Executando backtest para trial 5, hora 17...\n"
     ]
    },
    {
     "name": "stderr",
     "output_type": "stream",
     "text": [
      "\u001b[32m[I 2025-05-02 21:16:27,868]\u001b[0m Trial 5 finished with value: 8131.519999999866 and parameters: {'tp': 492.40000000000003, 'sl': 406.70000000000005, 'length_rsi': 6.0, 'rsi_low': 29.0, 'rsi_high': 74.0}. Best is trial 0 with value: 16344.080000000089.\u001b[0m\n"
     ]
    },
    {
     "name": "stdout",
     "output_type": "stream",
     "text": [
      "Trial 5 concluído: total_return = 8131.5200\n",
      "Trial 6 para hora 17: Testando estratégia com parâmetros {'length_rsi': 9.0, 'rsi_low': 32.0, 'rsi_high': 80.0}\n",
      "Trial 6 para hora 17: Usando backtester com TP=765.70000, SL=1024.40000\n",
      "Executando backtest para trial 6, hora 17...\n"
     ]
    },
    {
     "name": "stderr",
     "output_type": "stream",
     "text": [
      "\u001b[32m[I 2025-05-02 21:16:28,496]\u001b[0m Trial 6 finished with value: 4780.799999999996 and parameters: {'tp': 765.7, 'sl': 1024.4, 'length_rsi': 9.0, 'rsi_low': 32.0, 'rsi_high': 80.0}. Best is trial 0 with value: 16344.080000000089.\u001b[0m\n"
     ]
    },
    {
     "name": "stdout",
     "output_type": "stream",
     "text": [
      "Trial 6 concluído: total_return = 4780.8000\n",
      "Trial 7 para hora 17: Testando estratégia com parâmetros {'length_rsi': 6.0, 'rsi_low': 45.0, 'rsi_high': 82.0}\n",
      "Trial 7 para hora 17: Usando backtester com TP=1643.80000, SL=1066.60000\n",
      "Executando backtest para trial 7, hora 17...\n"
     ]
    },
    {
     "name": "stderr",
     "output_type": "stream",
     "text": [
      "\u001b[32m[I 2025-05-02 21:16:29,119]\u001b[0m Trial 7 finished with value: 3819.04000000003 and parameters: {'tp': 1643.8000000000002, 'sl': 1066.6, 'length_rsi': 6.0, 'rsi_low': 45.0, 'rsi_high': 82.0}. Best is trial 0 with value: 16344.080000000089.\u001b[0m\n"
     ]
    },
    {
     "name": "stdout",
     "output_type": "stream",
     "text": [
      "Trial 7 concluído: total_return = 3819.0400\n",
      "Trial 8 para hora 17: Testando estratégia com parâmetros {'length_rsi': 8.0, 'rsi_low': 44.0, 'rsi_high': 73.0}\n",
      "Trial 8 para hora 17: Usando backtester com TP=329.30000, SL=402.50000\n",
      "Executando backtest para trial 8, hora 17...\n"
     ]
    },
    {
     "name": "stderr",
     "output_type": "stream",
     "text": [
      "\u001b[32m[I 2025-05-02 21:16:29,738]\u001b[0m Trial 8 finished with value: 887.9799999999923 and parameters: {'tp': 329.3, 'sl': 402.5, 'length_rsi': 8.0, 'rsi_low': 44.0, 'rsi_high': 73.0}. Best is trial 0 with value: 16344.080000000089.\u001b[0m\n"
     ]
    },
    {
     "name": "stdout",
     "output_type": "stream",
     "text": [
      "Trial 8 concluído: total_return = 887.9800\n",
      "Trial 9 para hora 17: Testando estratégia com parâmetros {'length_rsi': 7.0, 'rsi_low': 44.0, 'rsi_high': 57.0}\n",
      "Trial 9 para hora 17: Usando backtester com TP=1770.60000, SL=1770.20000\n",
      "Executando backtest para trial 9, hora 17...\n"
     ]
    },
    {
     "name": "stderr",
     "output_type": "stream",
     "text": [
      "\u001b[32m[I 2025-05-02 21:16:30,366]\u001b[0m Trial 9 finished with value: 13372.319999999978 and parameters: {'tp': 1770.6000000000001, 'sl': 1770.2, 'length_rsi': 7.0, 'rsi_low': 44.0, 'rsi_high': 57.0}. Best is trial 0 with value: 16344.080000000089.\u001b[0m\n"
     ]
    },
    {
     "name": "stdout",
     "output_type": "stream",
     "text": [
      "Trial 9 concluído: total_return = 13372.3200\n",
      "Trial 10 para hora 17: Testando estratégia com parâmetros {'length_rsi': 9.0, 'rsi_low': 34.0, 'rsi_high': 56.0}\n",
      "Trial 10 para hora 17: Usando backtester com TP=730.40000, SL=1346.60000\n",
      "Executando backtest para trial 10, hora 17...\n"
     ]
    },
    {
     "name": "stderr",
     "output_type": "stream",
     "text": [
      "\u001b[32m[I 2025-05-02 21:16:30,996]\u001b[0m Trial 10 finished with value: 12048.919999999998 and parameters: {'tp': 730.4000000000001, 'sl': 1346.6000000000001, 'length_rsi': 9.0, 'rsi_low': 34.0, 'rsi_high': 56.0}. Best is trial 0 with value: 16344.080000000089.\u001b[0m\n"
     ]
    },
    {
     "name": "stdout",
     "output_type": "stream",
     "text": [
      "Trial 10 concluído: total_return = 12048.9200\n",
      "Trial 11 para hora 17: Testando estratégia com parâmetros {'length_rsi': 8.0, 'rsi_low': 38.0, 'rsi_high': 65.0}\n",
      "Trial 11 para hora 17: Usando backtester com TP=1309.60000, SL=465.70000\n",
      "Executando backtest para trial 11, hora 17...\n"
     ]
    },
    {
     "name": "stderr",
     "output_type": "stream",
     "text": [
      "\u001b[32m[I 2025-05-02 21:16:31,632]\u001b[0m Trial 11 finished with value: 15978.620000000155 and parameters: {'tp': 1309.6000000000001, 'sl': 465.70000000000005, 'length_rsi': 8.0, 'rsi_low': 38.0, 'rsi_high': 65.0}. Best is trial 0 with value: 16344.080000000089.\u001b[0m\n"
     ]
    },
    {
     "name": "stdout",
     "output_type": "stream",
     "text": [
      "Trial 11 concluído: total_return = 15978.6200\n",
      "Trial 12 para hora 17: Testando estratégia com parâmetros {'length_rsi': 8.0, 'rsi_low': 38.0, 'rsi_high': 63.0}\n",
      "Trial 12 para hora 17: Usando backtester com TP=1334.20000, SL=131.50000\n",
      "Executando backtest para trial 12, hora 17...\n"
     ]
    },
    {
     "name": "stderr",
     "output_type": "stream",
     "text": [
      "\u001b[32m[I 2025-05-02 21:16:32,257]\u001b[0m Trial 12 finished with value: 19114.26000000126 and parameters: {'tp': 1334.2, 'sl': 131.5, 'length_rsi': 8.0, 'rsi_low': 38.0, 'rsi_high': 63.0}. Best is trial 12 with value: 19114.26000000126.\u001b[0m\n"
     ]
    },
    {
     "name": "stdout",
     "output_type": "stream",
     "text": [
      "Trial 12 concluído: total_return = 19114.2600\n",
      "Trial 13 para hora 17: Testando estratégia com parâmetros {'length_rsi': 9.0, 'rsi_low': 32.0, 'rsi_high': 61.0}\n",
      "Trial 13 para hora 17: Usando backtester com TP=992.50000, SL=122.00000\n",
      "Executando backtest para trial 13, hora 17...\n"
     ]
    },
    {
     "name": "stderr",
     "output_type": "stream",
     "text": [
      "\u001b[32m[I 2025-05-02 21:16:32,899]\u001b[0m Trial 13 finished with value: 16126.500000000502 and parameters: {'tp': 992.5, 'sl': 122.0, 'length_rsi': 9.0, 'rsi_low': 32.0, 'rsi_high': 61.0}. Best is trial 12 with value: 19114.26000000126.\u001b[0m\n"
     ]
    },
    {
     "name": "stdout",
     "output_type": "stream",
     "text": [
      "Trial 13 concluído: total_return = 16126.5000\n",
      "Trial 14 para hora 17: Testando estratégia com parâmetros {'length_rsi': 7.0, 'rsi_low': 40.0, 'rsi_high': 69.0}\n",
      "Trial 14 para hora 17: Usando backtester com TP=1480.50000, SL=80.60000\n",
      "Executando backtest para trial 14, hora 17...\n"
     ]
    },
    {
     "name": "stderr",
     "output_type": "stream",
     "text": [
      "\u001b[32m[I 2025-05-02 21:16:33,564]\u001b[0m Trial 14 finished with value: 15188.659999999203 and parameters: {'tp': 1480.5, 'sl': 80.6, 'length_rsi': 7.0, 'rsi_low': 40.0, 'rsi_high': 69.0}. Best is trial 12 with value: 19114.26000000126.\u001b[0m\n"
     ]
    },
    {
     "name": "stdout",
     "output_type": "stream",
     "text": [
      "Trial 14 concluído: total_return = 15188.6600\n",
      "Trial 15 para hora 17: Testando estratégia com parâmetros {'length_rsi': 8.0, 'rsi_low': 29.0, 'rsi_high': 60.0}\n",
      "Trial 15 para hora 17: Usando backtester com TP=772.60000, SL=323.00000\n",
      "Executando backtest para trial 15, hora 17...\n"
     ]
    },
    {
     "name": "stderr",
     "output_type": "stream",
     "text": [
      "\u001b[32m[I 2025-05-02 21:16:34,224]\u001b[0m Trial 15 finished with value: 18268.079999999973 and parameters: {'tp': 772.6, 'sl': 323.0, 'length_rsi': 8.0, 'rsi_low': 29.0, 'rsi_high': 60.0}. Best is trial 12 with value: 19114.26000000126.\u001b[0m\n"
     ]
    },
    {
     "name": "stdout",
     "output_type": "stream",
     "text": [
      "Trial 15 concluído: total_return = 18268.0800\n",
      "Trial 16 para hora 17: Testando estratégia com parâmetros {'length_rsi': 7.0, 'rsi_low': 25.0, 'rsi_high': 58.0}\n",
      "Trial 16 para hora 17: Usando backtester com TP=520.40000, SL=604.90000\n",
      "Executando backtest para trial 16, hora 17...\n"
     ]
    },
    {
     "name": "stderr",
     "output_type": "stream",
     "text": [
      "\u001b[32m[I 2025-05-02 21:16:34,856]\u001b[0m Trial 16 finished with value: 11849.800000000061 and parameters: {'tp': 520.4000000000001, 'sl': 604.9, 'length_rsi': 7.0, 'rsi_low': 25.0, 'rsi_high': 58.0}. Best is trial 12 with value: 19114.26000000126.\u001b[0m\n"
     ]
    },
    {
     "name": "stdout",
     "output_type": "stream",
     "text": [
      "Trial 16 concluído: total_return = 11849.8000\n",
      "Trial 17 para hora 17: Testando estratégia com parâmetros {'length_rsi': 9.0, 'rsi_low': 28.0, 'rsi_high': 61.0}\n",
      "Trial 17 para hora 17: Usando backtester com TP=1133.80000, SL=1367.70000\n",
      "Executando backtest para trial 17, hora 17...\n"
     ]
    },
    {
     "name": "stderr",
     "output_type": "stream",
     "text": [
      "\u001b[32m[I 2025-05-02 21:16:35,510]\u001b[0m Trial 17 finished with value: 13392.73999999999 and parameters: {'tp': 1133.8, 'sl': 1367.7, 'length_rsi': 9.0, 'rsi_low': 28.0, 'rsi_high': 61.0}. Best is trial 12 with value: 19114.26000000126.\u001b[0m\n"
     ]
    },
    {
     "name": "stdout",
     "output_type": "stream",
     "text": [
      "Trial 17 concluído: total_return = 13392.7400\n",
      "Trial 18 para hora 17: Testando estratégia com parâmetros {'length_rsi': 8.0, 'rsi_low': 35.0, 'rsi_high': 61.0}\n",
      "Trial 18 para hora 17: Usando backtester com TP=97.20000, SL=299.80000\n",
      "Executando backtest para trial 18, hora 17...\n"
     ]
    },
    {
     "name": "stderr",
     "output_type": "stream",
     "text": [
      "\u001b[32m[I 2025-05-02 21:16:36,160]\u001b[0m Trial 18 finished with value: -13382.359999999077 and parameters: {'tp': 97.2, 'sl': 299.8, 'length_rsi': 8.0, 'rsi_low': 35.0, 'rsi_high': 61.0}. Best is trial 12 with value: 19114.26000000126.\u001b[0m\n"
     ]
    },
    {
     "name": "stdout",
     "output_type": "stream",
     "text": [
      "Trial 18 concluído: total_return = -13382.3600\n",
      "Trial 19 para hora 17: Testando estratégia com parâmetros {'length_rsi': 7.0, 'rsi_low': 41.0, 'rsi_high': 69.0}\n",
      "Trial 19 para hora 17: Usando backtester com TP=784.80000, SL=603.10000\n",
      "Executando backtest para trial 19, hora 17...\n"
     ]
    },
    {
     "name": "stderr",
     "output_type": "stream",
     "text": [
      "\u001b[32m[I 2025-05-02 21:16:36,794]\u001b[0m Trial 19 finished with value: 9478.720000000016 and parameters: {'tp': 784.8000000000001, 'sl': 603.1, 'length_rsi': 7.0, 'rsi_low': 41.0, 'rsi_high': 69.0}. Best is trial 12 with value: 19114.26000000126.\u001b[0m\n"
     ]
    },
    {
     "name": "stdout",
     "output_type": "stream",
     "text": [
      "Trial 19 concluído: total_return = 9478.7200\n",
      "Trial 20 para hora 17: Testando estratégia com parâmetros {'length_rsi': 9.0, 'rsi_low': 30.0, 'rsi_high': 55.0}\n",
      "Trial 20 para hora 17: Usando backtester com TP=1512.50000, SL=1182.00000\n",
      "Executando backtest para trial 20, hora 17...\n"
     ]
    },
    {
     "name": "stderr",
     "output_type": "stream",
     "text": [
      "\u001b[32m[I 2025-05-02 21:16:37,452]\u001b[0m Trial 20 finished with value: 20452.00000000003 and parameters: {'tp': 1512.5, 'sl': 1182.0, 'length_rsi': 9.0, 'rsi_low': 30.0, 'rsi_high': 55.0}. Best is trial 20 with value: 20452.00000000003.\u001b[0m\n"
     ]
    },
    {
     "name": "stdout",
     "output_type": "stream",
     "text": [
      "Trial 20 concluído: total_return = 20452.0000\n",
      "Trial 21 para hora 17: Testando estratégia com parâmetros {'length_rsi': 9.0, 'rsi_low': 30.0, 'rsi_high': 55.0}\n",
      "Trial 21 para hora 17: Usando backtester com TP=1478.60000, SL=1300.00000\n",
      "Executando backtest para trial 21, hora 17...\n"
     ]
    },
    {
     "name": "stderr",
     "output_type": "stream",
     "text": [
      "\u001b[32m[I 2025-05-02 21:16:38,101]\u001b[0m Trial 21 finished with value: 20403.999999999978 and parameters: {'tp': 1478.6000000000001, 'sl': 1300.0, 'length_rsi': 9.0, 'rsi_low': 30.0, 'rsi_high': 55.0}. Best is trial 20 with value: 20452.00000000003.\u001b[0m\n"
     ]
    },
    {
     "name": "stdout",
     "output_type": "stream",
     "text": [
      "Trial 21 concluído: total_return = 20404.0000\n",
      "Trial 22 para hora 17: Testando estratégia com parâmetros {'length_rsi': 9.0, 'rsi_low': 31.0, 'rsi_high': 55.0}\n",
      "Trial 22 para hora 17: Usando backtester com TP=1492.70000, SL=1281.80000\n",
      "Executando backtest para trial 22, hora 17...\n"
     ]
    },
    {
     "name": "stderr",
     "output_type": "stream",
     "text": [
      "\u001b[32m[I 2025-05-02 21:16:38,741]\u001b[0m Trial 22 finished with value: 20873.660000000033 and parameters: {'tp': 1492.7, 'sl': 1281.8, 'length_rsi': 9.0, 'rsi_low': 31.0, 'rsi_high': 55.0}. Best is trial 22 with value: 20873.660000000033.\u001b[0m\n"
     ]
    },
    {
     "name": "stdout",
     "output_type": "stream",
     "text": [
      "Trial 22 concluído: total_return = 20873.6600\n",
      "Trial 23 para hora 17: Testando estratégia com parâmetros {'length_rsi': 9.0, 'rsi_low': 31.0, 'rsi_high': 55.0}\n",
      "Trial 23 para hora 17: Usando backtester com TP=1542.50000, SL=1283.10000\n",
      "Executando backtest para trial 23, hora 17...\n"
     ]
    },
    {
     "name": "stderr",
     "output_type": "stream",
     "text": [
      "\u001b[32m[I 2025-05-02 21:16:39,373]\u001b[0m Trial 23 finished with value: 21756.419999999955 and parameters: {'tp': 1542.5, 'sl': 1283.1000000000001, 'length_rsi': 9.0, 'rsi_low': 31.0, 'rsi_high': 55.0}. Best is trial 23 with value: 21756.419999999955.\u001b[0m\n"
     ]
    },
    {
     "name": "stdout",
     "output_type": "stream",
     "text": [
      "Trial 23 concluído: total_return = 21756.4200\n",
      "Trial 24 para hora 17: Testando estratégia com parâmetros {'length_rsi': 9.0, 'rsi_low': 31.0, 'rsi_high': 55.0}\n",
      "Trial 24 para hora 17: Usando backtester com TP=1606.00000, SL=1556.70000\n",
      "Executando backtest para trial 24, hora 17...\n"
     ]
    },
    {
     "name": "stderr",
     "output_type": "stream",
     "text": [
      "\u001b[32m[I 2025-05-02 21:16:40,013]\u001b[0m Trial 24 finished with value: 16981.980000000025 and parameters: {'tp': 1606.0, 'sl': 1556.7, 'length_rsi': 9.0, 'rsi_low': 31.0, 'rsi_high': 55.0}. Best is trial 23 with value: 21756.419999999955.\u001b[0m\n"
     ]
    },
    {
     "name": "stdout",
     "output_type": "stream",
     "text": [
      "Trial 24 concluído: total_return = 16981.9800\n",
      "Trial 25 para hora 17: Testando estratégia com parâmetros {'length_rsi': 9.0, 'rsi_low': 27.0, 'rsi_high': 58.0}\n",
      "Trial 25 para hora 17: Usando backtester com TP=1747.70000, SL=1162.70000\n",
      "Executando backtest para trial 25, hora 17...\n"
     ]
    },
    {
     "name": "stderr",
     "output_type": "stream",
     "text": [
      "\u001b[32m[I 2025-05-02 21:16:40,643]\u001b[0m Trial 25 finished with value: 16897.119999999966 and parameters: {'tp': 1747.7, 'sl': 1162.7, 'length_rsi': 9.0, 'rsi_low': 27.0, 'rsi_high': 58.0}. Best is trial 23 with value: 21756.419999999955.\u001b[0m\n"
     ]
    },
    {
     "name": "stdout",
     "output_type": "stream",
     "text": [
      "Trial 25 concluído: total_return = 16897.1200\n",
      "Trial 26 para hora 17: Testando estratégia com parâmetros {'length_rsi': 9.0, 'rsi_low': 34.0, 'rsi_high': 59.0}\n",
      "Trial 26 para hora 17: Usando backtester com TP=1452.30000, SL=1191.30000\n",
      "Executando backtest para trial 26, hora 17...\n"
     ]
    },
    {
     "name": "stderr",
     "output_type": "stream",
     "text": [
      "\u001b[32m[I 2025-05-02 21:16:41,281]\u001b[0m Trial 26 finished with value: 17351.33999999994 and parameters: {'tp': 1452.3000000000002, 'sl': 1191.3, 'length_rsi': 9.0, 'rsi_low': 34.0, 'rsi_high': 59.0}. Best is trial 23 with value: 21756.419999999955.\u001b[0m\n"
     ]
    },
    {
     "name": "stdout",
     "output_type": "stream",
     "text": [
      "Trial 26 concluído: total_return = 17351.3400\n",
      "Trial 27 para hora 17: Testando estratégia com parâmetros {'length_rsi': 9.0, 'rsi_low': 33.0, 'rsi_high': 57.0}\n",
      "Trial 27 para hora 17: Usando backtester com TP=1615.50000, SL=1526.10000\n",
      "Executando backtest para trial 27, hora 17...\n"
     ]
    },
    {
     "name": "stderr",
     "output_type": "stream",
     "text": [
      "\u001b[32m[I 2025-05-02 21:16:41,924]\u001b[0m Trial 27 finished with value: 17679.540000000066 and parameters: {'tp': 1615.5, 'sl': 1526.1000000000001, 'length_rsi': 9.0, 'rsi_low': 33.0, 'rsi_high': 57.0}. Best is trial 23 with value: 21756.419999999955.\u001b[0m\n"
     ]
    },
    {
     "name": "stdout",
     "output_type": "stream",
     "text": [
      "Trial 27 concluído: total_return = 17679.5400\n",
      "Trial 28 para hora 17: Testando estratégia com parâmetros {'length_rsi': 9.0, 'rsi_low': 30.0, 'rsi_high': 55.0}\n",
      "Trial 28 para hora 17: Usando backtester com TP=1178.40000, SL=1499.20000\n",
      "Executando backtest para trial 28, hora 17...\n"
     ]
    },
    {
     "name": "stderr",
     "output_type": "stream",
     "text": [
      "\u001b[32m[I 2025-05-02 21:16:42,577]\u001b[0m Trial 28 finished with value: 17041.000000000022 and parameters: {'tp': 1178.4, 'sl': 1499.2, 'length_rsi': 9.0, 'rsi_low': 30.0, 'rsi_high': 55.0}. Best is trial 23 with value: 21756.419999999955.\u001b[0m\n"
     ]
    },
    {
     "name": "stdout",
     "output_type": "stream",
     "text": [
      "Trial 28 concluído: total_return = 17041.0000\n",
      "Trial 29 para hora 17: Testando estratégia com parâmetros {'length_rsi': 9.0, 'rsi_low': 27.0, 'rsi_high': 63.0}\n",
      "Trial 29 para hora 17: Usando backtester com TP=1452.60000, SL=892.30000\n",
      "Executando backtest para trial 29, hora 17...\n"
     ]
    },
    {
     "name": "stderr",
     "output_type": "stream",
     "text": [
      "\u001b[32m[I 2025-05-02 21:16:43,212]\u001b[0m Trial 29 finished with value: 11387.08000000006 and parameters: {'tp': 1452.6000000000001, 'sl': 892.3000000000001, 'length_rsi': 9.0, 'rsi_low': 27.0, 'rsi_high': 63.0}. Best is trial 23 with value: 21756.419999999955.\u001b[0m\n"
     ]
    },
    {
     "name": "stdout",
     "output_type": "stream",
     "text": [
      "Trial 29 concluído: total_return = 11387.0800\n",
      "Trial 30 para hora 17: Testando estratégia com parâmetros {'length_rsi': 9.0, 'rsi_low': 36.0, 'rsi_high': 77.0}\n",
      "Trial 30 para hora 17: Usando backtester com TP=1595.90000, SL=1696.40000\n",
      "Executando backtest para trial 30, hora 17...\n"
     ]
    },
    {
     "name": "stderr",
     "output_type": "stream",
     "text": [
      "\u001b[32m[I 2025-05-02 21:16:43,849]\u001b[0m Trial 30 finished with value: 10204.380000000005 and parameters: {'tp': 1595.9, 'sl': 1696.4, 'length_rsi': 9.0, 'rsi_low': 36.0, 'rsi_high': 77.0}. Best is trial 23 with value: 21756.419999999955.\u001b[0m\n"
     ]
    },
    {
     "name": "stdout",
     "output_type": "stream",
     "text": [
      "Trial 30 concluído: total_return = 10204.3800\n",
      "Trial 31 para hora 17: Testando estratégia com parâmetros {'length_rsi': 9.0, 'rsi_low': 30.0, 'rsi_high': 55.0}\n",
      "Trial 31 para hora 17: Usando backtester com TP=1460.10000, SL=1280.90000\n",
      "Executando backtest para trial 31, hora 17...\n"
     ]
    },
    {
     "name": "stderr",
     "output_type": "stream",
     "text": [
      "\u001b[32m[I 2025-05-02 21:16:44,487]\u001b[0m Trial 31 finished with value: 20033.960000000006 and parameters: {'tp': 1460.1000000000001, 'sl': 1280.9, 'length_rsi': 9.0, 'rsi_low': 30.0, 'rsi_high': 55.0}. Best is trial 23 with value: 21756.419999999955.\u001b[0m\n"
     ]
    },
    {
     "name": "stdout",
     "output_type": "stream",
     "text": [
      "Trial 31 concluído: total_return = 20033.9600\n",
      "Trial 32 para hora 17: Testando estratégia com parâmetros {'length_rsi': 9.0, 'rsi_low': 31.0, 'rsi_high': 59.0}\n",
      "Trial 32 para hora 17: Usando backtester com TP=1393.00000, SL=1422.40000\n",
      "Executando backtest para trial 32, hora 17...\n"
     ]
    },
    {
     "name": "stderr",
     "output_type": "stream",
     "text": [
      "\u001b[32m[I 2025-05-02 21:16:45,126]\u001b[0m Trial 32 finished with value: 13967.240000000078 and parameters: {'tp': 1393.0, 'sl': 1422.4, 'length_rsi': 9.0, 'rsi_low': 31.0, 'rsi_high': 59.0}. Best is trial 23 with value: 21756.419999999955.\u001b[0m\n"
     ]
    },
    {
     "name": "stdout",
     "output_type": "stream",
     "text": [
      "Trial 32 concluído: total_return = 13967.2400\n",
      "Trial 33 para hora 17: Testando estratégia com parâmetros {'length_rsi': 9.0, 'rsi_low': 29.0, 'rsi_high': 55.0}\n",
      "Trial 33 para hora 17: Usando backtester com TP=1680.50000, SL=1211.70000\n",
      "Executando backtest para trial 33, hora 17...\n"
     ]
    },
    {
     "name": "stderr",
     "output_type": "stream",
     "text": [
      "\u001b[32m[I 2025-05-02 21:16:45,773]\u001b[0m Trial 33 finished with value: 20345.979999999996 and parameters: {'tp': 1680.5, 'sl': 1211.7, 'length_rsi': 9.0, 'rsi_low': 29.0, 'rsi_high': 55.0}. Best is trial 23 with value: 21756.419999999955.\u001b[0m\n"
     ]
    },
    {
     "name": "stdout",
     "output_type": "stream",
     "text": [
      "Trial 33 concluído: total_return = 20345.9800\n",
      "Trial 34 para hora 17: Testando estratégia com parâmetros {'length_rsi': 8.0, 'rsi_low': 32.0, 'rsi_high': 63.0}\n",
      "Trial 34 para hora 17: Usando backtester com TP=1549.90000, SL=1069.00000\n",
      "Executando backtest para trial 34, hora 17...\n"
     ]
    },
    {
     "name": "stderr",
     "output_type": "stream",
     "text": [
      "\u001b[32m[I 2025-05-02 21:16:46,443]\u001b[0m Trial 34 finished with value: 16295.640000000029 and parameters: {'tp': 1549.9, 'sl': 1069.0, 'length_rsi': 8.0, 'rsi_low': 32.0, 'rsi_high': 63.0}. Best is trial 23 with value: 21756.419999999955.\u001b[0m\n"
     ]
    },
    {
     "name": "stdout",
     "output_type": "stream",
     "text": [
      "Trial 34 concluído: total_return = 16295.6400\n",
      "Trial 35 para hora 17: Testando estratégia com parâmetros {'length_rsi': 9.0, 'rsi_low': 27.0, 'rsi_high': 85.0}\n",
      "Trial 35 para hora 17: Usando backtester com TP=1224.90000, SL=880.80000\n",
      "Executando backtest para trial 35, hora 17...\n"
     ]
    },
    {
     "name": "stderr",
     "output_type": "stream",
     "text": [
      "\u001b[32m[I 2025-05-02 21:16:47,080]\u001b[0m Trial 35 finished with value: 4002.780000000006 and parameters: {'tp': 1224.9, 'sl': 880.8000000000001, 'length_rsi': 9.0, 'rsi_low': 27.0, 'rsi_high': 85.0}. Best is trial 23 with value: 21756.419999999955.\u001b[0m\n"
     ]
    },
    {
     "name": "stdout",
     "output_type": "stream",
     "text": [
      "Trial 35 concluído: total_return = 4002.7800\n",
      "Trial 36 para hora 17: Testando estratégia com parâmetros {'length_rsi': 8.0, 'rsi_low': 30.0, 'rsi_high': 57.0}\n",
      "Trial 36 para hora 17: Usando backtester com TP=1798.10000, SL=1614.40000\n",
      "Executando backtest para trial 36, hora 17...\n"
     ]
    },
    {
     "name": "stderr",
     "output_type": "stream",
     "text": [
      "\u001b[32m[I 2025-05-02 21:16:47,711]\u001b[0m Trial 36 finished with value: 13319.560000000056 and parameters: {'tp': 1798.1000000000001, 'sl': 1614.4, 'length_rsi': 8.0, 'rsi_low': 30.0, 'rsi_high': 57.0}. Best is trial 23 with value: 21756.419999999955.\u001b[0m\n"
     ]
    },
    {
     "name": "stdout",
     "output_type": "stream",
     "text": [
      "Trial 36 concluído: total_return = 13319.5600\n",
      "Trial 37 para hora 17: Testando estratégia com parâmetros {'length_rsi': 9.0, 'rsi_low': 33.0, 'rsi_high': 67.0}\n",
      "Trial 37 para hora 17: Usando backtester com TP=1086.00000, SL=1278.60000\n",
      "Executando backtest para trial 37, hora 17...\n"
     ]
    },
    {
     "name": "stderr",
     "output_type": "stream",
     "text": [
      "\u001b[32m[I 2025-05-02 21:16:48,354]\u001b[0m Trial 37 finished with value: 12908.240000000005 and parameters: {'tp': 1086.0, 'sl': 1278.6000000000001, 'length_rsi': 9.0, 'rsi_low': 33.0, 'rsi_high': 67.0}. Best is trial 23 with value: 21756.419999999955.\u001b[0m\n"
     ]
    },
    {
     "name": "stdout",
     "output_type": "stream",
     "text": [
      "Trial 37 concluído: total_return = 12908.2400\n",
      "Trial 38 para hora 17: Testando estratégia com parâmetros {'length_rsi': 8.0, 'rsi_low': 25.0, 'rsi_high': 59.0}\n",
      "Trial 38 para hora 17: Usando backtester com TP=1528.00000, SL=975.30000\n",
      "Executando backtest para trial 38, hora 17...\n"
     ]
    },
    {
     "name": "stderr",
     "output_type": "stream",
     "text": [
      "\u001b[32m[I 2025-05-02 21:16:49,005]\u001b[0m Trial 38 finished with value: 19346.600000000035 and parameters: {'tp': 1528.0, 'sl': 975.3000000000001, 'length_rsi': 8.0, 'rsi_low': 25.0, 'rsi_high': 59.0}. Best is trial 23 with value: 21756.419999999955.\u001b[0m\n"
     ]
    },
    {
     "name": "stdout",
     "output_type": "stream",
     "text": [
      "Trial 38 concluído: total_return = 19346.6000\n",
      "Trial 39 para hora 17: Testando estratégia com parâmetros {'length_rsi': 6.0, 'rsi_low': 28.0, 'rsi_high': 56.0}\n",
      "Trial 39 para hora 17: Usando backtester com TP=1347.00000, SL=1106.70000\n",
      "Executando backtest para trial 39, hora 17...\n"
     ]
    },
    {
     "name": "stderr",
     "output_type": "stream",
     "text": [
      "\u001b[32m[I 2025-05-02 21:16:49,656]\u001b[0m Trial 39 finished with value: 21138.200000000004 and parameters: {'tp': 1347.0, 'sl': 1106.7, 'length_rsi': 6.0, 'rsi_low': 28.0, 'rsi_high': 56.0}. Best is trial 23 with value: 21756.419999999955.\u001b[0m\n"
     ]
    },
    {
     "name": "stdout",
     "output_type": "stream",
     "text": [
      "Trial 39 concluído: total_return = 21138.2000\n",
      "Trial 40 para hora 17: Testando estratégia com parâmetros {'length_rsi': 6.0, 'rsi_low': 28.0, 'rsi_high': 72.0}\n",
      "Trial 40 para hora 17: Usando backtester com TP=1348.00000, SL=809.30000\n",
      "Executando backtest para trial 40, hora 17...\n"
     ]
    },
    {
     "name": "stderr",
     "output_type": "stream",
     "text": [
      "\u001b[32m[I 2025-05-02 21:16:50,299]\u001b[0m Trial 40 finished with value: 10790.920000000006 and parameters: {'tp': 1348.0, 'sl': 809.3000000000001, 'length_rsi': 6.0, 'rsi_low': 28.0, 'rsi_high': 72.0}. Best is trial 23 with value: 21756.419999999955.\u001b[0m\n"
     ]
    },
    {
     "name": "stdout",
     "output_type": "stream",
     "text": [
      "Trial 40 concluído: total_return = 10790.9200\n",
      "Trial 41 para hora 17: Testando estratégia com parâmetros {'length_rsi': 6.0, 'rsi_low': 31.0, 'rsi_high': 57.0}\n",
      "Trial 41 para hora 17: Usando backtester com TP=1688.40000, SL=1111.30000\n",
      "Executando backtest para trial 41, hora 17...\n"
     ]
    },
    {
     "name": "stderr",
     "output_type": "stream",
     "text": [
      "\u001b[32m[I 2025-05-02 21:16:50,958]\u001b[0m Trial 41 finished with value: 20605.500000000065 and parameters: {'tp': 1688.4, 'sl': 1111.3, 'length_rsi': 6.0, 'rsi_low': 31.0, 'rsi_high': 57.0}. Best is trial 23 with value: 21756.419999999955.\u001b[0m\n"
     ]
    },
    {
     "name": "stdout",
     "output_type": "stream",
     "text": [
      "Trial 41 concluído: total_return = 20605.5000\n",
      "Trial 42 para hora 17: Testando estratégia com parâmetros {'length_rsi': 6.0, 'rsi_low': 31.0, 'rsi_high': 57.0}\n",
      "Trial 42 para hora 17: Usando backtester com TP=1385.70000, SL=1138.90000\n",
      "Executando backtest para trial 42, hora 17...\n"
     ]
    },
    {
     "name": "stderr",
     "output_type": "stream",
     "text": [
      "\u001b[32m[I 2025-05-02 21:16:51,608]\u001b[0m Trial 42 finished with value: 18184.339999999887 and parameters: {'tp': 1385.7, 'sl': 1138.9, 'length_rsi': 6.0, 'rsi_low': 31.0, 'rsi_high': 57.0}. Best is trial 23 with value: 21756.419999999955.\u001b[0m\n"
     ]
    },
    {
     "name": "stdout",
     "output_type": "stream",
     "text": [
      "Trial 42 concluído: total_return = 18184.3400\n",
      "Trial 43 para hora 17: Testando estratégia com parâmetros {'length_rsi': 6.0, 'rsi_low': 28.0, 'rsi_high': 57.0}\n",
      "Trial 43 para hora 17: Usando backtester com TP=1698.00000, SL=1112.60000\n",
      "Executando backtest para trial 43, hora 17...\n"
     ]
    },
    {
     "name": "stderr",
     "output_type": "stream",
     "text": [
      "\u001b[32m[I 2025-05-02 21:16:52,259]\u001b[0m Trial 43 finished with value: 21324.83999999991 and parameters: {'tp': 1698.0, 'sl': 1112.6000000000001, 'length_rsi': 6.0, 'rsi_low': 28.0, 'rsi_high': 57.0}. Best is trial 23 with value: 21756.419999999955.\u001b[0m\n"
     ]
    },
    {
     "name": "stdout",
     "output_type": "stream",
     "text": [
      "Trial 43 concluído: total_return = 21324.8400\n",
      "Trial 44 para hora 17: Testando estratégia com parâmetros {'length_rsi': 6.0, 'rsi_low': 26.0, 'rsi_high': 57.0}\n",
      "Trial 44 para hora 17: Usando backtester com TP=1697.00000, SL=1086.30000\n",
      "Executando backtest para trial 44, hora 17...\n"
     ]
    },
    {
     "name": "stderr",
     "output_type": "stream",
     "text": [
      "\u001b[32m[I 2025-05-02 21:16:52,921]\u001b[0m Trial 44 finished with value: 18989.859999999928 and parameters: {'tp': 1697.0, 'sl': 1086.3000000000002, 'length_rsi': 6.0, 'rsi_low': 26.0, 'rsi_high': 57.0}. Best is trial 23 with value: 21756.419999999955.\u001b[0m\n"
     ]
    },
    {
     "name": "stdout",
     "output_type": "stream",
     "text": [
      "Trial 44 concluído: total_return = 18989.8600\n",
      "Otimização concluída para hora 17.\n",
      "\n",
      "Melhores parâmetros para hora 17:\n",
      "total_return: 21756.4200\n",
      "Parâmetros: {'length_rsi': 9.0, 'rsi_low': 31.0, 'rsi_high': 55.0, 'allowed_hours': [17], 'tp': 1542.5, 'sl': 1283.1000000000001}\n",
      "Profit Factor: 1.1814\n",
      "Win Rate: 55.35%\n",
      "Max Drawdown: 400.67%\n",
      "Total Return: $21756.42\n",
      "Total Trades: 2674\n",
      "Otimização concluída para 8 de 8 horas.\n"
     ]
    },
    {
     "data": {
      "text/plain": [
       "[{'hour': 10,\n",
       "  'best_params': {'length_rsi': 8.0,\n",
       "   'rsi_low': 43.0,\n",
       "   'rsi_high': 60.0,\n",
       "   'allowed_hours': [10],\n",
       "   'tp': 1594.5,\n",
       "   'sl': 1798.0},\n",
       "  'best_value': 66852.50000000135,\n",
       "  'raw_best_value': 66852.50000000135,\n",
       "  'optimize_metric': 'total_return',\n",
       "  'direction': 'maximize',\n",
       "  'metrics': {'sortino_ratio': 1.2193750675422057,\n",
       "   'sharpe_ratio': 0.9964524264506687,\n",
       "   'calmar_ratio': 0.10758464072579857,\n",
       "   'profit_factor': 1.117167303745533,\n",
       "   'win_rate': 0.5247289076963766,\n",
       "   'max_drawdown': 2.515724316334073,\n",
       "   'total_return': 66852.50000000135,\n",
       "   'trades': 3781}},\n",
       " {'hour': 11,\n",
       "  'best_params': {'length_rsi': 8.0,\n",
       "   'rsi_low': 41.0,\n",
       "   'rsi_high': 71.0,\n",
       "   'allowed_hours': [11],\n",
       "   'tp': 1650.9,\n",
       "   'sl': 635.3000000000001},\n",
       "  'best_value': 68876.2200000015,\n",
       "  'raw_best_value': 68876.2200000015,\n",
       "  'optimize_metric': 'total_return',\n",
       "  'direction': 'maximize',\n",
       "  'metrics': {'sortino_ratio': 3.9796534150595786,\n",
       "   'sharpe_ratio': 2.064381984851652,\n",
       "   'calmar_ratio': 0.24233977866453835,\n",
       "   'profit_factor': 1.2679826081881587,\n",
       "   'win_rate': 0.45217391304347826,\n",
       "   'max_drawdown': 1.3198465963566632,\n",
       "   'total_return': 68876.2200000015,\n",
       "   'trades': 2415}},\n",
       " {'hour': 12,\n",
       "  'best_params': {'length_rsi': 6.0,\n",
       "   'rsi_low': 39.0,\n",
       "   'rsi_high': 65.0,\n",
       "   'allowed_hours': [12],\n",
       "   'tp': 1175.9,\n",
       "   'sl': 786.4000000000001},\n",
       "  'best_value': 51845.48000000144,\n",
       "  'raw_best_value': 51845.48000000144,\n",
       "  'optimize_metric': 'total_return',\n",
       "  'direction': 'maximize',\n",
       "  'metrics': {'sortino_ratio': 2.6445049415090573,\n",
       "   'sharpe_ratio': 1.5981793214637132,\n",
       "   'calmar_ratio': 0.04364636963591316,\n",
       "   'profit_factor': 1.1786800195644973,\n",
       "   'win_rate': 0.4928069588491134,\n",
       "   'max_drawdown': 5.380456026058631,\n",
       "   'total_return': 51845.48000000144,\n",
       "   'trades': 2989}},\n",
       " {'hour': 13,\n",
       "  'best_params': {'length_rsi': 8.0,\n",
       "   'rsi_low': 44.0,\n",
       "   'rsi_high': 56.0,\n",
       "   'allowed_hours': [13],\n",
       "   'tp': 1577.8000000000002,\n",
       "   'sl': 1786.8000000000002},\n",
       "  'best_value': 64767.07999999964,\n",
       "  'raw_best_value': 64767.07999999964,\n",
       "  'optimize_metric': 'total_return',\n",
       "  'direction': 'maximize',\n",
       "  'metrics': {'sortino_ratio': 2.106434276652152,\n",
       "   'sharpe_ratio': 1.5898519656290344,\n",
       "   'calmar_ratio': 0.05882976823491654,\n",
       "   'profit_factor': 1.1763898331691454,\n",
       "   'win_rate': 0.5092165898617511,\n",
       "   'max_drawdown': 4.4802784222737815,\n",
       "   'total_return': 64767.07999999964,\n",
       "   'trades': 3906}},\n",
       " {'hour': 14,\n",
       "  'best_params': {'length_rsi': 9.0,\n",
       "   'rsi_low': 43.0,\n",
       "   'rsi_high': 55.0,\n",
       "   'allowed_hours': [14],\n",
       "   'tp': 1615.5,\n",
       "   'sl': 537.8},\n",
       "  'best_value': 30303.41999999786,\n",
       "  'raw_best_value': 30303.41999999786,\n",
       "  'optimize_metric': 'total_return',\n",
       "  'direction': 'maximize',\n",
       "  'metrics': {'sortino_ratio': 1.9836284603291499,\n",
       "   'sharpe_ratio': 0.9110386304064204,\n",
       "   'calmar_ratio': 0.06531313194464254,\n",
       "   'profit_factor': 1.0989917440402917,\n",
       "   'win_rate': 0.46013071895424834,\n",
       "   'max_drawdown': 2.3381924198250723,\n",
       "   'total_return': 30303.41999999786,\n",
       "   'trades': 3825}},\n",
       " {'hour': 15,\n",
       "  'best_params': {'length_rsi': 6.0,\n",
       "   'rsi_low': 33.0,\n",
       "   'rsi_high': 58.0,\n",
       "   'allowed_hours': [15],\n",
       "   'tp': 1693.5,\n",
       "   'sl': 668.4},\n",
       "  'best_value': 17475.77999999981,\n",
       "  'raw_best_value': 17475.77999999981,\n",
       "  'optimize_metric': 'total_return',\n",
       "  'direction': 'maximize',\n",
       "  'metrics': {'sortino_ratio': 1.057764452053192,\n",
       "   'sharpe_ratio': 0.6602370784886701,\n",
       "   'calmar_ratio': 0.023368427232998455,\n",
       "   'profit_factor': 1.0790813953109517,\n",
       "   'win_rate': 0.48906683092085,\n",
       "   'max_drawdown': 4.237744360902257,\n",
       "   'total_return': 17475.77999999981,\n",
       "   'trades': 3247}},\n",
       " {'hour': 16,\n",
       "  'best_params': {'length_rsi': 9.0,\n",
       "   'rsi_low': 37.0,\n",
       "   'rsi_high': 57.0,\n",
       "   'allowed_hours': [16],\n",
       "   'tp': 1473.3000000000002,\n",
       "   'sl': 591.8},\n",
       "  'best_value': 39447.79999999984,\n",
       "  'raw_best_value': 39447.79999999984,\n",
       "  'optimize_metric': 'total_return',\n",
       "  'direction': 'maximize',\n",
       "  'metrics': {'sortino_ratio': 2.834062213272119,\n",
       "   'sharpe_ratio': 1.6588764821723958,\n",
       "   'calmar_ratio': 0.11235991556517941,\n",
       "   'profit_factor': 1.2595943390142366,\n",
       "   'win_rate': 0.5142478462557986,\n",
       "   'max_drawdown': 1.720243143907266,\n",
       "   'total_return': 39447.79999999984,\n",
       "   'trades': 3018}},\n",
       " {'hour': 17,\n",
       "  'best_params': {'length_rsi': 9.0,\n",
       "   'rsi_low': 31.0,\n",
       "   'rsi_high': 55.0,\n",
       "   'allowed_hours': [17],\n",
       "   'tp': 1542.5,\n",
       "   'sl': 1283.1000000000001},\n",
       "  'best_value': 21756.419999999955,\n",
       "  'raw_best_value': 21756.419999999955,\n",
       "  'optimize_metric': 'total_return',\n",
       "  'direction': 'maximize',\n",
       "  'metrics': {'sortino_ratio': 2.3935694592207457,\n",
       "   'sharpe_ratio': 1.4778162911093085,\n",
       "   'calmar_ratio': 0.03191703804487053,\n",
       "   'profit_factor': 1.1813986133395942,\n",
       "   'win_rate': 0.5534779356768885,\n",
       "   'max_drawdown': 4.006651884700665,\n",
       "   'total_return': 21756.419999999955,\n",
       "   'trades': 2674}}]"
      ]
     },
     "execution_count": 23,
     "metadata": {},
     "output_type": "execute_result"
    }
   ],
   "source": [
    "# 3. Otimizar horas específicas\n",
    "optimizer.optimize_all_hours(hours_to_optimize=[10, 11,12,13,14,15,16,17])"
   ]
  },
  {
   "cell_type": "code",
   "execution_count": 24,
   "id": "1cdb46de",
   "metadata": {
    "ExecuteTime": {
     "end_time": "2025-05-03T00:19:06.345685Z",
     "start_time": "2025-05-03T00:19:05.691136Z"
    }
   },
   "outputs": [
    {
     "name": "stderr",
     "output_type": "stream",
     "text": [
      "C:\\Users\\User\\AppData\\Roaming\\Python\\Python39\\site-packages\\numpy\\core\\fromnumeric.py:43: VisibleDeprecationWarning: Creating an ndarray from ragged nested sequences (which is a list-or-tuple of lists-or-tuples-or ndarrays with different lengths or shapes) is deprecated. If you meant to do this, you must specify 'dtype=object' when creating the ndarray.\n",
      "  result = getattr(asarray(obj), method)(*args, **kwds)\n"
     ]
    },
    {
     "data": {
      "text/html": [
       "<div>\n",
       "<style scoped>\n",
       "    .dataframe tbody tr th:only-of-type {\n",
       "        vertical-align: middle;\n",
       "    }\n",
       "\n",
       "    .dataframe tbody tr th {\n",
       "        vertical-align: top;\n",
       "    }\n",
       "\n",
       "    .dataframe thead th {\n",
       "        text-align: right;\n",
       "    }\n",
       "</style>\n",
       "<table border=\"1\" class=\"dataframe\">\n",
       "  <thead>\n",
       "    <tr style=\"text-align: right;\">\n",
       "      <th></th>\n",
       "      <th>hour</th>\n",
       "      <th>sortino</th>\n",
       "      <th>profit_factor</th>\n",
       "      <th>win_rate</th>\n",
       "      <th>max_drawdown</th>\n",
       "      <th>total_return</th>\n",
       "      <th>trades</th>\n",
       "      <th>tp</th>\n",
       "      <th>sl</th>\n",
       "      <th>allowed_hours</th>\n",
       "      <th>rsi_high</th>\n",
       "      <th>length_rsi</th>\n",
       "      <th>rsi_low</th>\n",
       "    </tr>\n",
       "  </thead>\n",
       "  <tbody>\n",
       "    <tr>\n",
       "      <th>0</th>\n",
       "      <td>10</td>\n",
       "      <td>66852.50</td>\n",
       "      <td>1.117167</td>\n",
       "      <td>0.524729</td>\n",
       "      <td>2.515724</td>\n",
       "      <td>66852.50</td>\n",
       "      <td>3781</td>\n",
       "      <td>1594.5</td>\n",
       "      <td>1798.0</td>\n",
       "      <td>[10]</td>\n",
       "      <td>60.0</td>\n",
       "      <td>8.0</td>\n",
       "      <td>43.0</td>\n",
       "    </tr>\n",
       "    <tr>\n",
       "      <th>1</th>\n",
       "      <td>11</td>\n",
       "      <td>68876.22</td>\n",
       "      <td>1.267983</td>\n",
       "      <td>0.452174</td>\n",
       "      <td>1.319847</td>\n",
       "      <td>68876.22</td>\n",
       "      <td>2415</td>\n",
       "      <td>1650.9</td>\n",
       "      <td>635.3</td>\n",
       "      <td>[11]</td>\n",
       "      <td>71.0</td>\n",
       "      <td>8.0</td>\n",
       "      <td>41.0</td>\n",
       "    </tr>\n",
       "    <tr>\n",
       "      <th>2</th>\n",
       "      <td>12</td>\n",
       "      <td>51845.48</td>\n",
       "      <td>1.178680</td>\n",
       "      <td>0.492807</td>\n",
       "      <td>5.380456</td>\n",
       "      <td>51845.48</td>\n",
       "      <td>2989</td>\n",
       "      <td>1175.9</td>\n",
       "      <td>786.4</td>\n",
       "      <td>[12]</td>\n",
       "      <td>65.0</td>\n",
       "      <td>6.0</td>\n",
       "      <td>39.0</td>\n",
       "    </tr>\n",
       "    <tr>\n",
       "      <th>3</th>\n",
       "      <td>13</td>\n",
       "      <td>64767.08</td>\n",
       "      <td>1.176390</td>\n",
       "      <td>0.509217</td>\n",
       "      <td>4.480278</td>\n",
       "      <td>64767.08</td>\n",
       "      <td>3906</td>\n",
       "      <td>1577.8</td>\n",
       "      <td>1786.8</td>\n",
       "      <td>[13]</td>\n",
       "      <td>56.0</td>\n",
       "      <td>8.0</td>\n",
       "      <td>44.0</td>\n",
       "    </tr>\n",
       "    <tr>\n",
       "      <th>4</th>\n",
       "      <td>14</td>\n",
       "      <td>30303.42</td>\n",
       "      <td>1.098992</td>\n",
       "      <td>0.460131</td>\n",
       "      <td>2.338192</td>\n",
       "      <td>30303.42</td>\n",
       "      <td>3825</td>\n",
       "      <td>1615.5</td>\n",
       "      <td>537.8</td>\n",
       "      <td>[14]</td>\n",
       "      <td>55.0</td>\n",
       "      <td>9.0</td>\n",
       "      <td>43.0</td>\n",
       "    </tr>\n",
       "    <tr>\n",
       "      <th>5</th>\n",
       "      <td>15</td>\n",
       "      <td>17475.78</td>\n",
       "      <td>1.079081</td>\n",
       "      <td>0.489067</td>\n",
       "      <td>4.237744</td>\n",
       "      <td>17475.78</td>\n",
       "      <td>3247</td>\n",
       "      <td>1693.5</td>\n",
       "      <td>668.4</td>\n",
       "      <td>[15]</td>\n",
       "      <td>58.0</td>\n",
       "      <td>6.0</td>\n",
       "      <td>33.0</td>\n",
       "    </tr>\n",
       "    <tr>\n",
       "      <th>6</th>\n",
       "      <td>16</td>\n",
       "      <td>39447.80</td>\n",
       "      <td>1.259594</td>\n",
       "      <td>0.514248</td>\n",
       "      <td>1.720243</td>\n",
       "      <td>39447.80</td>\n",
       "      <td>3018</td>\n",
       "      <td>1473.3</td>\n",
       "      <td>591.8</td>\n",
       "      <td>[16]</td>\n",
       "      <td>57.0</td>\n",
       "      <td>9.0</td>\n",
       "      <td>37.0</td>\n",
       "    </tr>\n",
       "    <tr>\n",
       "      <th>7</th>\n",
       "      <td>17</td>\n",
       "      <td>21756.42</td>\n",
       "      <td>1.181399</td>\n",
       "      <td>0.553478</td>\n",
       "      <td>4.006652</td>\n",
       "      <td>21756.42</td>\n",
       "      <td>2674</td>\n",
       "      <td>1542.5</td>\n",
       "      <td>1283.1</td>\n",
       "      <td>[17]</td>\n",
       "      <td>55.0</td>\n",
       "      <td>9.0</td>\n",
       "      <td>31.0</td>\n",
       "    </tr>\n",
       "  </tbody>\n",
       "</table>\n",
       "</div>"
      ],
      "text/plain": [
       "   hour   sortino  profit_factor  win_rate  max_drawdown  total_return  \\\n",
       "0    10  66852.50       1.117167  0.524729      2.515724      66852.50   \n",
       "1    11  68876.22       1.267983  0.452174      1.319847      68876.22   \n",
       "2    12  51845.48       1.178680  0.492807      5.380456      51845.48   \n",
       "3    13  64767.08       1.176390  0.509217      4.480278      64767.08   \n",
       "4    14  30303.42       1.098992  0.460131      2.338192      30303.42   \n",
       "5    15  17475.78       1.079081  0.489067      4.237744      17475.78   \n",
       "6    16  39447.80       1.259594  0.514248      1.720243      39447.80   \n",
       "7    17  21756.42       1.181399  0.553478      4.006652      21756.42   \n",
       "\n",
       "   trades      tp      sl allowed_hours  rsi_high  length_rsi  rsi_low  \n",
       "0    3781  1594.5  1798.0          [10]      60.0         8.0     43.0  \n",
       "1    2415  1650.9   635.3          [11]      71.0         8.0     41.0  \n",
       "2    2989  1175.9   786.4          [12]      65.0         6.0     39.0  \n",
       "3    3906  1577.8  1786.8          [13]      56.0         8.0     44.0  \n",
       "4    3825  1615.5   537.8          [14]      55.0         9.0     43.0  \n",
       "5    3247  1693.5   668.4          [15]      58.0         6.0     33.0  \n",
       "6    3018  1473.3   591.8          [16]      57.0         9.0     37.0  \n",
       "7    2674  1542.5  1283.1          [17]      55.0         9.0     31.0  "
      ]
     },
     "execution_count": 24,
     "metadata": {},
     "output_type": "execute_result"
    }
   ],
   "source": [
    "# 4. Criar resumo de desempenho\n",
    "optimizer.create_performance_summary()"
   ]
  },
  {
   "cell_type": "code",
   "execution_count": 25,
   "id": "a0245921",
   "metadata": {
    "ExecuteTime": {
     "end_time": "2025-05-03T00:19:12.073305Z",
     "start_time": "2025-05-03T00:19:06.359302Z"
    }
   },
   "outputs": [
    {
     "data": {
      "text/plain": [
       "[{'hour': 10,\n",
       "  'params': {'length_rsi': 8.0,\n",
       "   'rsi_low': 43.0,\n",
       "   'rsi_high': 60.0,\n",
       "   'allowed_hours': [10],\n",
       "   'tp': 1594.5,\n",
       "   'sl': 1798.0},\n",
       "  'metrics': {'sortino_ratio': 1.2193750675422057,\n",
       "   'sharpe_ratio': 0.9964524264506687,\n",
       "   'calmar_ratio': 0.10758464072579857,\n",
       "   'profit_factor': 1.117167303745533,\n",
       "   'win_rate': 0.5247289076963766,\n",
       "   'max_drawdown': 2.515724316334073,\n",
       "   'total_return': 66852.50000000135,\n",
       "   'total_trades': 3781,\n",
       "   'annual_return': 27.065329673795645}},\n",
       " {'hour': 11,\n",
       "  'params': {'length_rsi': 8.0,\n",
       "   'rsi_low': 41.0,\n",
       "   'rsi_high': 71.0,\n",
       "   'allowed_hours': [11],\n",
       "   'tp': 1650.9,\n",
       "   'sl': 635.3000000000001},\n",
       "  'metrics': {'sortino_ratio': 3.9796534150595786,\n",
       "   'sharpe_ratio': 2.064381984851652,\n",
       "   'calmar_ratio': 0.24233977866453835,\n",
       "   'profit_factor': 1.2679826081881587,\n",
       "   'win_rate': 0.45217391304347826,\n",
       "   'max_drawdown': 1.3198465963566632,\n",
       "   'total_return': 68876.2200000015,\n",
       "   'total_trades': 2415,\n",
       "   'annual_return': 31.985133203221807}},\n",
       " {'hour': 12,\n",
       "  'params': {'length_rsi': 6.0,\n",
       "   'rsi_low': 39.0,\n",
       "   'rsi_high': 65.0,\n",
       "   'allowed_hours': [12],\n",
       "   'tp': 1175.9,\n",
       "   'sl': 786.4000000000001},\n",
       "  'metrics': {'sortino_ratio': 2.6445049415090573,\n",
       "   'sharpe_ratio': 1.5981793214637132,\n",
       "   'calmar_ratio': 0.04364636963591316,\n",
       "   'profit_factor': 1.1786800195644973,\n",
       "   'win_rate': 0.4928069588491134,\n",
       "   'max_drawdown': 5.380456026058631,\n",
       "   'total_return': 51845.48000000144,\n",
       "   'total_trades': 2989,\n",
       "   'annual_return': 23.48373725231314}},\n",
       " {'hour': 13,\n",
       "  'params': {'length_rsi': 8.0,\n",
       "   'rsi_low': 44.0,\n",
       "   'rsi_high': 56.0,\n",
       "   'allowed_hours': [13],\n",
       "   'tp': 1577.8000000000002,\n",
       "   'sl': 1786.8000000000002},\n",
       "  'metrics': {'sortino_ratio': 2.106434276652152,\n",
       "   'sharpe_ratio': 1.5898519656290344,\n",
       "   'calmar_ratio': 0.05882976823491654,\n",
       "   'profit_factor': 1.1763898331691454,\n",
       "   'win_rate': 0.5092165898617511,\n",
       "   'max_drawdown': 4.4802784222737815,\n",
       "   'total_return': 64767.07999999964,\n",
       "   'total_trades': 3906,\n",
       "   'annual_return': 26.35737412102641}},\n",
       " {'hour': 14,\n",
       "  'params': {'length_rsi': 9.0,\n",
       "   'rsi_low': 43.0,\n",
       "   'rsi_high': 55.0,\n",
       "   'allowed_hours': [14],\n",
       "   'tp': 1615.5,\n",
       "   'sl': 537.8},\n",
       "  'metrics': {'sortino_ratio': 1.9836284603291499,\n",
       "   'sharpe_ratio': 0.9110386304064204,\n",
       "   'calmar_ratio': 0.06531313194464254,\n",
       "   'profit_factor': 1.0989917440402917,\n",
       "   'win_rate': 0.46013071895424834,\n",
       "   'max_drawdown': 2.3381924198250723,\n",
       "   'total_return': 30303.41999999786,\n",
       "   'total_trades': 3825,\n",
       "   'annual_return': 15.271467002799799}},\n",
       " {'hour': 15,\n",
       "  'params': {'length_rsi': 6.0,\n",
       "   'rsi_low': 33.0,\n",
       "   'rsi_high': 58.0,\n",
       "   'allowed_hours': [15],\n",
       "   'tp': 1693.5,\n",
       "   'sl': 668.4},\n",
       "  'metrics': {'sortino_ratio': 1.057764452053192,\n",
       "   'sharpe_ratio': 0.6602370784886701,\n",
       "   'calmar_ratio': 0.023368427232998455,\n",
       "   'profit_factor': 1.0790813953109517,\n",
       "   'win_rate': 0.48906683092085,\n",
       "   'max_drawdown': 4.237744360902257,\n",
       "   'total_return': 17475.77999999981,\n",
       "   'total_trades': 3247,\n",
       "   'annual_return': 9.902942072979393}},\n",
       " {'hour': 16,\n",
       "  'params': {'length_rsi': 9.0,\n",
       "   'rsi_low': 37.0,\n",
       "   'rsi_high': 57.0,\n",
       "   'allowed_hours': [16],\n",
       "   'tp': 1473.3000000000002,\n",
       "   'sl': 591.8},\n",
       "  'metrics': {'sortino_ratio': 2.834062213272119,\n",
       "   'sharpe_ratio': 1.6588764821723958,\n",
       "   'calmar_ratio': 0.11235991556517941,\n",
       "   'profit_factor': 1.2595943390142366,\n",
       "   'win_rate': 0.5142478462557986,\n",
       "   'max_drawdown': 1.720243143907266,\n",
       "   'total_return': 39447.79999999984,\n",
       "   'total_trades': 3018,\n",
       "   'annual_return': 19.328637440099918}},\n",
       " {'hour': 17,\n",
       "  'params': {'length_rsi': 9.0,\n",
       "   'rsi_low': 31.0,\n",
       "   'rsi_high': 55.0,\n",
       "   'allowed_hours': [17],\n",
       "   'tp': 1542.5,\n",
       "   'sl': 1283.1000000000001},\n",
       "  'metrics': {'sortino_ratio': 2.3935694592207457,\n",
       "   'sharpe_ratio': 1.4778162911093085,\n",
       "   'calmar_ratio': 0.03191703804487053,\n",
       "   'profit_factor': 1.1813986133395942,\n",
       "   'win_rate': 0.5534779356768885,\n",
       "   'max_drawdown': 4.006651884700665,\n",
       "   'total_return': 21756.419999999955,\n",
       "   'total_trades': 2674,\n",
       "   'annual_return': 12.788046063654335}}]"
      ]
     },
     "execution_count": 25,
     "metadata": {},
     "output_type": "execute_result"
    }
   ],
   "source": [
    "# 5. Validar os melhores parâmetros\n",
    "optimizer.validate_best_params()"
   ]
  },
  {
   "cell_type": "code",
   "execution_count": 26,
   "id": "359fbeac",
   "metadata": {
    "ExecuteTime": {
     "end_time": "2025-05-03T00:19:13.756472Z",
     "start_time": "2025-05-03T00:19:12.075382Z"
    }
   },
   "outputs": [
    {
     "name": "stdout",
     "output_type": "stream",
     "text": [
      "\n",
      "Estratégia combinada criada com 8 horas:\n",
      "Horas selecionadas: [10, 11, 12, 13, 14, 15, 16, 17]\n",
      "\n",
      "===== RESULTADOS DA ESTRATÉGIA COMBINADA =====\n",
      "Retorno Total: $-227667.00 (-758.89%)\n",
      "Retorno Anualizado: -46.69%\n",
      "Drawdown Máximo: nan%\n",
      "Trades Totais: 26824\n",
      "Win Rate: 17.34%\n",
      "Profit Factor: 0.1387\n",
      "Sharpe Ratio: -0.3218\n",
      "Sortino Ratio: -0.2233\n",
      "Calmar Ratio: nan\n",
      "Métrica otimizada (total_return): -227667.0000\n"
     ]
    }
   ],
   "source": [
    "# 6. Criar e testar a estratégia combinada\n",
    "optimizer.create_combined_strategy(min_threshold=3000)\n",
    "if optimizer.combined_strategy:\n",
    "    df, metrics = optimizer.test_combined_strategy()"
   ]
  },
  {
   "cell_type": "code",
   "execution_count": 27,
   "id": "dd29ce60",
   "metadata": {
    "ExecuteTime": {
     "end_time": "2025-05-03T00:19:13.771893Z",
     "start_time": "2025-05-03T00:19:13.757630Z"
    }
   },
   "outputs": [
    {
     "data": {
      "text/plain": [
       "{'symbol': 'WIN@N',\n",
       " 'timeframe': 't5',\n",
       " 'strategy': 'entrada',\n",
       " 'hours': [10, 11, 12, 13, 14, 15, 16, 17],\n",
       " 'hour_params': {'10': {'length_rsi': 8.0,\n",
       "   'rsi_low': 43.0,\n",
       "   'rsi_high': 60.0,\n",
       "   'allowed_hours': [10],\n",
       "   'tp': 1594.5,\n",
       "   'sl': 1798.0},\n",
       "  '11': {'length_rsi': 8.0,\n",
       "   'rsi_low': 41.0,\n",
       "   'rsi_high': 71.0,\n",
       "   'allowed_hours': [11],\n",
       "   'tp': 1650.9,\n",
       "   'sl': 635.3000000000001},\n",
       "  '12': {'length_rsi': 6.0,\n",
       "   'rsi_low': 39.0,\n",
       "   'rsi_high': 65.0,\n",
       "   'allowed_hours': [12],\n",
       "   'tp': 1175.9,\n",
       "   'sl': 786.4000000000001},\n",
       "  '13': {'length_rsi': 8.0,\n",
       "   'rsi_low': 44.0,\n",
       "   'rsi_high': 56.0,\n",
       "   'allowed_hours': [13],\n",
       "   'tp': 1577.8000000000002,\n",
       "   'sl': 1786.8000000000002},\n",
       "  '14': {'length_rsi': 9.0,\n",
       "   'rsi_low': 43.0,\n",
       "   'rsi_high': 55.0,\n",
       "   'allowed_hours': [14],\n",
       "   'tp': 1615.5,\n",
       "   'sl': 537.8},\n",
       "  '15': {'length_rsi': 6.0,\n",
       "   'rsi_low': 33.0,\n",
       "   'rsi_high': 58.0,\n",
       "   'allowed_hours': [15],\n",
       "   'tp': 1693.5,\n",
       "   'sl': 668.4},\n",
       "  '16': {'length_rsi': 9.0,\n",
       "   'rsi_low': 37.0,\n",
       "   'rsi_high': 57.0,\n",
       "   'allowed_hours': [16],\n",
       "   'tp': 1473.3000000000002,\n",
       "   'sl': 591.8},\n",
       "  '17': {'length_rsi': 9.0,\n",
       "   'rsi_low': 31.0,\n",
       "   'rsi_high': 55.0,\n",
       "   'allowed_hours': [17],\n",
       "   'tp': 1542.5,\n",
       "   'sl': 1283.1000000000001}},\n",
       " 'tc': 1.0,\n",
       " 'valor_lote': 0.2,\n",
       " 'optimize_metric': 'total_return',\n",
       " 'direction': 'maximize'}"
      ]
     },
     "execution_count": 27,
     "metadata": {},
     "output_type": "execute_result"
    }
   ],
   "source": [
    "optimizer.combined_strategy"
   ]
  },
  {
   "cell_type": "code",
   "execution_count": 35,
   "id": "1df61a4d",
   "metadata": {
    "ExecuteTime": {
     "end_time": "2025-05-02T23:36:41.760498Z",
     "start_time": "2025-05-02T23:36:41.742460Z"
    },
    "scrolled": false
   },
   "outputs": [
    {
     "data": {
      "text/plain": [
       "{'initial_cash': 30000,\n",
       " 'final_equity': 68411.39999999039,\n",
       " 'total_return': 38411.39999999039,\n",
       " 'total_return_pct': 128.03799999996798,\n",
       " 'annual_return': 18.269795302082326,\n",
       " 'annual_volatility': 22.976889439394625,\n",
       " 'total_trades': 8955,\n",
       " 'win_trades': 4302,\n",
       " 'loss_trades': 4653,\n",
       " 'win_rate': 0.48040201005025124,\n",
       " 'tp_rate': 0.15175879396984926,\n",
       " 'sl_rate': 0.25750977107761025,\n",
       " 'time_exit_rate': 0.5907314349525404,\n",
       " 'profit_factor': 1.0607174866627147,\n",
       " 'max_drawdown': 1.035126874689021,\n",
       " 'max_drawdown_value': 37764.60000000328,\n",
       " 'max_time_underwater': 83109.0,\n",
       " 'underwater_rate': 0.9628351706190239,\n",
       " 'sharpe_ratio': 0.795137886277947,\n",
       " 'sortino_ratio': 0.9234391066019677,\n",
       " 'calmar_ratio': 0.1764981254840963,\n",
       " 'avg_win': 155.98242677824268,\n",
       " 'avg_loss': 135.96067053513863,\n",
       " 'win_loss_ratio': 1.1472613820180408,\n",
       " 'expectancy': 4.28938023450587}"
      ]
     },
     "execution_count": 35,
     "metadata": {},
     "output_type": "execute_result"
    }
   ],
   "source": [
    "metrics"
   ]
  },
  {
   "cell_type": "code",
   "execution_count": null,
   "id": "e9eaeaca",
   "metadata": {},
   "outputs": [],
   "source": []
  }
 ],
 "metadata": {
  "kernelspec": {
   "display_name": "Python 3 (ipykernel)",
   "language": "python",
   "name": "python3"
  },
  "language_info": {
   "codemirror_mode": {
    "name": "ipython",
    "version": 3
   },
   "file_extension": ".py",
   "mimetype": "text/x-python",
   "name": "python",
   "nbconvert_exporter": "python",
   "pygments_lexer": "ipython3",
   "version": "3.9.13"
  },
  "toc": {
   "base_numbering": 1,
   "nav_menu": {},
   "number_sections": true,
   "sideBar": true,
   "skip_h1_title": false,
   "title_cell": "Table of Contents",
   "title_sidebar": "Contents",
   "toc_cell": true,
   "toc_position": {},
   "toc_section_display": true,
   "toc_window_display": false
  }
 },
 "nbformat": 4,
 "nbformat_minor": 5
}
